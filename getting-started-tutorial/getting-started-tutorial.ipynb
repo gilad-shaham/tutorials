{
 "cells": [
  {
   "cell_type": "markdown",
   "metadata": {},
   "source": [
    "# Getting Started with the Iguazio Data Science Platform"
   ]
  },
  {
   "cell_type": "markdown",
   "metadata": {},
   "source": [
    "<a id=\"gs-overview\"></a>"
   ]
  },
  {
   "cell_type": "markdown",
   "metadata": {},
   "source": [
    "## Overview"
   ]
  },
  {
   "cell_type": "markdown",
   "metadata": {},
   "source": [
    "This tutorial is designed to demonstrate some of the main capabilities of the Iguazio Data Science Platform (**\"the platform\"**).\n",
    "The tutorial walks you through a basic machine-learning (ML) workflow, which includes the following steps; before running the steps, ensure that the required [prerequisites](#gs-prerequisites) are met:\n",
    "\n",
    "1. [Create and configure a new project](#gs-step-project-create-n-config)\n",
    "2. [Ingest a data set](#gs-step-ingest-data)\n",
    "3. [Explore the data](#gs-step-explore-data)\n",
    "4. [Run model training at scale](#gs-step-run-model-training)\n",
    "5. [Test your model](#gs-step-test-model)\n",
    "6. [Create and run a fully automated ML pipeline](#gs-step-create-n-run-ml-pipeline)\n",
    "\n",
    "By the end of this tutorial you will learn how to\n",
    "\n",
    "1. Create a new platform project.\n",
    "2. Create functions and track experiments while running them.\n",
    "3. Store artifacts to be used and managed in a central database.\n",
    "4. Leverage the MLRun functions marketplace.\n",
    "5. Create an automated ML pipeline.\n",
    "6. Run your code on a distributed Kubernetes cluster without any DevOps overhead.\n",
    "7. Create a scalable endpoint for model serving.\n",
    "\n",
    "The tutorial uses the [Iris flower data set](http://archive.ics.uci.edu/ml/datasets/iris) &mdash; a popular data set that is widely used for basic data science tutorials.\n",
    "The data set contains a set of 150 records under five attributes &mdash; petal length, petal width, sepal length, sepal width, and species. Your model will classify the species based on the other four attributes."
   ]
  },
  {
   "cell_type": "markdown",
   "metadata": {},
   "source": [
    "<a id=\"gs-prerequisites\"></a>"
   ]
  },
  {
   "cell_type": "markdown",
   "metadata": {},
   "source": [
    "## Prerequisites"
   ]
  },
  {
   "cell_type": "markdown",
   "metadata": {},
   "source": [
    "<a id=\"gs-mlrun-install\"></a>The tutorial uses MLRun to create a project, implement and execute an ML pipeline, and track the execution.\n",
    "(For more information about MLRun, see Step 1.)\n",
    "To use MLRun, you must first ensure that it's installed and running as a service on your platform cluster.\n",
    "Look for an `mlrun` service on the **Services** page of the platform dashboard.\n",
    "For more information and additional assistance, contact the Iguazio [support team](mailto:support@iguazio.com).\n",
    "\n",
    "To use MLRun from Jupyter Notebook, you need to run the following code to install the `mlrun` Python package.\n",
    "This needs to be done only once per Jupyter Notebook service.\n",
    "> **Note:** You must **restart the Jupyter kernel** to complete the installation."
   ]
  },
  {
   "cell_type": "code",
   "execution_count": null,
   "metadata": {},
   "outputs": [],
   "source": [
    "!python -m pip install mlrun"
   ]
  },
  {
   "cell_type": "markdown",
   "metadata": {},
   "source": [
    "<a id=\"gs-step-project-create-n-config\"></a>"
   ]
  },
  {
   "cell_type": "markdown",
   "metadata": {},
   "source": [
    "## Step 1: Create and Configure a New Project"
   ]
  },
  {
   "cell_type": "markdown",
   "metadata": {},
   "source": [
    "Start out by creating a new platform project and making some initial configurations."
   ]
  },
  {
   "cell_type": "markdown",
   "metadata": {},
   "source": [
    "<a id=\"gs-create-project\"></a>"
   ]
  },
  {
   "cell_type": "markdown",
   "metadata": {},
   "source": [
    "### Create a New Project"
   ]
  },
  {
   "cell_type": "markdown",
   "metadata": {},
   "source": [
    "Projects in the platform are used to package multiple functions, workflows, and artifacts.\n",
    "Projects are created by using the `new_project` MLRun method, which receives the following parameters:\n",
    "\n",
    "- **`name`** (Required) &mdash; the project name.\n",
    "- **`context`** &mdash; the path to a local project directory (the project's context directory).\n",
    "  The project directory contains a project-configuration file (default: **project.yaml**), which defines the project, and additional generated Python code.\n",
    "  The project file is created when you save your project (using the `save` MLRun project method), as demonstrated in Step 6.\n",
    "- **`functions`** &mdash; a list of functions objects or links to function code or objects.\n",
    "- **`init_git`** &mdash; set to `True` to perform Git initialization of the project directory (`context`).\n",
    "  > **Note:** It's customary to store project code and definitions in a Git repository.\n",
    "\n",
    "Projects are visible in the MLRun dashboard only after they're saved to the MLRun database, which happens whenever you run code for a project.\n",
    "\n",
    "The following code creates a project named \"getting-started-iris-&lt;V3IO_USERNAME&gt;\", where **&lt;V3IO_USERNAME&gt;** is your current running username in the platform, and sets the project directory to a **conf** directory in the current tutorial directory (**/User/getting-started-tutorial/conf**).\n",
    "\n",
    "> **Note:** Platform projects are shared among all users of the parent tenant, to facilitate collaboration. Therefore,\n",
    ">\n",
    "> - Synchronize your projects execution with other users on your platform cluster, as needed, or use unique project names to avoid conflicts.\n",
    ">   You can easily change the default project name for this tutorial by changing the definition of the `project_name` variable in the following code.\n",
    "> - Don't include in your project proprietary information that you don't want to expose to other users.\n",
    ">   Note that while projects are a useful tool, you can easily develop and run code in the platform without using projects."
   ]
  },
  {
   "cell_type": "code",
   "execution_count": 1,
   "metadata": {},
   "outputs": [
    {
     "name": "stdout",
     "output_type": "stream",
     "text": [
      "Project path: /User/getting-started-tutorial/conf\n",
      "Project name: getting-started-iris-iguazio\n"
     ]
    }
   ],
   "source": [
    "from os import path, getenv\n",
    "from mlrun import new_project\n",
    "\n",
    "project_name = '-'.join(filter(None, ['getting-started-iris', getenv('V3IO_USERNAME', None)]))\n",
    "project_path = path.abspath('conf')\n",
    "project = new_project(project_name, project_path, init_git=True)\n",
    "\n",
    "print(f'Project path: {project_path}\\nProject name: {project_name}')"
   ]
  },
  {
   "cell_type": "markdown",
   "metadata": {},
   "source": [
    "<a id=\"gs-mlrun-config\"></a>"
   ]
  },
  {
   "cell_type": "markdown",
   "metadata": {},
   "source": [
    "### Configure MLRun"
   ]
  },
  {
   "cell_type": "markdown",
   "metadata": {},
   "source": [
    "[MLRun](https://github.com/mlrun/mlrun) is a generic and convenient mechanism for data scientists and software developers to describe and run tasks related to machine learning in various, scalable runtime environments and ML pipelines while automatically tracking executed code, metadata, inputs, and outputs.\n",
    "MLRun integrates with the Nuclio serverless framework and with the Kubeflow Pipelines framework for running ML pipelines.\n",
    "The tutorial uses MLRun to create a project, implement and execute an ML pipeline, and track the execution.\n",
    "Before running your code, you need to set some MLRun configurations:\n",
    "\n",
    "- <a id=\"gs-mlrun-config-artifcats-path\"></a>**Artifacts path** &mdash; the location for storing versioned data artifacts (such as files, objects, data sets, and models) that are produced or consumed by functions, runs, and workflows.\n",
    "  The path can be defined either as a local directory path or as a URL (of the format `s3://*`, `v3io://*`, etc.).\n",
    "  You can set the artifacts path either by defining an `MLRUN_ARTIFACT_PATH` environment variable (which applies globally throughout the current environment) or as part of the MLRun configuration.\n",
    " \n",
    "  If the target directory doesn't exist, MLRun creates it.\n",
    "  You can use the notation `{{run.uid}}` in the path to signify the current run ID.\n",
    "  For pipelines, you can use the notation `{{workflow.uid}}` to signify the workflow ID.\n",
    "  This allows you to create a unique artifacts directory for each executed job or workflow.\n",
    "\n",
    "  After you run an MLRun job, the artifacts directory might contain one or more of the following directories:\n",
    " \n",
    "  - **plots** &mdash; a directory for storing images, figures, and plotlines.\n",
    "  - **models** &mdash; a directory for storing all trained models.\n",
    "  - **data** &mdash; a directory for storing any other type of data artifact, such as data sets.\n",
    "\n",
    "\n",
    "- <a id=\"gs-mlrun-config-mlrun-db-path\"></a>**The MLRun DB path** &mdash; the path to an MLRun database (DB) directory or the URL of an MLRun API service.\n",
    "  The MLRun service initializes `mlconf.dbpath` to the default API URL for the current environment (usually `http://mlrun-api:8080`).\n",
    "\n",
    "The following code sets the artifacts path to a **jobs** directory within the tutorial directory (**/User/getting-started-tutorial/jobs**), and the MLRun DB path to the currently configured MLRun DB path, if exists, or to `http://mlrun-api:8080` otherwise.\n",
    "(In Step 6 of the tutorial, you'll create a full pipeline and store the pipeline artifacts in a **pipeline** tutorial directory.)"
   ]
  },
  {
   "cell_type": "code",
   "execution_count": 2,
   "metadata": {},
   "outputs": [
    {
     "name": "stdout",
     "output_type": "stream",
     "text": [
      "Artifacts path: /User/getting-started-tutorial/jobs\n",
      "MLRun DB path: http://mlrun-api:8080\n"
     ]
    }
   ],
   "source": [
    "from mlrun import run_local, NewTask, mlconf, import_function, mount_v3io\n",
    "\n",
    "# Target location for storing pipeline artifacts\n",
    "artifact_path = path.abspath('jobs')\n",
    "# MLRun DB path or API service URL\n",
    "mlconf.dbpath = mlconf.dbpath or 'http://mlrun-api:8080'\n",
    "\n",
    "print(f'Artifacts path: {artifact_path}\\nMLRun DB path: {mlconf.dbpath}')"
   ]
  },
  {
   "cell_type": "markdown",
   "metadata": {},
   "source": [
    "<a id=\"gs-nuclio-import-n-config\"></a>"
   ]
  },
  {
   "cell_type": "markdown",
   "metadata": {},
   "source": [
    "### Import and Configure Nuclio"
   ]
  },
  {
   "cell_type": "markdown",
   "metadata": {},
   "source": [
    "[Nuclio](https://nuclio.io/) is a high-performance open-source and managed serverless framework, which is available as a predefined tenant-wide platform service (`nuclio`).\n",
    "The tutorial uses Nuclio to create and deploy serverless functions.\n",
    "Therefore, you need to import the Nuclio package and configure Nuclio for your project.\n",
    "\n",
    "The platform's Jupyter Notebook service preinstalls the [nuclio-jupyter SDK](https://github.com/nuclio/nuclio-jupyter/blob/master/README.md) for creating and deploying Nuclio functions with Python and Jupyter Notebook.\n",
    "The tutorial uses the Nuclio magic commands and annotation comments of this SDK to automate function code generation.\n",
    "The magic commands are initialized when you import the `nuclio` package.<br>\n",
    "The `%nuclio` magic commands are used to run Nuclio commands from Jupyter notebooks (`%nuclio <Nuclio command>`).\n",
    "You can also use `%%nuclio` at the start of a cell to identify the entire cell as containing Nuclio code.\n",
    "The magic commands are initialized when you import the `nuclio` package.<br>\n",
    "The `# nuclio: start-code`, `# nuclio: end-code`, and `# nuclio: ignore` section-marker annotations notify Nuclio of the beginning or end of code sections.\n",
    "Nuclio ignores all notebook code before a `# nuclio: start-code` marker or after an `# nuclio: end-code` marker.\n",
    "Nuclio translates all other notebook code sections into function code, except for sections that are marked with the `# nuclio: ignore` marker."
   ]
  },
  {
   "cell_type": "markdown",
   "metadata": {},
   "source": [
    "#### Import Nuclio"
   ]
  },
  {
   "cell_type": "markdown",
   "metadata": {},
   "source": [
    "The following code imports the `nuclio` Python package."
   ]
  },
  {
   "cell_type": "code",
   "execution_count": 3,
   "metadata": {},
   "outputs": [],
   "source": [
    "import nuclio"
   ]
  },
  {
   "cell_type": "markdown",
   "metadata": {},
   "source": [
    "#### Configure Nuclio"
   ]
  },
  {
   "cell_type": "markdown",
   "metadata": {},
   "source": [
    "The following code uses the `# nuclio: start-code` marker to instruct Nuclio to start processing code only from this location, and then performs basic Nuclio function configuration &mdash; defining the name of the function's container image (`mlrun/ml-models`) and the function type (`job`).\n",
    "\n",
    "> **Note:** You can add code to define function dependencies and perform additional configuration after the `# nuclio: start-code` marker."
   ]
  },
  {
   "cell_type": "code",
   "execution_count": 4,
   "metadata": {},
   "outputs": [],
   "source": [
    "# nuclio: start-code"
   ]
  },
  {
   "cell_type": "code",
   "execution_count": 5,
   "metadata": {},
   "outputs": [
    {
     "name": "stdout",
     "output_type": "stream",
     "text": [
      "%nuclio: setting spec.image to 'mlrun/ml-models'\n",
      "%nuclio: setting kind to 'job'\n"
     ]
    }
   ],
   "source": [
    "%nuclio config spec.image = \"mlrun/ml-models\"\n",
    "%nuclio config kind = \"job\""
   ]
  },
  {
   "cell_type": "markdown",
   "metadata": {},
   "source": [
    "<a id=\"gs-step-ingest-data\"></a>"
   ]
  },
  {
   "cell_type": "markdown",
   "metadata": {},
   "source": [
    "## Step 2: Ingest a Data Set"
   ]
  },
  {
   "cell_type": "markdown",
   "metadata": {},
   "source": [
    "Define and run a Python function that downloads the Iris flower data set from Amazon Web Services (AWS) S3 bucket to the platform's local NoSQL data store, and stores it as an MLRun data set."
   ]
  },
  {
   "cell_type": "markdown",
   "metadata": {},
   "source": [
    "<a id=\"gs-step-ingest-data-init\"></a>"
   ]
  },
  {
   "cell_type": "markdown",
   "metadata": {},
   "source": [
    "### Initialization"
   ]
  },
  {
   "cell_type": "markdown",
   "metadata": {},
   "source": [
    "Define the source URL for downloading the data set.\n",
    "\n",
    "> **Note:** As explained earlier, the `nuclio: ignore` annotation is used to instruct Nuclio to ignore this cell. "
   ]
  },
  {
   "cell_type": "code",
   "execution_count": 6,
   "metadata": {},
   "outputs": [],
   "source": [
    "# nuclio: ignore\n",
    "# Set the source-data URL\n",
    "source_url = 'http://iguazio-sample-data.s3.amazonaws.com/iris_dataset.csv'"
   ]
  },
  {
   "cell_type": "markdown",
   "metadata": {},
   "source": [
    "<a id=\"gs-step-ingest-data-define-function\"></a>"
   ]
  },
  {
   "cell_type": "markdown",
   "metadata": {},
   "source": [
    "### Define a Data-Ingestion Function"
   ]
  },
  {
   "cell_type": "markdown",
   "metadata": {},
   "source": [
    "Define a data-ingestion function that downloads the configured data set from an AWS S3 bucket and saves it to the platform's local NoSQL data store."
   ]
  },
  {
   "cell_type": "code",
   "execution_count": 7,
   "metadata": {},
   "outputs": [],
   "source": [
    "from os import path\n",
    "import pandas as pd\n",
    "\n",
    "\n",
    "# Ingest a data set into the platform\n",
    "def get_data(context, source_url, format='csv'):\n",
    "\n",
    "    iris_dataset = source_url.as_df()\n",
    "\n",
    "    target_path = path.join(context.artifact_path, 'data')\n",
    "    # Optionally print data to your logger\n",
    "    context.logger.info('Saving Iris data set to {} ...'.format(target_path))\n",
    "\n",
    "    # Store the data set in your artifacts database\n",
    "    context.log_dataset('iris_dataset', df=iris_dataset, format=format,\n",
    "                        index=False, artifact_path=target_path)"
   ]
  },
  {
   "cell_type": "markdown",
   "metadata": {},
   "source": [
    "The following cell uses the `# nuclio: end-code` marker to mark the end of a Nuclio code section and instruct Nuclio to stop parsing the notebook at this point.<br>\n",
    "> **IMPORTANT:** Do not remove the end-code cell."
   ]
  },
  {
   "cell_type": "code",
   "execution_count": 8,
   "metadata": {},
   "outputs": [],
   "source": [
    "# nuclio: end-code"
   ]
  },
  {
   "cell_type": "markdown",
   "metadata": {},
   "source": [
    "<a id='gs-run-ingest-func'></a>"
   ]
  },
  {
   "cell_type": "markdown",
   "metadata": {},
   "source": [
    "### Run the Data-Ingestion Function"
   ]
  },
  {
   "cell_type": "markdown",
   "metadata": {},
   "source": [
    "MLRun enables you to run function code either locally in your preferred development environment (IDE) or web notebook (in this case, Jupyter Notebook), or on a large cluster (in this case, the platform's distributed Kubernetes cluster).\n",
    "\n",
    "For either execution method, you can specify function parameters, inputs, and outputs either by passing them as parameters to the run method (as done in this tutorial) or by configuring them in a task object that is then passed to the run method; (for more information about tasks, see Step 4 of this tutorial).\n",
    "In each run, you can specify new function inputs, parameters/hyperparameters, etc.\n",
    "For more information, see the [**mlrun_basics**](https://github.com/mlrun/mlrun/blob/master/examples/mlrun_basics.ipynb) example notebook.\n",
    "\n",
    "After the code execution completes, review the output, as demonstrated in the next sections."
   ]
  },
  {
   "cell_type": "markdown",
   "metadata": {},
   "source": [
    "#### Run the Function Locally in Jupyter Notebook"
   ]
  },
  {
   "cell_type": "markdown",
   "metadata": {},
   "source": [
    "Start out by running your function locally from within Jupyter Notebook.\n",
    "This is done by using the MLRun `run_local` method.\n",
    "\n",
    "When using this method, the function's inputs and outputs are automatically recorded and stored in the MLRun experiment and data-tracking database (**\"the MLRun DB\"**)."
   ]
  },
  {
   "cell_type": "code",
   "execution_count": 9,
   "metadata": {},
   "outputs": [
    {
     "name": "stdout",
     "output_type": "stream",
     "text": [
      "[mlrun] 2020-06-25 13:31:45,647 starting run get_data uid=240f67b74aeb477fa52e1fc8285d8af5  -> http://mlrun-api:8080\n",
      "[mlrun] 2020-06-25 13:31:45,995 Saving Iris data set to /User/getting-started-tutorial/jobs/data ...\n",
      "\n"
     ]
    },
    {
     "data": {
      "text/html": [
       "<style> \n",
       ".dictlist {\n",
       "  background-color: #b3edff; \n",
       "  text-align: center; \n",
       "  margin: 4px; \n",
       "  border-radius: 3px; padding: 0px 3px 1px 3px; display: inline-block;}\n",
       ".artifact {\n",
       "  cursor: pointer; \n",
       "  background-color: #ffe6cc; \n",
       "  text-align: left; \n",
       "  margin: 4px; border-radius: 3px; padding: 0px 3px 1px 3px; display: inline-block;\n",
       "}\n",
       "div.block.hidden {\n",
       "  display: none;\n",
       "}\n",
       ".clickable {\n",
       "  cursor: pointer;\n",
       "}\n",
       ".ellipsis {\n",
       "  display: inline-block;\n",
       "  max-width: 60px;\n",
       "  white-space: nowrap;\n",
       "  overflow: hidden;\n",
       "  text-overflow: ellipsis;\n",
       "}\n",
       ".master-wrapper {\n",
       "  display: flex;\n",
       "  flex-flow: row nowrap;\n",
       "  justify-content: flex-start;\n",
       "  align-items: stretch;\n",
       "}\n",
       ".master-tbl {\n",
       "  flex: 3\n",
       "}\n",
       ".master-wrapper > div {\n",
       "  margin: 4px;\n",
       "  padding: 10px;\n",
       "}\n",
       "iframe.fileview {\n",
       "  border: 0 none;\n",
       "  height: 100%;\n",
       "  width: 100%;\n",
       "  white-space: pre-wrap;\n",
       "}\n",
       ".pane-header-title {\n",
       "  width: 80%;\n",
       "  font-weight: 500;\n",
       "}\n",
       ".pane-header {\n",
       "  line-height: 1;\n",
       "  background-color: #ffe6cc;\n",
       "  padding: 3px;\n",
       "}\n",
       ".pane-header .close {\n",
       "  font-size: 20px;\n",
       "  font-weight: 700;\n",
       "  float: right;\n",
       "  margin-top: -5px;\n",
       "}\n",
       ".master-wrapper .right-pane {\n",
       "  border: 1px inset silver;\n",
       "  width: 40%;\n",
       "  min-height: 300px;\n",
       "  flex: 3\n",
       "  min-width: 500px;\n",
       "}\n",
       ".master-wrapper * {\n",
       "  box-sizing: border-box;\n",
       "}\n",
       "</style><script>\n",
       "function copyToClipboard(fld) {\n",
       "    if (document.queryCommandSupported && document.queryCommandSupported('copy')) {\n",
       "        var textarea = document.createElement('textarea');\n",
       "        textarea.textContent = fld.innerHTML;\n",
       "        textarea.style.position = 'fixed';\n",
       "        document.body.appendChild(textarea);\n",
       "        textarea.select();\n",
       "\n",
       "        try {\n",
       "            return document.execCommand('copy'); // Security exception may be thrown by some browsers.\n",
       "        } catch (ex) {\n",
       "\n",
       "        } finally {\n",
       "            document.body.removeChild(textarea);\n",
       "        }\n",
       "    }\n",
       "}\n",
       "function expandPanel(el) {\n",
       "  const panelName = \"#\" + el.getAttribute('paneName');\n",
       "  console.log(el.title);\n",
       "\n",
       "  document.querySelector(panelName + \"-title\").innerHTML = el.title\n",
       "  iframe = document.querySelector(panelName + \"-body\");\n",
       "  \n",
       "  const tblcss = `<style> body { font-family: Arial, Helvetica, sans-serif;}\n",
       "    #csv { margin-bottom: 15px; }\n",
       "    #csv table { border-collapse: collapse;}\n",
       "    #csv table td { padding: 4px 8px; border: 1px solid silver;} </style>`;\n",
       "\n",
       "  function csvToHtmlTable(str) {\n",
       "    return '<div id=\"csv\"><table><tr><td>' +  str.replace(/[\\n\\r]+$/g, '').replace(/[\\n\\r]+/g, '</td></tr><tr><td>')\n",
       "      .replace(/,/g, '</td><td>') + '</td></tr></table></div>';\n",
       "  }\n",
       "  \n",
       "  function reqListener () {\n",
       "    if (el.title.endsWith(\".csv\")) {\n",
       "      iframe.setAttribute(\"srcdoc\", tblcss + csvToHtmlTable(this.responseText));\n",
       "    } else {\n",
       "      iframe.setAttribute(\"srcdoc\", this.responseText);\n",
       "    }  \n",
       "    console.log(this.responseText);\n",
       "  }\n",
       "\n",
       "  const oReq = new XMLHttpRequest();\n",
       "  oReq.addEventListener(\"load\", reqListener);\n",
       "  oReq.open(\"GET\", el.title);\n",
       "  oReq.send();\n",
       "  \n",
       "  \n",
       "  //iframe.src = el.title;\n",
       "  const resultPane = document.querySelector(panelName + \"-pane\");\n",
       "  if (resultPane.classList.contains(\"hidden\")) {\n",
       "    resultPane.classList.remove(\"hidden\");\n",
       "  }\n",
       "}\n",
       "function closePanel(el) {\n",
       "  const panelName = \"#\" + el.getAttribute('paneName')\n",
       "  const resultPane = document.querySelector(panelName + \"-pane\");\n",
       "  if (!resultPane.classList.contains(\"hidden\")) {\n",
       "    resultPane.classList.add(\"hidden\");\n",
       "  }\n",
       "}\n",
       "\n",
       "</script>\n",
       "<div class=\"master-wrapper\">\n",
       "  <div class=\"block master-tbl\"><div>\n",
       "<style scoped>\n",
       "    .dataframe tbody tr th:only-of-type {\n",
       "        vertical-align: middle;\n",
       "    }\n",
       "\n",
       "    .dataframe tbody tr th {\n",
       "        vertical-align: top;\n",
       "    }\n",
       "\n",
       "    .dataframe thead th {\n",
       "        text-align: right;\n",
       "    }\n",
       "</style>\n",
       "<table border=\"1\" class=\"dataframe\">\n",
       "  <thead>\n",
       "    <tr style=\"text-align: right;\">\n",
       "      <th>project</th>\n",
       "      <th>uid</th>\n",
       "      <th>iter</th>\n",
       "      <th>start</th>\n",
       "      <th>state</th>\n",
       "      <th>name</th>\n",
       "      <th>labels</th>\n",
       "      <th>inputs</th>\n",
       "      <th>parameters</th>\n",
       "      <th>results</th>\n",
       "      <th>artifacts</th>\n",
       "    </tr>\n",
       "  </thead>\n",
       "  <tbody>\n",
       "    <tr>\n",
       "      <td>getting-started-iris-iguazio</td>\n",
       "      <td><div title=\"240f67b74aeb477fa52e1fc8285d8af5\"><a href=\"https://mlrun-ui.default-tenant.app.cs-mlrun-test.iguazio-c0.com/projects/getting-started-iris-iguazio/jobs/240f67b74aeb477fa52e1fc8285d8af5/info\" target=\"_blank\" >...285d8af5</a></div></td>\n",
       "      <td>0</td>\n",
       "      <td>Jun 25 13:31:45</td>\n",
       "      <td>completed</td>\n",
       "      <td>get_data</td>\n",
       "      <td><div class=\"dictlist\">v3io_user=iguazio</div><div class=\"dictlist\">kind=handler</div><div class=\"dictlist\">owner=iguazio</div><div class=\"dictlist\">host=iguazio-jupyter-5bcf4bffc8-fl94k</div></td>\n",
       "      <td><div title=\"http://iguazio-sample-data.s3.amazonaws.com/iris_dataset.csv\">source_url</div></td>\n",
       "      <td></td>\n",
       "      <td></td>\n",
       "      <td><div class=\"artifact\" onclick=\"expandPanel(this)\" paneName=\"result41b3972c\" title=\"/files/getting-started-tutorial/jobs/data/iris_dataset.csv\">iris_dataset</div></td>\n",
       "    </tr>\n",
       "  </tbody>\n",
       "</table>\n",
       "</div></div>\n",
       "  <div id=\"result41b3972c-pane\" class=\"right-pane block hidden\">\n",
       "    <div class=\"pane-header\">\n",
       "      <span id=\"result41b3972c-title\" class=\"pane-header-title\">Title</span>\n",
       "      <span onclick=\"closePanel(this)\" paneName=\"result41b3972c\" class=\"close clickable\">&times;</span>\n",
       "    </div>\n",
       "    <iframe class=\"fileview\" id=\"result41b3972c-body\"></iframe>\n",
       "  </div>\n",
       "</div>\n"
      ],
      "text/plain": [
       "<IPython.core.display.HTML object>"
      ]
     },
     "metadata": {},
     "output_type": "display_data"
    },
    {
     "name": "stdout",
     "output_type": "stream",
     "text": [
      "to track results use .show() or .logs() or in CLI: \n",
      "!mlrun get run 240f67b74aeb477fa52e1fc8285d8af5 --project getting-started-iris-iguazio , !mlrun logs 240f67b74aeb477fa52e1fc8285d8af5 --project getting-started-iris-iguazio\n",
      "[mlrun] 2020-06-25 13:31:46,355 run executed, status=completed\n"
     ]
    }
   ],
   "source": [
    "# Run the data-ingestion function locally in Jupyter Notebook\n",
    "get_data_run = run_local(name='get_data',\n",
    "                         handler=get_data,\n",
    "                         inputs={'source_url': source_url},\n",
    "                         project=project_name, artifact_path=artifact_path)"
   ]
  },
  {
   "cell_type": "markdown",
   "metadata": {},
   "source": [
    "<a id=\"gs-ingest-func-output-review\"></a>"
   ]
  },
  {
   "cell_type": "markdown",
   "metadata": {},
   "source": [
    "### Review the Run Output"
   ]
  },
  {
   "cell_type": "markdown",
   "metadata": {},
   "source": [
    "The output cell for your function execution contains a table with run information &mdash; including the state of the execution, all inputs and parameters, and the execution results and artifacts.\n",
    "Click on the `iris_dataset` artifact in the **artifacts** column to see a short summary of the data set, as illustrated in the following image:\n",
    "<br><br>\n",
    "![getting_started-get_data-details](./assets/getting_started-get_data-details.png)"
   ]
  },
  {
   "cell_type": "markdown",
   "metadata": {},
   "source": [
    "MLRun features a graphical user interface (**\"the MLRun dashboard\"**), which displays detailed information about executed jobs, artifacts, and functions &mdash; including job states, inputs, parameters, artifacts, execution results, and logs.\n",
    "This dashboard also allows you to filter the display based on different criteria.<br>\n",
    "To open the dashboard, simply select the MLRun service link (`mlrun`) from the **Services** page of the platform dashboard.\n",
    "\n",
    "On the MLRun dashboard's **Projects** home page, select the **Jobs** link for the current project (\"getting-started-iris\") to open a **Jobs** page with a **Monitor** tab that displays information about the project's executed jobs:\n",
    "<br><br>\n",
    "<img src=\"./assets/getting_started-ui-jobs-monitor.png\" alt=\"ui-jobs-monitor\" width=\"800\"/>"
   ]
  },
  {
   "cell_type": "markdown",
   "metadata": {},
   "source": [
    "Select the `get_data` function to see detailed information about the function and its execution &mdash; including the execution start time and status, metadata, inputs, artifacts, run results, and logs:\n",
    "<br><br>\n",
    "<img src=\"./assets/getting_started-get_data-ui-jobs.png\" alt=\"get-iris-data-ui-jobs\" width=\"800\"/>"
   ]
  },
  {
   "cell_type": "markdown",
   "metadata": {},
   "source": [
    "Return to the dashboard's **Projects** home page and select the **Artifacts** link for the current project to open an **Artifacts** page with a **Monitor** tab that displays information about your project's artifacts.\n",
    "Select the \"get_data_iris_dataset\" artifact to view information about the \"iris_dataset\" artifact of the `get_data` function (**iris_dataset.csv**); note that you can also preview the data set and see related metadata:\n",
    "<br><br>\n",
    "<img src=\"./assets/getting_started-get_data-ui-artifacts.png\" alt=\"get-iris-data-ui-artifacts\" width=\"800\"/>"
   ]
  },
  {
   "cell_type": "markdown",
   "metadata": {},
   "source": [
    "> **Note:** There are also other ways that you can view run artifacts, in addition to the notebook run-output table and the MLRun dashboard:\n",
    "> - In your notebook, use Python print or display methods, such as `IPython.display`, to display the artifact of a run object, as demonstrated later in this tutorial.\n",
    "> - On the platform dashboard, select **Data** from the side navigation menu, and then select your data container from the **Browse** tab; the tutorial stores data in the \"users\" container.\n",
    ">   Then, navigate to your project's artifacts directory, locate the artifact file, and double-click it to view it in the browse table.<br>\n",
    ">   You can also download platform data files from the dashboard to your local environment.\n",
    "> - In the JupyterLab file browser, navigate to the project's artifacts directory (**/User/getting-started-tutorial/jobs** for this tutorial), locate the artifact file, and select it to view the file from the Jupyter UI."
   ]
  },
  {
   "cell_type": "markdown",
   "metadata": {},
   "source": [
    "#### Run the Function on a Cluster"
   ]
  },
  {
   "cell_type": "markdown",
   "metadata": {},
   "source": [
    "One of the key benefits of Iguazio Data Science Platform is the ability to easily run any code on a distributed Kubernetes cluster and achieve better performance.\n",
    "To do so, you first need to convert your notebook code into a function that can run on the cluster, and then run this function."
   ]
  },
  {
   "cell_type": "markdown",
   "metadata": {},
   "source": [
    "##### Convert the Notebook Code Into a Function"
   ]
  },
  {
   "cell_type": "markdown",
   "metadata": {},
   "source": [
    "Use the MLRun `code_to_function` method to convert your notebook code into a project MLRun function &mdash; a function object with embedded code, which can run on the cluster.\n",
    "This will also come in handy later in the tutorial, after you create an automated pipeline.\n",
    "\n",
    "The following code converts the code of your local `get-data` data-ingestion function into a `gen_func` project function.\n",
    "(For more information about the `set_function` MLRun project method, which is used to add the new project function, see Step 3.)"
   ]
  },
  {
   "cell_type": "code",
   "execution_count": 10,
   "metadata": {},
   "outputs": [
    {
     "data": {
      "text/plain": [
       "<mlrun.runtimes.kubejob.KubejobRuntime at 0x7ff07cea1828>"
      ]
     },
     "execution_count": 10,
     "metadata": {},
     "output_type": "execute_result"
    }
   ],
   "source": [
    "from mlrun import code_to_function\n",
    "\n",
    "# Convert the local get_data function into a gen_func project function\n",
    "gen_func = code_to_function(name='get-data')\n",
    "project.set_function(gen_func)"
   ]
  },
  {
   "cell_type": "markdown",
   "metadata": {},
   "source": [
    "##### Run the Function on the Cluster"
   ]
  },
  {
   "cell_type": "markdown",
   "metadata": {},
   "source": [
    "After you create the project function, you can run it on the platform's distributed Kubernetes cluster.\n",
    "The execution code is similar to the code used for the local execution, except that the `run_local` method is replaced with the `run` method.\n",
    "\n",
    "When the execution is done, review the output as you did for the local execution."
   ]
  },
  {
   "cell_type": "code",
   "execution_count": 11,
   "metadata": {},
   "outputs": [
    {
     "name": "stdout",
     "output_type": "stream",
     "text": [
      "[mlrun] 2020-06-25 13:31:49,565 starting run get_data uid=aed61bae9f7d497abbc2cee593ebd519  -> http://mlrun-api:8080\n",
      "[mlrun] 2020-06-25 13:31:49,984 Job is running in the background, pod: get-data-wnhrd\n",
      "[mlrun] 2020-06-25 13:31:54,033 Saving Iris data set to /User/getting-started-tutorial/jobs/data ...\n",
      "\n",
      "[mlrun] 2020-06-25 13:31:54,247 run executed, status=completed\n",
      "final state: succeeded\n"
     ]
    },
    {
     "data": {
      "text/html": [
       "<style> \n",
       ".dictlist {\n",
       "  background-color: #b3edff; \n",
       "  text-align: center; \n",
       "  margin: 4px; \n",
       "  border-radius: 3px; padding: 0px 3px 1px 3px; display: inline-block;}\n",
       ".artifact {\n",
       "  cursor: pointer; \n",
       "  background-color: #ffe6cc; \n",
       "  text-align: left; \n",
       "  margin: 4px; border-radius: 3px; padding: 0px 3px 1px 3px; display: inline-block;\n",
       "}\n",
       "div.block.hidden {\n",
       "  display: none;\n",
       "}\n",
       ".clickable {\n",
       "  cursor: pointer;\n",
       "}\n",
       ".ellipsis {\n",
       "  display: inline-block;\n",
       "  max-width: 60px;\n",
       "  white-space: nowrap;\n",
       "  overflow: hidden;\n",
       "  text-overflow: ellipsis;\n",
       "}\n",
       ".master-wrapper {\n",
       "  display: flex;\n",
       "  flex-flow: row nowrap;\n",
       "  justify-content: flex-start;\n",
       "  align-items: stretch;\n",
       "}\n",
       ".master-tbl {\n",
       "  flex: 3\n",
       "}\n",
       ".master-wrapper > div {\n",
       "  margin: 4px;\n",
       "  padding: 10px;\n",
       "}\n",
       "iframe.fileview {\n",
       "  border: 0 none;\n",
       "  height: 100%;\n",
       "  width: 100%;\n",
       "  white-space: pre-wrap;\n",
       "}\n",
       ".pane-header-title {\n",
       "  width: 80%;\n",
       "  font-weight: 500;\n",
       "}\n",
       ".pane-header {\n",
       "  line-height: 1;\n",
       "  background-color: #ffe6cc;\n",
       "  padding: 3px;\n",
       "}\n",
       ".pane-header .close {\n",
       "  font-size: 20px;\n",
       "  font-weight: 700;\n",
       "  float: right;\n",
       "  margin-top: -5px;\n",
       "}\n",
       ".master-wrapper .right-pane {\n",
       "  border: 1px inset silver;\n",
       "  width: 40%;\n",
       "  min-height: 300px;\n",
       "  flex: 3\n",
       "  min-width: 500px;\n",
       "}\n",
       ".master-wrapper * {\n",
       "  box-sizing: border-box;\n",
       "}\n",
       "</style><script>\n",
       "function copyToClipboard(fld) {\n",
       "    if (document.queryCommandSupported && document.queryCommandSupported('copy')) {\n",
       "        var textarea = document.createElement('textarea');\n",
       "        textarea.textContent = fld.innerHTML;\n",
       "        textarea.style.position = 'fixed';\n",
       "        document.body.appendChild(textarea);\n",
       "        textarea.select();\n",
       "\n",
       "        try {\n",
       "            return document.execCommand('copy'); // Security exception may be thrown by some browsers.\n",
       "        } catch (ex) {\n",
       "\n",
       "        } finally {\n",
       "            document.body.removeChild(textarea);\n",
       "        }\n",
       "    }\n",
       "}\n",
       "function expandPanel(el) {\n",
       "  const panelName = \"#\" + el.getAttribute('paneName');\n",
       "  console.log(el.title);\n",
       "\n",
       "  document.querySelector(panelName + \"-title\").innerHTML = el.title\n",
       "  iframe = document.querySelector(panelName + \"-body\");\n",
       "  \n",
       "  const tblcss = `<style> body { font-family: Arial, Helvetica, sans-serif;}\n",
       "    #csv { margin-bottom: 15px; }\n",
       "    #csv table { border-collapse: collapse;}\n",
       "    #csv table td { padding: 4px 8px; border: 1px solid silver;} </style>`;\n",
       "\n",
       "  function csvToHtmlTable(str) {\n",
       "    return '<div id=\"csv\"><table><tr><td>' +  str.replace(/[\\n\\r]+$/g, '').replace(/[\\n\\r]+/g, '</td></tr><tr><td>')\n",
       "      .replace(/,/g, '</td><td>') + '</td></tr></table></div>';\n",
       "  }\n",
       "  \n",
       "  function reqListener () {\n",
       "    if (el.title.endsWith(\".csv\")) {\n",
       "      iframe.setAttribute(\"srcdoc\", tblcss + csvToHtmlTable(this.responseText));\n",
       "    } else {\n",
       "      iframe.setAttribute(\"srcdoc\", this.responseText);\n",
       "    }  \n",
       "    console.log(this.responseText);\n",
       "  }\n",
       "\n",
       "  const oReq = new XMLHttpRequest();\n",
       "  oReq.addEventListener(\"load\", reqListener);\n",
       "  oReq.open(\"GET\", el.title);\n",
       "  oReq.send();\n",
       "  \n",
       "  \n",
       "  //iframe.src = el.title;\n",
       "  const resultPane = document.querySelector(panelName + \"-pane\");\n",
       "  if (resultPane.classList.contains(\"hidden\")) {\n",
       "    resultPane.classList.remove(\"hidden\");\n",
       "  }\n",
       "}\n",
       "function closePanel(el) {\n",
       "  const panelName = \"#\" + el.getAttribute('paneName')\n",
       "  const resultPane = document.querySelector(panelName + \"-pane\");\n",
       "  if (!resultPane.classList.contains(\"hidden\")) {\n",
       "    resultPane.classList.add(\"hidden\");\n",
       "  }\n",
       "}\n",
       "\n",
       "</script>\n",
       "<div class=\"master-wrapper\">\n",
       "  <div class=\"block master-tbl\"><div>\n",
       "<style scoped>\n",
       "    .dataframe tbody tr th:only-of-type {\n",
       "        vertical-align: middle;\n",
       "    }\n",
       "\n",
       "    .dataframe tbody tr th {\n",
       "        vertical-align: top;\n",
       "    }\n",
       "\n",
       "    .dataframe thead th {\n",
       "        text-align: right;\n",
       "    }\n",
       "</style>\n",
       "<table border=\"1\" class=\"dataframe\">\n",
       "  <thead>\n",
       "    <tr style=\"text-align: right;\">\n",
       "      <th>project</th>\n",
       "      <th>uid</th>\n",
       "      <th>iter</th>\n",
       "      <th>start</th>\n",
       "      <th>state</th>\n",
       "      <th>name</th>\n",
       "      <th>labels</th>\n",
       "      <th>inputs</th>\n",
       "      <th>parameters</th>\n",
       "      <th>results</th>\n",
       "      <th>artifacts</th>\n",
       "    </tr>\n",
       "  </thead>\n",
       "  <tbody>\n",
       "    <tr>\n",
       "      <td>getting-started-iris-iguazio</td>\n",
       "      <td><div title=\"aed61bae9f7d497abbc2cee593ebd519\"><a href=\"https://mlrun-ui.default-tenant.app.cs-mlrun-test.iguazio-c0.com/projects/getting-started-iris-iguazio/jobs/aed61bae9f7d497abbc2cee593ebd519/info\" target=\"_blank\" >...93ebd519</a></div></td>\n",
       "      <td>0</td>\n",
       "      <td>Jun 25 13:31:53</td>\n",
       "      <td>completed</td>\n",
       "      <td>get_data</td>\n",
       "      <td><div class=\"dictlist\">v3io_user=iguazio</div><div class=\"dictlist\">kind=job</div><div class=\"dictlist\">owner=iguazio</div><div class=\"dictlist\">host=get-data-wnhrd</div></td>\n",
       "      <td><div title=\"http://iguazio-sample-data.s3.amazonaws.com/iris_dataset.csv\">source_url</div></td>\n",
       "      <td></td>\n",
       "      <td></td>\n",
       "      <td><div class=\"artifact\" onclick=\"expandPanel(this)\" paneName=\"resultde61aa56\" title=\"/files/getting-started-tutorial/jobs/data/iris_dataset.csv\">iris_dataset</div></td>\n",
       "    </tr>\n",
       "  </tbody>\n",
       "</table>\n",
       "</div></div>\n",
       "  <div id=\"resultde61aa56-pane\" class=\"right-pane block hidden\">\n",
       "    <div class=\"pane-header\">\n",
       "      <span id=\"resultde61aa56-title\" class=\"pane-header-title\">Title</span>\n",
       "      <span onclick=\"closePanel(this)\" paneName=\"resultde61aa56\" class=\"close clickable\">&times;</span>\n",
       "    </div>\n",
       "    <iframe class=\"fileview\" id=\"resultde61aa56-body\"></iframe>\n",
       "  </div>\n",
       "</div>\n"
      ],
      "text/plain": [
       "<IPython.core.display.HTML object>"
      ]
     },
     "metadata": {},
     "output_type": "display_data"
    },
    {
     "name": "stdout",
     "output_type": "stream",
     "text": [
      "to track results use .show() or .logs() or in CLI: \n",
      "!mlrun get run aed61bae9f7d497abbc2cee593ebd519 --project getting-started-iris-iguazio , !mlrun logs aed61bae9f7d497abbc2cee593ebd519 --project getting-started-iris-iguazio\n",
      "[mlrun] 2020-06-25 13:31:56,291 run executed, status=completed\n"
     ]
    }
   ],
   "source": [
    "get_data_func = project.func('get-data').apply(mount_v3io())\n",
    "get_data_run = get_data_func.run(name='get_data',\n",
    "                                 handler='get_data',\n",
    "                                 inputs={'source_url': source_url},\n",
    "                                 artifact_path=artifact_path)"
   ]
  },
  {
   "cell_type": "markdown",
   "metadata": {},
   "source": [
    "<a id=\"gs-step-explore-data\"></a>"
   ]
  },
  {
   "cell_type": "markdown",
   "metadata": {},
   "source": [
    "## Step 3: Explore the Data"
   ]
  },
  {
   "cell_type": "markdown",
   "metadata": {},
   "source": [
    "Data exploration makes up a big part of the data science work.\n",
    "This step demonstrates how you can use pandas DataFrames or an MLRun marketplace function to read your data set, analyze it to extract statistics, and visualize the information to gain more insight into your data."
   ]
  },
  {
   "cell_type": "markdown",
   "metadata": {},
   "source": [
    "<a id=\"gs-explore-data-w-pandas-df\"></a>"
   ]
  },
  {
   "cell_type": "markdown",
   "metadata": {},
   "source": [
    "### Explore the Data with Pandas DataFrames"
   ]
  },
  {
   "cell_type": "markdown",
   "metadata": {},
   "source": [
    "Run the following code to use pandas DataFrames to read your data set, extract some basic statistics, and display them."
   ]
  },
  {
   "cell_type": "code",
   "execution_count": 12,
   "metadata": {},
   "outputs": [],
   "source": [
    "# Read your data set\n",
    "from mlrun.run import get_dataitem\n",
    "df = get_dataitem(get_data_run.outputs['iris_dataset']).as_df()"
   ]
  },
  {
   "cell_type": "code",
   "execution_count": 13,
   "metadata": {},
   "outputs": [
    {
     "data": {
      "text/html": [
       "<div>\n",
       "<style scoped>\n",
       "    .dataframe tbody tr th:only-of-type {\n",
       "        vertical-align: middle;\n",
       "    }\n",
       "\n",
       "    .dataframe tbody tr th {\n",
       "        vertical-align: top;\n",
       "    }\n",
       "\n",
       "    .dataframe thead th {\n",
       "        text-align: right;\n",
       "    }\n",
       "</style>\n",
       "<table border=\"1\" class=\"dataframe\">\n",
       "  <thead>\n",
       "    <tr style=\"text-align: right;\">\n",
       "      <th></th>\n",
       "      <th>sepal length (cm)</th>\n",
       "      <th>sepal width (cm)</th>\n",
       "      <th>petal length (cm)</th>\n",
       "      <th>petal width (cm)</th>\n",
       "      <th>label</th>\n",
       "    </tr>\n",
       "  </thead>\n",
       "  <tbody>\n",
       "    <tr>\n",
       "      <th>0</th>\n",
       "      <td>5.1</td>\n",
       "      <td>3.5</td>\n",
       "      <td>1.4</td>\n",
       "      <td>0.2</td>\n",
       "      <td>0</td>\n",
       "    </tr>\n",
       "    <tr>\n",
       "      <th>1</th>\n",
       "      <td>4.9</td>\n",
       "      <td>3.0</td>\n",
       "      <td>1.4</td>\n",
       "      <td>0.2</td>\n",
       "      <td>0</td>\n",
       "    </tr>\n",
       "    <tr>\n",
       "      <th>2</th>\n",
       "      <td>4.7</td>\n",
       "      <td>3.2</td>\n",
       "      <td>1.3</td>\n",
       "      <td>0.2</td>\n",
       "      <td>0</td>\n",
       "    </tr>\n",
       "    <tr>\n",
       "      <th>3</th>\n",
       "      <td>4.6</td>\n",
       "      <td>3.1</td>\n",
       "      <td>1.5</td>\n",
       "      <td>0.2</td>\n",
       "      <td>0</td>\n",
       "    </tr>\n",
       "    <tr>\n",
       "      <th>4</th>\n",
       "      <td>5.0</td>\n",
       "      <td>3.6</td>\n",
       "      <td>1.4</td>\n",
       "      <td>0.2</td>\n",
       "      <td>0</td>\n",
       "    </tr>\n",
       "  </tbody>\n",
       "</table>\n",
       "</div>"
      ],
      "text/plain": [
       "   sepal length (cm)  sepal width (cm)  petal length (cm)  petal width (cm)  \\\n",
       "0                5.1               3.5                1.4               0.2   \n",
       "1                4.9               3.0                1.4               0.2   \n",
       "2                4.7               3.2                1.3               0.2   \n",
       "3                4.6               3.1                1.5               0.2   \n",
       "4                5.0               3.6                1.4               0.2   \n",
       "\n",
       "   label  \n",
       "0      0  \n",
       "1      0  \n",
       "2      0  \n",
       "3      0  \n",
       "4      0  "
      ]
     },
     "execution_count": 13,
     "metadata": {},
     "output_type": "execute_result"
    }
   ],
   "source": [
    "# Display a portion of the read data\n",
    "df.head()"
   ]
  },
  {
   "cell_type": "code",
   "execution_count": 14,
   "metadata": {},
   "outputs": [
    {
     "name": "stdout",
     "output_type": "stream",
     "text": [
      "Total number of rows: 150\n"
     ]
    }
   ],
   "source": [
    "# Calculate and display the number of data-set items\n",
    "print(f'Total number of rows: {len(df)}')"
   ]
  },
  {
   "cell_type": "code",
   "execution_count": 15,
   "metadata": {},
   "outputs": [
    {
     "data": {
      "text/html": [
       "<div>\n",
       "<style scoped>\n",
       "    .dataframe tbody tr th:only-of-type {\n",
       "        vertical-align: middle;\n",
       "    }\n",
       "\n",
       "    .dataframe tbody tr th {\n",
       "        vertical-align: top;\n",
       "    }\n",
       "\n",
       "    .dataframe thead tr th {\n",
       "        text-align: left;\n",
       "    }\n",
       "\n",
       "    .dataframe thead tr:last-of-type th {\n",
       "        text-align: right;\n",
       "    }\n",
       "</style>\n",
       "<table border=\"1\" class=\"dataframe\">\n",
       "  <thead>\n",
       "    <tr>\n",
       "      <th></th>\n",
       "      <th colspan=\"8\" halign=\"left\">sepal length (cm)</th>\n",
       "      <th colspan=\"2\" halign=\"left\">sepal width (cm)</th>\n",
       "      <th>...</th>\n",
       "      <th colspan=\"2\" halign=\"left\">petal length (cm)</th>\n",
       "      <th colspan=\"8\" halign=\"left\">petal width (cm)</th>\n",
       "    </tr>\n",
       "    <tr>\n",
       "      <th></th>\n",
       "      <th>count</th>\n",
       "      <th>mean</th>\n",
       "      <th>std</th>\n",
       "      <th>min</th>\n",
       "      <th>25%</th>\n",
       "      <th>50%</th>\n",
       "      <th>75%</th>\n",
       "      <th>max</th>\n",
       "      <th>count</th>\n",
       "      <th>mean</th>\n",
       "      <th>...</th>\n",
       "      <th>75%</th>\n",
       "      <th>max</th>\n",
       "      <th>count</th>\n",
       "      <th>mean</th>\n",
       "      <th>std</th>\n",
       "      <th>min</th>\n",
       "      <th>25%</th>\n",
       "      <th>50%</th>\n",
       "      <th>75%</th>\n",
       "      <th>max</th>\n",
       "    </tr>\n",
       "    <tr>\n",
       "      <th>label</th>\n",
       "      <th></th>\n",
       "      <th></th>\n",
       "      <th></th>\n",
       "      <th></th>\n",
       "      <th></th>\n",
       "      <th></th>\n",
       "      <th></th>\n",
       "      <th></th>\n",
       "      <th></th>\n",
       "      <th></th>\n",
       "      <th></th>\n",
       "      <th></th>\n",
       "      <th></th>\n",
       "      <th></th>\n",
       "      <th></th>\n",
       "      <th></th>\n",
       "      <th></th>\n",
       "      <th></th>\n",
       "      <th></th>\n",
       "      <th></th>\n",
       "      <th></th>\n",
       "    </tr>\n",
       "  </thead>\n",
       "  <tbody>\n",
       "    <tr>\n",
       "      <th>0</th>\n",
       "      <td>50.0</td>\n",
       "      <td>5.006</td>\n",
       "      <td>0.352490</td>\n",
       "      <td>4.3</td>\n",
       "      <td>4.800</td>\n",
       "      <td>5.0</td>\n",
       "      <td>5.2</td>\n",
       "      <td>5.8</td>\n",
       "      <td>50.0</td>\n",
       "      <td>3.428</td>\n",
       "      <td>...</td>\n",
       "      <td>1.575</td>\n",
       "      <td>1.9</td>\n",
       "      <td>50.0</td>\n",
       "      <td>0.246</td>\n",
       "      <td>0.105386</td>\n",
       "      <td>0.1</td>\n",
       "      <td>0.2</td>\n",
       "      <td>0.2</td>\n",
       "      <td>0.3</td>\n",
       "      <td>0.6</td>\n",
       "    </tr>\n",
       "    <tr>\n",
       "      <th>1</th>\n",
       "      <td>50.0</td>\n",
       "      <td>5.936</td>\n",
       "      <td>0.516171</td>\n",
       "      <td>4.9</td>\n",
       "      <td>5.600</td>\n",
       "      <td>5.9</td>\n",
       "      <td>6.3</td>\n",
       "      <td>7.0</td>\n",
       "      <td>50.0</td>\n",
       "      <td>2.770</td>\n",
       "      <td>...</td>\n",
       "      <td>4.600</td>\n",
       "      <td>5.1</td>\n",
       "      <td>50.0</td>\n",
       "      <td>1.326</td>\n",
       "      <td>0.197753</td>\n",
       "      <td>1.0</td>\n",
       "      <td>1.2</td>\n",
       "      <td>1.3</td>\n",
       "      <td>1.5</td>\n",
       "      <td>1.8</td>\n",
       "    </tr>\n",
       "    <tr>\n",
       "      <th>2</th>\n",
       "      <td>50.0</td>\n",
       "      <td>6.588</td>\n",
       "      <td>0.635880</td>\n",
       "      <td>4.9</td>\n",
       "      <td>6.225</td>\n",
       "      <td>6.5</td>\n",
       "      <td>6.9</td>\n",
       "      <td>7.9</td>\n",
       "      <td>50.0</td>\n",
       "      <td>2.974</td>\n",
       "      <td>...</td>\n",
       "      <td>5.875</td>\n",
       "      <td>6.9</td>\n",
       "      <td>50.0</td>\n",
       "      <td>2.026</td>\n",
       "      <td>0.274650</td>\n",
       "      <td>1.4</td>\n",
       "      <td>1.8</td>\n",
       "      <td>2.0</td>\n",
       "      <td>2.3</td>\n",
       "      <td>2.5</td>\n",
       "    </tr>\n",
       "  </tbody>\n",
       "</table>\n",
       "<p>3 rows × 32 columns</p>\n",
       "</div>"
      ],
      "text/plain": [
       "      sepal length (cm)                                              \\\n",
       "                  count   mean       std  min    25%  50%  75%  max   \n",
       "label                                                                 \n",
       "0                  50.0  5.006  0.352490  4.3  4.800  5.0  5.2  5.8   \n",
       "1                  50.0  5.936  0.516171  4.9  5.600  5.9  6.3  7.0   \n",
       "2                  50.0  6.588  0.635880  4.9  6.225  6.5  6.9  7.9   \n",
       "\n",
       "      sepal width (cm)         ... petal length (cm)      petal width (cm)  \\\n",
       "                 count   mean  ...               75%  max            count   \n",
       "label                          ...                                           \n",
       "0                 50.0  3.428  ...             1.575  1.9             50.0   \n",
       "1                 50.0  2.770  ...             4.600  5.1             50.0   \n",
       "2                 50.0  2.974  ...             5.875  6.9             50.0   \n",
       "\n",
       "                                                 \n",
       "        mean       std  min  25%  50%  75%  max  \n",
       "label                                            \n",
       "0      0.246  0.105386  0.1  0.2  0.2  0.3  0.6  \n",
       "1      1.326  0.197753  1.0  1.2  1.3  1.5  1.8  \n",
       "2      2.026  0.274650  1.4  1.8  2.0  2.3  2.5  \n",
       "\n",
       "[3 rows x 32 columns]"
      ]
     },
     "execution_count": 15,
     "metadata": {},
     "output_type": "execute_result"
    }
   ],
   "source": [
    "# Display statistics grouped by label\n",
    "df.groupby(['label']).describe()"
   ]
  },
  {
   "cell_type": "markdown",
   "metadata": {},
   "source": [
    "<a id=\"gs-explore-data-w-mlrun-func\"></a>"
   ]
  },
  {
   "cell_type": "markdown",
   "metadata": {},
   "source": [
    "### Explore the Data with an MLRun Marketplace Function"
   ]
  },
  {
   "cell_type": "markdown",
   "metadata": {},
   "source": [
    "You can perform further data exploration by leveraging **the MLRun functions marketplace** (a.k.a. \"the MLRun functions hub\").\n",
    "This marketplace is a centralized location for open-source contributions of function components that are commonly used in machine-learning development.\n",
    "The location of the marketplace is configured via the `hub_url` MLRun configuration.\n",
    "By default, it points to the [mlrun/functions](https://github.com/mlrun/functions/) GitHub repository.\n",
    "\n",
    "In this step you'll use the [`describe` marketplace function](https://github.com/mlrun/functions/tree/master/describe), which performs data exploration on a provided data set, to extract information from your data set, analyze it, and visualize relevant information in different ways."
   ]
  },
  {
   "cell_type": "markdown",
   "metadata": {},
   "source": [
    "#### Add an Exploration Function"
   ]
  },
  {
   "cell_type": "markdown",
   "metadata": {},
   "source": [
    "Use the `set_function` MLRun project method, which adds or updates a function object in a project, to load the `describe` marketplace function into a new `describe` project function. \n",
    "The tutorial code sets the first two `set_function` method parameters:\n",
    "\n",
    "- **`func`** &mdash; identities the function to load.\n",
    "  This parameter can be set to a function object or to the URL of a function specification or code file.\n",
    "  MLRun supports multiple types of URL formats.\n",
    "  The example uses the `hub://...` format to point to the `describe` function-code directory in the MLRun functions marketplace (`'hub://describe'`).\n",
    "- **`name`** &mdash; the name of the project function that is being set.\n",
    "  The example names the project function `describe` (like the name of the marketplace function, although this isn't required).\n",
    "\n",
    "After you add the function project, create a `describe` function object by using `apply(mount_v3io())` to attach an Iguazio Data Science Platform data volume (a.k.a. \"a v3io volume\") to your `describe` project function.\n",
    "This connects your function to the platform's shared file system and allows you to pass data from the platform to the project function and get back the results (plots) directly into your notebook.\n",
    "You can also select to use other supported mount methods &mdash; for example, for using NFS or object storage."
   ]
  },
  {
   "cell_type": "code",
   "execution_count": 16,
   "metadata": {},
   "outputs": [],
   "source": [
    "project.set_function('hub://describe', 'describe')\n",
    "describe = project.func('describe').apply(mount_v3io())"
   ]
  },
  {
   "cell_type": "markdown",
   "metadata": {},
   "source": [
    "#### Run the Exploration Function"
   ]
  },
  {
   "cell_type": "markdown",
   "metadata": {},
   "source": [
    "Run the following code to execute the `describe` project function as a Kubernetes job by using the MLRun `run` method.\n",
    "The returned run object is stored in a `describe_run` variable.\n",
    "\n",
    "The location of the data set is the only input that you need to provide.\n",
    "This information is provided as a `table` input artifact that points to the `iris_dataset` output artifact of the `get_data` job that you ran in the previous steps (using the job's `get_data_run` run object &mdash; see Step 2)."
   ]
  },
  {
   "cell_type": "code",
   "execution_count": 17,
   "metadata": {},
   "outputs": [
    {
     "name": "stdout",
     "output_type": "stream",
     "text": [
      "[mlrun] 2020-06-25 13:31:56,772 starting run describe-summarize uid=d87e9120b3c043b7b183976404826335  -> http://mlrun-api:8080\n",
      "[mlrun] 2020-06-25 13:31:57,226 Job is running in the background, pod: describe-summarize-2svz8\n",
      "[mlrun] 2020-06-25 13:32:06,789 run executed, status=completed\n",
      "final state: succeeded\n"
     ]
    },
    {
     "data": {
      "text/html": [
       "<style> \n",
       ".dictlist {\n",
       "  background-color: #b3edff; \n",
       "  text-align: center; \n",
       "  margin: 4px; \n",
       "  border-radius: 3px; padding: 0px 3px 1px 3px; display: inline-block;}\n",
       ".artifact {\n",
       "  cursor: pointer; \n",
       "  background-color: #ffe6cc; \n",
       "  text-align: left; \n",
       "  margin: 4px; border-radius: 3px; padding: 0px 3px 1px 3px; display: inline-block;\n",
       "}\n",
       "div.block.hidden {\n",
       "  display: none;\n",
       "}\n",
       ".clickable {\n",
       "  cursor: pointer;\n",
       "}\n",
       ".ellipsis {\n",
       "  display: inline-block;\n",
       "  max-width: 60px;\n",
       "  white-space: nowrap;\n",
       "  overflow: hidden;\n",
       "  text-overflow: ellipsis;\n",
       "}\n",
       ".master-wrapper {\n",
       "  display: flex;\n",
       "  flex-flow: row nowrap;\n",
       "  justify-content: flex-start;\n",
       "  align-items: stretch;\n",
       "}\n",
       ".master-tbl {\n",
       "  flex: 3\n",
       "}\n",
       ".master-wrapper > div {\n",
       "  margin: 4px;\n",
       "  padding: 10px;\n",
       "}\n",
       "iframe.fileview {\n",
       "  border: 0 none;\n",
       "  height: 100%;\n",
       "  width: 100%;\n",
       "  white-space: pre-wrap;\n",
       "}\n",
       ".pane-header-title {\n",
       "  width: 80%;\n",
       "  font-weight: 500;\n",
       "}\n",
       ".pane-header {\n",
       "  line-height: 1;\n",
       "  background-color: #ffe6cc;\n",
       "  padding: 3px;\n",
       "}\n",
       ".pane-header .close {\n",
       "  font-size: 20px;\n",
       "  font-weight: 700;\n",
       "  float: right;\n",
       "  margin-top: -5px;\n",
       "}\n",
       ".master-wrapper .right-pane {\n",
       "  border: 1px inset silver;\n",
       "  width: 40%;\n",
       "  min-height: 300px;\n",
       "  flex: 3\n",
       "  min-width: 500px;\n",
       "}\n",
       ".master-wrapper * {\n",
       "  box-sizing: border-box;\n",
       "}\n",
       "</style><script>\n",
       "function copyToClipboard(fld) {\n",
       "    if (document.queryCommandSupported && document.queryCommandSupported('copy')) {\n",
       "        var textarea = document.createElement('textarea');\n",
       "        textarea.textContent = fld.innerHTML;\n",
       "        textarea.style.position = 'fixed';\n",
       "        document.body.appendChild(textarea);\n",
       "        textarea.select();\n",
       "\n",
       "        try {\n",
       "            return document.execCommand('copy'); // Security exception may be thrown by some browsers.\n",
       "        } catch (ex) {\n",
       "\n",
       "        } finally {\n",
       "            document.body.removeChild(textarea);\n",
       "        }\n",
       "    }\n",
       "}\n",
       "function expandPanel(el) {\n",
       "  const panelName = \"#\" + el.getAttribute('paneName');\n",
       "  console.log(el.title);\n",
       "\n",
       "  document.querySelector(panelName + \"-title\").innerHTML = el.title\n",
       "  iframe = document.querySelector(panelName + \"-body\");\n",
       "  \n",
       "  const tblcss = `<style> body { font-family: Arial, Helvetica, sans-serif;}\n",
       "    #csv { margin-bottom: 15px; }\n",
       "    #csv table { border-collapse: collapse;}\n",
       "    #csv table td { padding: 4px 8px; border: 1px solid silver;} </style>`;\n",
       "\n",
       "  function csvToHtmlTable(str) {\n",
       "    return '<div id=\"csv\"><table><tr><td>' +  str.replace(/[\\n\\r]+$/g, '').replace(/[\\n\\r]+/g, '</td></tr><tr><td>')\n",
       "      .replace(/,/g, '</td><td>') + '</td></tr></table></div>';\n",
       "  }\n",
       "  \n",
       "  function reqListener () {\n",
       "    if (el.title.endsWith(\".csv\")) {\n",
       "      iframe.setAttribute(\"srcdoc\", tblcss + csvToHtmlTable(this.responseText));\n",
       "    } else {\n",
       "      iframe.setAttribute(\"srcdoc\", this.responseText);\n",
       "    }  \n",
       "    console.log(this.responseText);\n",
       "  }\n",
       "\n",
       "  const oReq = new XMLHttpRequest();\n",
       "  oReq.addEventListener(\"load\", reqListener);\n",
       "  oReq.open(\"GET\", el.title);\n",
       "  oReq.send();\n",
       "  \n",
       "  \n",
       "  //iframe.src = el.title;\n",
       "  const resultPane = document.querySelector(panelName + \"-pane\");\n",
       "  if (resultPane.classList.contains(\"hidden\")) {\n",
       "    resultPane.classList.remove(\"hidden\");\n",
       "  }\n",
       "}\n",
       "function closePanel(el) {\n",
       "  const panelName = \"#\" + el.getAttribute('paneName')\n",
       "  const resultPane = document.querySelector(panelName + \"-pane\");\n",
       "  if (!resultPane.classList.contains(\"hidden\")) {\n",
       "    resultPane.classList.add(\"hidden\");\n",
       "  }\n",
       "}\n",
       "\n",
       "</script>\n",
       "<div class=\"master-wrapper\">\n",
       "  <div class=\"block master-tbl\"><div>\n",
       "<style scoped>\n",
       "    .dataframe tbody tr th:only-of-type {\n",
       "        vertical-align: middle;\n",
       "    }\n",
       "\n",
       "    .dataframe tbody tr th {\n",
       "        vertical-align: top;\n",
       "    }\n",
       "\n",
       "    .dataframe thead th {\n",
       "        text-align: right;\n",
       "    }\n",
       "</style>\n",
       "<table border=\"1\" class=\"dataframe\">\n",
       "  <thead>\n",
       "    <tr style=\"text-align: right;\">\n",
       "      <th>project</th>\n",
       "      <th>uid</th>\n",
       "      <th>iter</th>\n",
       "      <th>start</th>\n",
       "      <th>state</th>\n",
       "      <th>name</th>\n",
       "      <th>labels</th>\n",
       "      <th>inputs</th>\n",
       "      <th>parameters</th>\n",
       "      <th>results</th>\n",
       "      <th>artifacts</th>\n",
       "    </tr>\n",
       "  </thead>\n",
       "  <tbody>\n",
       "    <tr>\n",
       "      <td>getting-started-iris-iguazio</td>\n",
       "      <td><div title=\"d87e9120b3c043b7b183976404826335\"><a href=\"https://mlrun-ui.default-tenant.app.cs-mlrun-test.iguazio-c0.com/projects/getting-started-iris-iguazio/jobs/d87e9120b3c043b7b183976404826335/info\" target=\"_blank\" >...04826335</a></div></td>\n",
       "      <td>0</td>\n",
       "      <td>Jun 25 13:32:02</td>\n",
       "      <td>completed</td>\n",
       "      <td>describe-summarize</td>\n",
       "      <td><div class=\"dictlist\">v3io_user=iguazio</div><div class=\"dictlist\">kind=job</div><div class=\"dictlist\">owner=iguazio</div><div class=\"dictlist\">host=describe-summarize-2svz8</div></td>\n",
       "      <td><div title=\"store://getting-started-iris-iguazio/get_data_iris_dataset#aed61bae9f7d497abbc2cee593ebd519\">table</div></td>\n",
       "      <td><div class=\"dictlist\">label_column=label</div></td>\n",
       "      <td></td>\n",
       "      <td><div class=\"artifact\" onclick=\"expandPanel(this)\" paneName=\"result116b4130\" title=\"/files/getting-started-tutorial/jobs/plots/hist.html\">histograms</div><div class=\"artifact\" onclick=\"expandPanel(this)\" paneName=\"result116b4130\" title=\"/files/getting-started-tutorial/jobs/plots/imbalance.html\">imbalance</div><div class=\"artifact\" onclick=\"expandPanel(this)\" paneName=\"result116b4130\" title=\"/files/getting-started-tutorial/jobs/plots/imbalance-weights-vec.csv\">imbalance-weights-vec</div><div class=\"artifact\" onclick=\"expandPanel(this)\" paneName=\"result116b4130\" title=\"/files/getting-started-tutorial/jobs/plots/correlation-matrix.csv\">correlation-matrix</div><div class=\"artifact\" onclick=\"expandPanel(this)\" paneName=\"result116b4130\" title=\"/files/getting-started-tutorial/jobs/plots/corr.html\">correlation</div></td>\n",
       "    </tr>\n",
       "  </tbody>\n",
       "</table>\n",
       "</div></div>\n",
       "  <div id=\"result116b4130-pane\" class=\"right-pane block hidden\">\n",
       "    <div class=\"pane-header\">\n",
       "      <span id=\"result116b4130-title\" class=\"pane-header-title\">Title</span>\n",
       "      <span onclick=\"closePanel(this)\" paneName=\"result116b4130\" class=\"close clickable\">&times;</span>\n",
       "    </div>\n",
       "    <iframe class=\"fileview\" id=\"result116b4130-body\"></iframe>\n",
       "  </div>\n",
       "</div>\n"
      ],
      "text/plain": [
       "<IPython.core.display.HTML object>"
      ]
     },
     "metadata": {},
     "output_type": "display_data"
    },
    {
     "name": "stdout",
     "output_type": "stream",
     "text": [
      "to track results use .show() or .logs() or in CLI: \n",
      "!mlrun get run d87e9120b3c043b7b183976404826335 --project getting-started-iris-iguazio , !mlrun logs d87e9120b3c043b7b183976404826335 --project getting-started-iris-iguazio\n",
      "[mlrun] 2020-06-25 13:32:16,623 run executed, status=completed\n"
     ]
    }
   ],
   "source": [
    "describe_run = describe.run(params={'label_column': 'label'},\n",
    "                            inputs={\"table\":\n",
    "                                    get_data_run.outputs['iris_dataset']},\n",
    "                            artifact_path=artifact_path)"
   ]
  },
  {
   "cell_type": "markdown",
   "metadata": {},
   "source": [
    "#### Review the Run Output"
   ]
  },
  {
   "cell_type": "markdown",
   "metadata": {},
   "source": [
    "The output cell for your code execution contains a run-information table.\n",
    "You can also view run information in the MLRun dashboard; see the output-review information in Step 2, only this time look for the `describe-summarize` job and related artifacts.\n",
    "\n",
    "The `describe` function generates three HTML output artifacts, which provide visual insights for your data set &mdash; `histograms`, `imbalance`, and `correlation`.\n",
    "The artifacts are stored as HTML files in your project's artifacts directory, under **/User/getting-started-tutorial/jobs/plots/**.\n",
    "The following code displays the artifact files in the notebook."
   ]
  },
  {
   "cell_type": "code",
   "execution_count": 18,
   "metadata": {},
   "outputs": [
    {
     "data": {
      "text/html": [
       "<h3>Histograms</h3>"
      ],
      "text/plain": [
       "<IPython.core.display.HTML object>"
      ]
     },
     "metadata": {},
     "output_type": "display_data"
    },
    {
     "data": {
      "text/html": [
       "<h3 style=\"text-align:center\">histograms</h3>\n",
       "<img title=\"histograms\" src=\"data:image/png;base64,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\">"
      ],
      "text/plain": [
       "<IPython.core.display.HTML object>"
      ]
     },
     "metadata": {},
     "output_type": "display_data"
    }
   ],
   "source": [
    "from IPython.display import display, HTML\n",
    "\n",
    "# Display the `histograms` artifact\n",
    "display(HTML('<h3>Histograms</h3>'), HTML(describe_run.outputs['histograms']))"
   ]
  },
  {
   "cell_type": "code",
   "execution_count": 19,
   "metadata": {},
   "outputs": [
    {
     "data": {
      "text/html": [
       "<h3>Imbalance<h3>"
      ],
      "text/plain": [
       "<IPython.core.display.HTML object>"
      ]
     },
     "metadata": {},
     "output_type": "display_data"
    },
    {
     "data": {
      "text/html": [
       "<h3 style=\"text-align:center\">imbalance</h3>\n",
       "<img title=\"imbalance\" src=\"data:image/png;base64,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\">"
      ],
      "text/plain": [
       "<IPython.core.display.HTML object>"
      ]
     },
     "metadata": {},
     "output_type": "display_data"
    }
   ],
   "source": [
    "# Display the `imbalance` artifact\n",
    "display(HTML('<h3>Imbalance<h3>'),\n",
    "        HTML(filename=describe_run.outputs['imbalance']))"
   ]
  },
  {
   "cell_type": "code",
   "execution_count": 20,
   "metadata": {},
   "outputs": [
    {
     "data": {
      "text/html": [
       "<h3>Correlation Matrix<h3>"
      ],
      "text/plain": [
       "<IPython.core.display.HTML object>"
      ]
     },
     "metadata": {},
     "output_type": "display_data"
    },
    {
     "data": {
      "text/html": [
       "<h3 style=\"text-align:center\">correlation</h3>\n",
       "<img title=\"correlation\" src=\"data:image/png;base64,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\">"
      ],
      "text/plain": [
       "<IPython.core.display.HTML object>"
      ]
     },
     "metadata": {},
     "output_type": "display_data"
    }
   ],
   "source": [
    "# Display the `correlation` artifact\n",
    "display(HTML('<h3>Correlation Matrix<h3>'),\n",
    "        HTML(filename=describe_run.outputs['correlation']))"
   ]
  },
  {
   "cell_type": "markdown",
   "metadata": {},
   "source": [
    "<a id=\"gs-step-run-model-training\"></a>"
   ]
  },
  {
   "cell_type": "markdown",
   "metadata": {},
   "source": [
    "## Step 4: Run Model Training at Scale"
   ]
  },
  {
   "cell_type": "markdown",
   "metadata": {},
   "source": [
    "It's time to train your model.\n",
    "Start by adding a training project function that uses the [`sklearn_classifier` MLRun marketplace function](https://github.com/mlrun/functions/tree/master/sklearn_classifier) to train three scikit-learn models; (you can use this function to train any scikit-learn model).\n",
    "Then, use an MLRun task to run your function in order to train and evaluate the models and select the optimal model."
   ]
  },
  {
   "cell_type": "markdown",
   "metadata": {},
   "source": [
    "#### Add a Training Function"
   ]
  },
  {
   "cell_type": "markdown",
   "metadata": {},
   "source": [
    "Run the following code to add to your project a `train` function that uses the `sklearn_classifier` marketplace function code, and create a related `train` function object."
   ]
  },
  {
   "cell_type": "code",
   "execution_count": 21,
   "metadata": {},
   "outputs": [],
   "source": [
    "project.set_function('hub://sklearn_classifier', 'train')\n",
    "train = project.func('train').apply(mount_v3io())"
   ]
  },
  {
   "cell_type": "markdown",
   "metadata": {},
   "source": [
    "#### Run a Model-Training Task"
   ]
  },
  {
   "cell_type": "markdown",
   "metadata": {},
   "source": [
    "The following code uses the MLRun `NewTask` method to create a new `train` MLRun task and a related `train_task` task object for executing the `train` project function.\n",
    "An MLRun **task** defines the parameters, inputs, and outputs of a logical job or task to execute.\n",
    "The advantage of tasks is that they're independent of the runtime environment.\n",
    "Hence, you can define a task once and use it in different scenarios.\n",
    "\n",
    "The `NewTask` `inputs` parameter is set to the `iris_dataset` data set, as stored in the output artifacts of the previously executed `get_data` job.\n",
    "The `test_size` training parameter (`params.test_size`) is set to 0.10.\n",
    "This means that the `iris_dataset` data set will make up 90% of the training data set, and the remaining 10% will be the scikit-learn test data set.\n",
    "\n",
    "The `train_task` task (and therefore the `train` function) is executed by using the `run` method.\n",
    "The returned run object is stored in a `train_run` variable.\n",
    "\n",
    "The code uses the `with_hyper_params` task method, which enables running multiple iterations of the same task with different parameter combinations, comparing the results, and selecting the optimal combination based on the specified selection criteria.\n",
    "In this example, there's a single `models` parameter with different values (model names) so as to compare multiple models; the model with the most accurate training results is selected as the optimal model.\n",
    "The `with_hyper_params` method receives the following parameters\n",
    "\n",
    "- **`hyperparams`** &mdash; a dictionary of parameter names and parameter-values lists.\n",
    "  The example defines a single hyperparameter named `model_pkg_class`, and sets its value to a `models` variable that contains a list of three scikit-learn models to train and evaluate. \n",
    "- **`selector`** &mdash; a string of the format `'<min/max>.<validation criterion>'`, which defines a selection criterion for selecting the winning run iteration.\n",
    "  For example, `\"max.accuracy\"` selects the iteration with the most accurate results while `\"min.loss\"` selects the iteration with minimum loss.\n",
    "  The example uses the `max.accuracy` selector to select the model with the most accurate training results."
   ]
  },
  {
   "cell_type": "code",
   "execution_count": 22,
   "metadata": {},
   "outputs": [],
   "source": [
    "# Configure the models to train\n",
    "models = [\"sklearn.ensemble.RandomForestClassifier\", \n",
    "          \"sklearn.linear_model.LogisticRegression\",\n",
    "          \"sklearn.ensemble.AdaBoostClassifier\"]"
   ]
  },
  {
   "cell_type": "code",
   "execution_count": 23,
   "metadata": {},
   "outputs": [
    {
     "name": "stdout",
     "output_type": "stream",
     "text": [
      "[mlrun] 2020-06-25 13:32:16,891 starting run train uid=0b9eb0c08f0e42038a8f0e352e445dd8  -> http://mlrun-api:8080\n",
      "[mlrun] 2020-06-25 13:32:17,350 Job is running in the background, pod: train-f86j2\n",
      "[mlrun] 2020-06-25 13:32:25,923 best iteration=1, used criteria max.accuracy\n",
      "[mlrun] 2020-06-25 13:32:26,587 run executed, status=completed\n",
      "/opt/conda/lib/python3.7/site-packages/sklearn/linear_model/_logistic.py:764: ConvergenceWarning: lbfgs failed to converge (status=1):\n",
      "STOP: TOTAL NO. of ITERATIONS REACHED LIMIT.\n",
      "\n",
      "Increase the number of iterations (max_iter) or scale the data as shown in:\n",
      "    https://scikit-learn.org/stable/modules/preprocessing.html\n",
      "Please also refer to the documentation for alternative solver options:\n",
      "    https://scikit-learn.org/stable/modules/linear_model.html#logistic-regression\n",
      "  extra_warning_msg=_LOGISTIC_SOLVER_CONVERGENCE_MSG)\n",
      "final state: succeeded\n"
     ]
    },
    {
     "data": {
      "text/html": [
       "<style> \n",
       ".dictlist {\n",
       "  background-color: #b3edff; \n",
       "  text-align: center; \n",
       "  margin: 4px; \n",
       "  border-radius: 3px; padding: 0px 3px 1px 3px; display: inline-block;}\n",
       ".artifact {\n",
       "  cursor: pointer; \n",
       "  background-color: #ffe6cc; \n",
       "  text-align: left; \n",
       "  margin: 4px; border-radius: 3px; padding: 0px 3px 1px 3px; display: inline-block;\n",
       "}\n",
       "div.block.hidden {\n",
       "  display: none;\n",
       "}\n",
       ".clickable {\n",
       "  cursor: pointer;\n",
       "}\n",
       ".ellipsis {\n",
       "  display: inline-block;\n",
       "  max-width: 60px;\n",
       "  white-space: nowrap;\n",
       "  overflow: hidden;\n",
       "  text-overflow: ellipsis;\n",
       "}\n",
       ".master-wrapper {\n",
       "  display: flex;\n",
       "  flex-flow: row nowrap;\n",
       "  justify-content: flex-start;\n",
       "  align-items: stretch;\n",
       "}\n",
       ".master-tbl {\n",
       "  flex: 3\n",
       "}\n",
       ".master-wrapper > div {\n",
       "  margin: 4px;\n",
       "  padding: 10px;\n",
       "}\n",
       "iframe.fileview {\n",
       "  border: 0 none;\n",
       "  height: 100%;\n",
       "  width: 100%;\n",
       "  white-space: pre-wrap;\n",
       "}\n",
       ".pane-header-title {\n",
       "  width: 80%;\n",
       "  font-weight: 500;\n",
       "}\n",
       ".pane-header {\n",
       "  line-height: 1;\n",
       "  background-color: #ffe6cc;\n",
       "  padding: 3px;\n",
       "}\n",
       ".pane-header .close {\n",
       "  font-size: 20px;\n",
       "  font-weight: 700;\n",
       "  float: right;\n",
       "  margin-top: -5px;\n",
       "}\n",
       ".master-wrapper .right-pane {\n",
       "  border: 1px inset silver;\n",
       "  width: 40%;\n",
       "  min-height: 300px;\n",
       "  flex: 3\n",
       "  min-width: 500px;\n",
       "}\n",
       ".master-wrapper * {\n",
       "  box-sizing: border-box;\n",
       "}\n",
       "</style><script>\n",
       "function copyToClipboard(fld) {\n",
       "    if (document.queryCommandSupported && document.queryCommandSupported('copy')) {\n",
       "        var textarea = document.createElement('textarea');\n",
       "        textarea.textContent = fld.innerHTML;\n",
       "        textarea.style.position = 'fixed';\n",
       "        document.body.appendChild(textarea);\n",
       "        textarea.select();\n",
       "\n",
       "        try {\n",
       "            return document.execCommand('copy'); // Security exception may be thrown by some browsers.\n",
       "        } catch (ex) {\n",
       "\n",
       "        } finally {\n",
       "            document.body.removeChild(textarea);\n",
       "        }\n",
       "    }\n",
       "}\n",
       "function expandPanel(el) {\n",
       "  const panelName = \"#\" + el.getAttribute('paneName');\n",
       "  console.log(el.title);\n",
       "\n",
       "  document.querySelector(panelName + \"-title\").innerHTML = el.title\n",
       "  iframe = document.querySelector(panelName + \"-body\");\n",
       "  \n",
       "  const tblcss = `<style> body { font-family: Arial, Helvetica, sans-serif;}\n",
       "    #csv { margin-bottom: 15px; }\n",
       "    #csv table { border-collapse: collapse;}\n",
       "    #csv table td { padding: 4px 8px; border: 1px solid silver;} </style>`;\n",
       "\n",
       "  function csvToHtmlTable(str) {\n",
       "    return '<div id=\"csv\"><table><tr><td>' +  str.replace(/[\\n\\r]+$/g, '').replace(/[\\n\\r]+/g, '</td></tr><tr><td>')\n",
       "      .replace(/,/g, '</td><td>') + '</td></tr></table></div>';\n",
       "  }\n",
       "  \n",
       "  function reqListener () {\n",
       "    if (el.title.endsWith(\".csv\")) {\n",
       "      iframe.setAttribute(\"srcdoc\", tblcss + csvToHtmlTable(this.responseText));\n",
       "    } else {\n",
       "      iframe.setAttribute(\"srcdoc\", this.responseText);\n",
       "    }  \n",
       "    console.log(this.responseText);\n",
       "  }\n",
       "\n",
       "  const oReq = new XMLHttpRequest();\n",
       "  oReq.addEventListener(\"load\", reqListener);\n",
       "  oReq.open(\"GET\", el.title);\n",
       "  oReq.send();\n",
       "  \n",
       "  \n",
       "  //iframe.src = el.title;\n",
       "  const resultPane = document.querySelector(panelName + \"-pane\");\n",
       "  if (resultPane.classList.contains(\"hidden\")) {\n",
       "    resultPane.classList.remove(\"hidden\");\n",
       "  }\n",
       "}\n",
       "function closePanel(el) {\n",
       "  const panelName = \"#\" + el.getAttribute('paneName')\n",
       "  const resultPane = document.querySelector(panelName + \"-pane\");\n",
       "  if (!resultPane.classList.contains(\"hidden\")) {\n",
       "    resultPane.classList.add(\"hidden\");\n",
       "  }\n",
       "}\n",
       "\n",
       "</script>\n",
       "<div class=\"master-wrapper\">\n",
       "  <div class=\"block master-tbl\"><div>\n",
       "<style scoped>\n",
       "    .dataframe tbody tr th:only-of-type {\n",
       "        vertical-align: middle;\n",
       "    }\n",
       "\n",
       "    .dataframe tbody tr th {\n",
       "        vertical-align: top;\n",
       "    }\n",
       "\n",
       "    .dataframe thead th {\n",
       "        text-align: right;\n",
       "    }\n",
       "</style>\n",
       "<table border=\"1\" class=\"dataframe\">\n",
       "  <thead>\n",
       "    <tr style=\"text-align: right;\">\n",
       "      <th>project</th>\n",
       "      <th>uid</th>\n",
       "      <th>iter</th>\n",
       "      <th>start</th>\n",
       "      <th>state</th>\n",
       "      <th>name</th>\n",
       "      <th>labels</th>\n",
       "      <th>inputs</th>\n",
       "      <th>parameters</th>\n",
       "      <th>results</th>\n",
       "      <th>artifacts</th>\n",
       "    </tr>\n",
       "  </thead>\n",
       "  <tbody>\n",
       "    <tr>\n",
       "      <td>getting-started-iris-iguazio</td>\n",
       "      <td><div title=\"0b9eb0c08f0e42038a8f0e352e445dd8\"><a href=\"https://mlrun-ui.default-tenant.app.cs-mlrun-test.iguazio-c0.com/projects/getting-started-iris-iguazio/jobs/0b9eb0c08f0e42038a8f0e352e445dd8/info\" target=\"_blank\" >...2e445dd8</a></div></td>\n",
       "      <td>0</td>\n",
       "      <td>Jun 25 13:32:21</td>\n",
       "      <td>completed</td>\n",
       "      <td>train</td>\n",
       "      <td><div class=\"dictlist\">v3io_user=iguazio</div><div class=\"dictlist\">kind=job</div><div class=\"dictlist\">owner=iguazio</div></td>\n",
       "      <td><div title=\"store://getting-started-iris-iguazio/get_data_iris_dataset#aed61bae9f7d497abbc2cee593ebd519\">dataset</div></td>\n",
       "      <td><div class=\"dictlist\">sample=-1</div><div class=\"dictlist\">label_column=label</div><div class=\"dictlist\">test_size=0.1</div></td>\n",
       "      <td><div class=\"dictlist\">best_iteration=1</div><div class=\"dictlist\">accuracy=0.9705882352941176</div><div class=\"dictlist\">test-error=0.029411764705882353</div><div class=\"dictlist\">auc-micro=0.9961072664359862</div><div class=\"dictlist\">auc-weighted=0.9949732620320856</div><div class=\"dictlist\">f1-score=0.9679633867276888</div><div class=\"dictlist\">precision_score=0.9666666666666667</div><div class=\"dictlist\">recall_score=0.9722222222222222</div></td>\n",
       "      <td><div title=\"/User/getting-started-tutorial/jobs/data/1/test_set.parquet\">test_set</div><div class=\"artifact\" onclick=\"expandPanel(this)\" paneName=\"resulte0618447\" title=\"/files/getting-started-tutorial/jobs/model/plots/1/confusion-matrix.html\">confusion-matrix</div><div class=\"artifact\" onclick=\"expandPanel(this)\" paneName=\"resulte0618447\" title=\"/files/getting-started-tutorial/jobs/model/plots/1/feature-importances.html\">feature-importances</div><div class=\"artifact\" onclick=\"expandPanel(this)\" paneName=\"resulte0618447\" title=\"/files/getting-started-tutorial/jobs/model/plots/1/precision-recall-multiclass.html\">precision-recall-multiclass</div><div class=\"artifact\" onclick=\"expandPanel(this)\" paneName=\"resulte0618447\" title=\"/files/getting-started-tutorial/jobs/model/plots/1/roc-multiclass.html\">roc-multiclass</div><div title=\"/User/getting-started-tutorial/jobs/model/1\">model</div><div class=\"artifact\" onclick=\"expandPanel(this)\" paneName=\"resulte0618447\" title=\"/files/getting-started-tutorial/jobs/iteration_results.csv\">iteration_results</div></td>\n",
       "    </tr>\n",
       "  </tbody>\n",
       "</table>\n",
       "</div></div>\n",
       "  <div id=\"resulte0618447-pane\" class=\"right-pane block hidden\">\n",
       "    <div class=\"pane-header\">\n",
       "      <span id=\"resulte0618447-title\" class=\"pane-header-title\">Title</span>\n",
       "      <span onclick=\"closePanel(this)\" paneName=\"resulte0618447\" class=\"close clickable\">&times;</span>\n",
       "    </div>\n",
       "    <iframe class=\"fileview\" id=\"resulte0618447-body\"></iframe>\n",
       "  </div>\n",
       "</div>\n"
      ],
      "text/plain": [
       "<IPython.core.display.HTML object>"
      ]
     },
     "metadata": {},
     "output_type": "display_data"
    },
    {
     "name": "stdout",
     "output_type": "stream",
     "text": [
      "to track results use .show() or .logs() or in CLI: \n",
      "!mlrun get run 0b9eb0c08f0e42038a8f0e352e445dd8 --project getting-started-iris-iguazio , !mlrun logs 0b9eb0c08f0e42038a8f0e352e445dd8 --project getting-started-iris-iguazio\n",
      "[mlrun] 2020-06-25 13:32:29,770 run executed, status=completed\n"
     ]
    }
   ],
   "source": [
    "# Create a training task\n",
    "train_task = NewTask(name=\"train\",\n",
    "                     params={\"sample\": -1,\n",
    "                             \"label_column\": \"label\",\n",
    "                             \"test_size\": 0.10},\n",
    "                     inputs={\"dataset\": get_data_run.outputs['iris_dataset']})\n",
    "\n",
    "# Run the training task\n",
    "train_run = train.run(train_task.with_hyper_params({'model_pkg_class': models},\n",
    "                                                   selector='max.accuracy'),\n",
    "                      artifact_path=artifact_path)"
   ]
  },
  {
   "cell_type": "markdown",
   "metadata": {},
   "source": [
    "<a id=\"gs-train-model-run-output-review\"></a>"
   ]
  },
  {
   "cell_type": "markdown",
   "metadata": {},
   "source": [
    "### Review the Run Output"
   ]
  },
  {
   "cell_type": "markdown",
   "metadata": {},
   "source": [
    "As with the previous executions, you can view extensive run information and artifacts from Jupyter Notebook and the MLRun dashboard, as well as browse the task artifacts from the platform dashboard.\n",
    "See the output-review information in the previous steps.\n",
    "\n",
    "Your project's artifacts directory (**/User/getting-started-tutorial/jobs**) contains an **iteration_results.csv** output artifact with the results for the training-task run iterations, and **&lt;iteration number&gt;** subdirectories with the artifacts for all the run iterations (i.e., for each evaluated model).<br>\n",
    "The **plots** subdirectory has HTML output artifacts for the selected run iteration; (the **tests** subdirectory contains the artifacts for the test data set).\n",
    "\n",
    "Use the following code to extract and display information from the run object &mdash; the name of the selected trained model, the best accuracy that was achieved with this model, and the `confusion` and `roc` HTML output artifacts for the optimal run iteration."
   ]
  },
  {
   "cell_type": "code",
   "execution_count": 24,
   "metadata": {},
   "outputs": [
    {
     "data": {
      "text/html": [
       "<b>Best model:</b> sklearn.ensemble.RandomForestClassifier"
      ],
      "text/plain": [
       "<IPython.core.display.HTML object>"
      ]
     },
     "metadata": {},
     "output_type": "display_data"
    },
    {
     "data": {
      "text/html": [
       "<b>Accuracy:</b> 0.9705882352941176"
      ],
      "text/plain": [
       "<IPython.core.display.HTML object>"
      ]
     },
     "metadata": {},
     "output_type": "display_data"
    },
    {
     "data": {
      "text/html": [
       "<h3>Confusion Matrix:</h3>"
      ],
      "text/plain": [
       "<IPython.core.display.HTML object>"
      ]
     },
     "metadata": {},
     "output_type": "display_data"
    },
    {
     "data": {
      "text/html": [
       "<h3 style=\"text-align:center\">Confusion Matrix - Normalized Plot</h3>\n",
       "<img title=\"confusion-matrix\" src=\"data:image/png;base64,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\">"
      ],
      "text/plain": [
       "<IPython.core.display.HTML object>"
      ]
     },
     "metadata": {},
     "output_type": "display_data"
    },
    {
     "data": {
      "text/html": [
       "<h3>ROC Curve:</h3>"
      ],
      "text/plain": [
       "<IPython.core.display.HTML object>"
      ]
     },
     "metadata": {},
     "output_type": "display_data"
    },
    {
     "data": {
      "text/html": [
       "<h3 style=\"text-align:center\">Multiclass ROC Curve</h3>\n",
       "<img title=\"roc-multiclass\" src=\"data:image/png;base64,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\">"
      ],
      "text/plain": [
       "<IPython.core.display.HTML object>"
      ]
     },
     "metadata": {},
     "output_type": "display_data"
    }
   ],
   "source": [
    "# Display the name of the selected model\n",
    "# best_iteration is 1 based, get the best model from the model list by substracting 1 \n",
    "display(HTML(f'<b>Best model:</b> '\n",
    "             f'{models[train_run.outputs[\"best_iteration\"] - 1]}'))\n",
    "\n",
    "# Display the accuracy for the optimal run iteration\n",
    "display(HTML(f'<b>Accuracy:</b> {train_run.outputs[\"accuracy\"]}'))\n",
    "\n",
    "# Display HTML output artifacts\n",
    "display(HTML('<h3>Confusion Matrix:</h3>'),\n",
    "        HTML(filename=train_run.outputs['confusion-matrix']))\n",
    "display(HTML('<h3>ROC Curve:</h3>'), HTML(filename=train_run.outputs['roc-multiclass']))"
   ]
  },
  {
   "cell_type": "markdown",
   "metadata": {},
   "source": [
    "<a id=\"gs-step-test-model\"></a>"
   ]
  },
  {
   "cell_type": "markdown",
   "metadata": {},
   "source": [
    "## Step 5: Test Your Model"
   ]
  },
  {
   "cell_type": "markdown",
   "metadata": {},
   "source": [
    "Now that you have a trained model, you can test it: run a task that uses the [`test_classifier` marketplace function](https://github.com/mlrun/functions/tree/master/test_classifier) to run the selected trained model against the test data set, as returned for the training task (`train`) in the previous step."
   ]
  },
  {
   "cell_type": "markdown",
   "metadata": {},
   "source": [
    "#### Add a Test Function"
   ]
  },
  {
   "cell_type": "markdown",
   "metadata": {},
   "source": [
    "Run the following code to add to your project a `test` function that uses the `test_classifier` marketplace function code, and create a related `test` function object."
   ]
  },
  {
   "cell_type": "code",
   "execution_count": 25,
   "metadata": {},
   "outputs": [],
   "source": [
    "project.set_function('hub://test_classifier', 'test')\n",
    "test = project.func('test').apply(mount_v3io())"
   ]
  },
  {
   "cell_type": "markdown",
   "metadata": {},
   "source": [
    "#### Run a Model-Testing Task"
   ]
  },
  {
   "cell_type": "markdown",
   "metadata": {},
   "source": [
    "Use a task to run the model-testing function:\n",
    "\n",
    "- Create a new `test` task and a related `test_task` task object for executing the `test` project function, which runs the `test_classifier` marketplace function.<br>\n",
    "  In the `NewTask` call, configure parameters for the test function (`params`), and provide the selected trained model from the `train` task as an input artifact (`inputs`).\n",
    "- Run the task by using the `run` MLRun method, and assign the returned run object to a `test_run` variable."
   ]
  },
  {
   "cell_type": "code",
   "execution_count": 26,
   "metadata": {},
   "outputs": [
    {
     "name": "stdout",
     "output_type": "stream",
     "text": [
      "[mlrun] 2020-06-25 13:32:29,949 starting run test uid=25e74f5c71ca4aa283bebd35e85c223f  -> http://mlrun-api:8080\n",
      "[mlrun] 2020-06-25 13:32:30,412 Job is running in the background, pod: test-4phtp\n",
      "[mlrun] 2020-06-25 13:32:36,862 run executed, status=completed\n",
      "final state: succeeded\n"
     ]
    },
    {
     "data": {
      "text/html": [
       "<style> \n",
       ".dictlist {\n",
       "  background-color: #b3edff; \n",
       "  text-align: center; \n",
       "  margin: 4px; \n",
       "  border-radius: 3px; padding: 0px 3px 1px 3px; display: inline-block;}\n",
       ".artifact {\n",
       "  cursor: pointer; \n",
       "  background-color: #ffe6cc; \n",
       "  text-align: left; \n",
       "  margin: 4px; border-radius: 3px; padding: 0px 3px 1px 3px; display: inline-block;\n",
       "}\n",
       "div.block.hidden {\n",
       "  display: none;\n",
       "}\n",
       ".clickable {\n",
       "  cursor: pointer;\n",
       "}\n",
       ".ellipsis {\n",
       "  display: inline-block;\n",
       "  max-width: 60px;\n",
       "  white-space: nowrap;\n",
       "  overflow: hidden;\n",
       "  text-overflow: ellipsis;\n",
       "}\n",
       ".master-wrapper {\n",
       "  display: flex;\n",
       "  flex-flow: row nowrap;\n",
       "  justify-content: flex-start;\n",
       "  align-items: stretch;\n",
       "}\n",
       ".master-tbl {\n",
       "  flex: 3\n",
       "}\n",
       ".master-wrapper > div {\n",
       "  margin: 4px;\n",
       "  padding: 10px;\n",
       "}\n",
       "iframe.fileview {\n",
       "  border: 0 none;\n",
       "  height: 100%;\n",
       "  width: 100%;\n",
       "  white-space: pre-wrap;\n",
       "}\n",
       ".pane-header-title {\n",
       "  width: 80%;\n",
       "  font-weight: 500;\n",
       "}\n",
       ".pane-header {\n",
       "  line-height: 1;\n",
       "  background-color: #ffe6cc;\n",
       "  padding: 3px;\n",
       "}\n",
       ".pane-header .close {\n",
       "  font-size: 20px;\n",
       "  font-weight: 700;\n",
       "  float: right;\n",
       "  margin-top: -5px;\n",
       "}\n",
       ".master-wrapper .right-pane {\n",
       "  border: 1px inset silver;\n",
       "  width: 40%;\n",
       "  min-height: 300px;\n",
       "  flex: 3\n",
       "  min-width: 500px;\n",
       "}\n",
       ".master-wrapper * {\n",
       "  box-sizing: border-box;\n",
       "}\n",
       "</style><script>\n",
       "function copyToClipboard(fld) {\n",
       "    if (document.queryCommandSupported && document.queryCommandSupported('copy')) {\n",
       "        var textarea = document.createElement('textarea');\n",
       "        textarea.textContent = fld.innerHTML;\n",
       "        textarea.style.position = 'fixed';\n",
       "        document.body.appendChild(textarea);\n",
       "        textarea.select();\n",
       "\n",
       "        try {\n",
       "            return document.execCommand('copy'); // Security exception may be thrown by some browsers.\n",
       "        } catch (ex) {\n",
       "\n",
       "        } finally {\n",
       "            document.body.removeChild(textarea);\n",
       "        }\n",
       "    }\n",
       "}\n",
       "function expandPanel(el) {\n",
       "  const panelName = \"#\" + el.getAttribute('paneName');\n",
       "  console.log(el.title);\n",
       "\n",
       "  document.querySelector(panelName + \"-title\").innerHTML = el.title\n",
       "  iframe = document.querySelector(panelName + \"-body\");\n",
       "  \n",
       "  const tblcss = `<style> body { font-family: Arial, Helvetica, sans-serif;}\n",
       "    #csv { margin-bottom: 15px; }\n",
       "    #csv table { border-collapse: collapse;}\n",
       "    #csv table td { padding: 4px 8px; border: 1px solid silver;} </style>`;\n",
       "\n",
       "  function csvToHtmlTable(str) {\n",
       "    return '<div id=\"csv\"><table><tr><td>' +  str.replace(/[\\n\\r]+$/g, '').replace(/[\\n\\r]+/g, '</td></tr><tr><td>')\n",
       "      .replace(/,/g, '</td><td>') + '</td></tr></table></div>';\n",
       "  }\n",
       "  \n",
       "  function reqListener () {\n",
       "    if (el.title.endsWith(\".csv\")) {\n",
       "      iframe.setAttribute(\"srcdoc\", tblcss + csvToHtmlTable(this.responseText));\n",
       "    } else {\n",
       "      iframe.setAttribute(\"srcdoc\", this.responseText);\n",
       "    }  \n",
       "    console.log(this.responseText);\n",
       "  }\n",
       "\n",
       "  const oReq = new XMLHttpRequest();\n",
       "  oReq.addEventListener(\"load\", reqListener);\n",
       "  oReq.open(\"GET\", el.title);\n",
       "  oReq.send();\n",
       "  \n",
       "  \n",
       "  //iframe.src = el.title;\n",
       "  const resultPane = document.querySelector(panelName + \"-pane\");\n",
       "  if (resultPane.classList.contains(\"hidden\")) {\n",
       "    resultPane.classList.remove(\"hidden\");\n",
       "  }\n",
       "}\n",
       "function closePanel(el) {\n",
       "  const panelName = \"#\" + el.getAttribute('paneName')\n",
       "  const resultPane = document.querySelector(panelName + \"-pane\");\n",
       "  if (!resultPane.classList.contains(\"hidden\")) {\n",
       "    resultPane.classList.add(\"hidden\");\n",
       "  }\n",
       "}\n",
       "\n",
       "</script>\n",
       "<div class=\"master-wrapper\">\n",
       "  <div class=\"block master-tbl\"><div>\n",
       "<style scoped>\n",
       "    .dataframe tbody tr th:only-of-type {\n",
       "        vertical-align: middle;\n",
       "    }\n",
       "\n",
       "    .dataframe tbody tr th {\n",
       "        vertical-align: top;\n",
       "    }\n",
       "\n",
       "    .dataframe thead th {\n",
       "        text-align: right;\n",
       "    }\n",
       "</style>\n",
       "<table border=\"1\" class=\"dataframe\">\n",
       "  <thead>\n",
       "    <tr style=\"text-align: right;\">\n",
       "      <th>project</th>\n",
       "      <th>uid</th>\n",
       "      <th>iter</th>\n",
       "      <th>start</th>\n",
       "      <th>state</th>\n",
       "      <th>name</th>\n",
       "      <th>labels</th>\n",
       "      <th>inputs</th>\n",
       "      <th>parameters</th>\n",
       "      <th>results</th>\n",
       "      <th>artifacts</th>\n",
       "    </tr>\n",
       "  </thead>\n",
       "  <tbody>\n",
       "    <tr>\n",
       "      <td>getting-started-iris-iguazio</td>\n",
       "      <td><div title=\"25e74f5c71ca4aa283bebd35e85c223f\"><a href=\"https://mlrun-ui.default-tenant.app.cs-mlrun-test.iguazio-c0.com/projects/getting-started-iris-iguazio/jobs/25e74f5c71ca4aa283bebd35e85c223f/info\" target=\"_blank\" >...e85c223f</a></div></td>\n",
       "      <td>0</td>\n",
       "      <td>Jun 25 13:32:35</td>\n",
       "      <td>completed</td>\n",
       "      <td>test</td>\n",
       "      <td><div class=\"dictlist\">v3io_user=iguazio</div><div class=\"dictlist\">kind=job</div><div class=\"dictlist\">owner=iguazio</div><div class=\"dictlist\">host=test-4phtp</div></td>\n",
       "      <td><div title=\"store://getting-started-iris-iguazio/train_model#0b9eb0c08f0e42038a8f0e352e445dd8\">models_path</div><div title=\"store://getting-started-iris-iguazio/train_test_set#0b9eb0c08f0e42038a8f0e352e445dd8\">test_set</div></td>\n",
       "      <td><div class=\"dictlist\">label_column=label</div><div class=\"dictlist\">plots_dest=plots/test</div></td>\n",
       "      <td><div class=\"dictlist\">accuracy=0.9333333333333333</div><div class=\"dictlist\">test-error=0.06666666666666667</div><div class=\"dictlist\">auc-micro=0.9633333333333334</div><div class=\"dictlist\">auc-weighted=0.9888888888888889</div><div class=\"dictlist\">f1-score=0.9137254901960784</div><div class=\"dictlist\">precision_score=0.8888888888888888</div><div class=\"dictlist\">recall_score=0.9629629629629629</div></td>\n",
       "      <td><div class=\"artifact\" onclick=\"expandPanel(this)\" paneName=\"result52e79424\" title=\"/files/getting-started-tutorial/jobs/plots/confusion-matrix.html\">confusion-matrix</div><div class=\"artifact\" onclick=\"expandPanel(this)\" paneName=\"result52e79424\" title=\"/files/getting-started-tutorial/jobs/plots/feature-importances.html\">feature-importances</div><div class=\"artifact\" onclick=\"expandPanel(this)\" paneName=\"result52e79424\" title=\"/files/getting-started-tutorial/jobs/plots/precision-recall-multiclass.html\">precision-recall-multiclass</div><div class=\"artifact\" onclick=\"expandPanel(this)\" paneName=\"result52e79424\" title=\"/files/getting-started-tutorial/jobs/plots/roc-multiclass.html\">roc-multiclass</div><div title=\"/User/getting-started-tutorial/jobs/test_set_preds.parquet\">test_set_preds</div></td>\n",
       "    </tr>\n",
       "  </tbody>\n",
       "</table>\n",
       "</div></div>\n",
       "  <div id=\"result52e79424-pane\" class=\"right-pane block hidden\">\n",
       "    <div class=\"pane-header\">\n",
       "      <span id=\"result52e79424-title\" class=\"pane-header-title\">Title</span>\n",
       "      <span onclick=\"closePanel(this)\" paneName=\"result52e79424\" class=\"close clickable\">&times;</span>\n",
       "    </div>\n",
       "    <iframe class=\"fileview\" id=\"result52e79424-body\"></iframe>\n",
       "  </div>\n",
       "</div>\n"
      ],
      "text/plain": [
       "<IPython.core.display.HTML object>"
      ]
     },
     "metadata": {},
     "output_type": "display_data"
    },
    {
     "name": "stdout",
     "output_type": "stream",
     "text": [
      "to track results use .show() or .logs() or in CLI: \n",
      "!mlrun get run 25e74f5c71ca4aa283bebd35e85c223f --project getting-started-iris-iguazio , !mlrun logs 25e74f5c71ca4aa283bebd35e85c223f --project getting-started-iris-iguazio\n",
      "[mlrun] 2020-06-25 13:32:39,770 run executed, status=completed\n"
     ]
    }
   ],
   "source": [
    "test_task = NewTask(name=\"test\",\n",
    "                    params={\"label_column\": \"label\",\n",
    "                            \"plots_dest\": path.join(\"plots\", \"test\")},\n",
    "                    inputs={\"models_path\": train_run.outputs['model'],\n",
    "                            \"test_set\": train_run.outputs['test_set']}\n",
    "                    )\n",
    "test_run = test.run(test_task,\n",
    "                    artifact_path=artifact_path)"
   ]
  },
  {
   "cell_type": "markdown",
   "metadata": {},
   "source": [
    "<a id=\"gs-test-model-run-output-review\"></a>"
   ]
  },
  {
   "cell_type": "markdown",
   "metadata": {},
   "source": [
    "### Review the Run Output"
   ]
  },
  {
   "cell_type": "markdown",
   "metadata": {},
   "source": [
    "Check the output information for your run in Jupyter Notebook and on the MLRun dashboard.\n",
    "\n",
    "Use the following code to display information from the run object &mdash; the accuracy of the model, and the `confusion` and `roc` HTML output artifacts."
   ]
  },
  {
   "cell_type": "code",
   "execution_count": 27,
   "metadata": {},
   "outputs": [
    {
     "data": {
      "text/html": [
       "<b>Test Accuracy:</b> 0.9333333333333333"
      ],
      "text/plain": [
       "<IPython.core.display.HTML object>"
      ]
     },
     "metadata": {},
     "output_type": "display_data"
    },
    {
     "data": {
      "text/html": [
       "<h3>Confusion matrix:</h3>"
      ],
      "text/plain": [
       "<IPython.core.display.HTML object>"
      ]
     },
     "metadata": {},
     "output_type": "display_data"
    },
    {
     "data": {
      "text/html": [
       "<h3 style=\"text-align:center\">Confusion Matrix - Normalized Plot</h3>\n",
       "<img title=\"confusion-matrix\" src=\"data:image/png;base64,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\">"
      ],
      "text/plain": [
       "<IPython.core.display.HTML object>"
      ]
     },
     "metadata": {},
     "output_type": "display_data"
    },
    {
     "data": {
      "text/html": [
       "<h3>ROC Curve:</h3>"
      ],
      "text/plain": [
       "<IPython.core.display.HTML object>"
      ]
     },
     "metadata": {},
     "output_type": "display_data"
    },
    {
     "data": {
      "text/html": [
       "<h3 style=\"text-align:center\">Multiclass ROC Curve</h3>\n",
       "<img title=\"roc-multiclass\" src=\"data:image/png;base64,iVBORw0KGgoAAAANSUhEUgAAAoAAAAHgCAYAAAA10dzkAAAABHNCSVQICAgIfAhkiAAAAAlwSFlzAAAPYQAAD2EBqD+naQAAADh0RVh0U29mdHdhcmUAbWF0cGxvdGxpYiB2ZXJzaW9uMy4xLjMsIGh0dHA6Ly9tYXRwbG90bGliLm9yZy+AADFEAAAgAElEQVR4nOzde1yO9/8H8NfdraMUOhcdxGgo8qUvwsixMMOcmkPhO6eZtO8w51O+w2wz5TREjmNj1piZ06zlXBiFWKEkRbXOp8/vD79u7u6OpKu6X8/Ho8d2v+/rc13v++py3e8+1+dzXTIhhAARERERqQ0NqRMgIiIioqrFApCIiIhIzbAAJCIiIlIzLACJiIiI1AwLQCIiIiI1wwKQiIiISM2wACQiIiJSMywAiYiIiNQMC0AiIiIiNcMCkIiIiEjNsAAkIiIiUjMsAImIiIjUDAtAIiIiIjXDApCIiIhIzbAAJCIiIlIzLACJiIiI1AwLQCIiIiI1wwKQiIiISM2wACQiIiJSMywAiYiIiNQMC0AiIiIiNcMCkIiIiEjNsAAkIiIiUjMsAImIiIjUDAtAIiIiIjXDApCIiIhIzbAAJCIiIlIzLACJiIiI1AwLQCIiIiI1wwKQiIiISM2wACQiIiJSMywAiYiIiNQMC0AiIiIiNcMCkIiIiEjNsAAkIiIiUjMsAImIiIjUDAtAqjVsbW0xbtw4qdOoVQICAhAYGKgSj46OhkwmK/a96qAwv9WrV0udSoVlZGRg0aJFOH369BtZ/+nTpyGTySq8/pp6LFSWoueXuLg4LFq0COHh4SrLLlq0CDKZrMLbGDduHGxtbV8jS6LyqyN1AkSV5eDBgzAwMJA6jVolICAAxsbGKoW1hYUFQkNDYW9vL01itVhGRgYWL14MAHjnnXcqff3Ozs4IDQ3F22+/XaF2PBaUxcXFYfHixbC1tUWbNm2U3pswYQL69u0rUWZE5cMCkCpNRkYG9PT0JNt+27Ztq3yb+fn5yMvLg7a2dpVvu6KEEMjKyoKuru5rr0tbWxv//ve/KyGrmi0zMxM6Ojqv1NtT1XJzcyGTyWBgYFCpvzseC6oaNWqERo0aSZ0GUal4CZheSeEljitXrmDo0KFo0KCBUg/ApUuXMHDgQDRs2BA6Ojpo27YtvvvuO5X1xMbG4j//+Q8aN24MLS0tWFpaYujQoXj8+LFimdTUVHzyySews7ODlpYWrKysMGPGDKSnpyut6+VLNE+ePIGWlhbmz5+vss3IyEjIZDKsXbtWEYuPj8eHH36IRo0aQUtLC3Z2dli8eDHy8vIUyxRe6lq5ciWWLVsGOzs7aGtr49SpUyXup6ysLMyZM0cp96lTpyI5OVkl9/79++PgwYNwdHSEjo4OmjRpopRjRfeHTCbDtGnTsGHDBjg4OEBbWxvbt28HACxevBguLi5o2LAhDAwM4OzsjC1btkAIoZTTjRs3cObMGchkMshkMsXlqeIu+xUeEzdu3MDIkSNhaGgIMzMzeHt7IyUlRSm35ORkjB8/Hg0bNoS+vj48PDxw7949yGQyLFq0qMT9+XJ7X19fNGnSBNra2jA1NYW7uzsiIyNVll2zZg3s7Oygr6+Pjh074ty5c0rvX7p0CSNGjICtrS10dXVha2uLkSNHIiYmRmm5wMBAyGQy/Prrr/D29oaJiQn09PSQnZ2NqKgoeHl5oVmzZtDT04OVlRUGDBiA69evVyj36OhomJiYKH5Hhfv95V63O3fuYNSoUTA1NYW2tjYcHBzg7++vtI3Cy7xBQUHw9fWFlZUVtLW1ERUVVewl4Hv37mHEiBGwtLSEtrY2zMzM4Obmpri8WdFjAXj+72zkyJEwMzODtrY2rK2tMWbMGGRnZ5f6u62Id955B61atUJoaCg6deqk+P1t27YNAPDzzz/D2dkZenp6aN26NX755Rel9iVdci3rEu7p06fRvn17AICXl5dinxQeuyW13717Nzp27Ah9fX3o6+ujTZs22LJlS6mf0d/fH127doWpqSnq1q2L1q1bY+XKlcjNzVVaLiwsDP3791ccF5aWlvDw8MDDhw8Vy+zfvx8uLi4wNDSEnp4emjRpAm9v71K3T7UXewDptQwePBgjRozApEmTFAXIqVOn0LdvX7i4uGDDhg0wNDTE3r17MXz4cGRkZCi+zGJjY9G+fXvk5ubis88+g6OjI5KSknDs2DE8e/YMZmZmyMjIQLdu3fDw4UPFMjdu3MCCBQtw/fp1/Pbbb8WeaE1MTNC/f39s374dixcvhobGi791tm3bBi0tLXh6egJ4Xvx16NABGhoaWLBgAezt7REaGoply5YhOjpa8WVSaO3atXjrrbewevVqGBgYoFmzZsXuGyEEBg0ahBMnTmDOnDno0qULrl27hoULFyI0NBShoaFKPYfh4eGYMWMGFi1aBHNzc+zatQsff/wxcnJy8MknnwBAhffHoUOHcPbsWSxYsADm5uYwNTUF8PxL+8MPP4S1tTUA4Ny5c/joo48QGxuLBQsWAHh+SX3o0KEwNDREQEAAAJSrp3PIkCEYPnw4xo8fj+vXr2POnDkAgK1btwIACgoKMGDAAFy6dAmLFi1SXJIs7yWzf/75B66uroiOjsasWbPg4uKCtLQ0/P7773j06BFatGihWNbf3x8tWrTAV199BQCYP38+3N3d8ffff8PQ0FCxL5o3b44RI0agYcOGePToEdavX4/27dvj5s2bMDY2Vtq+t7c3PDw8EBQUhPT0dGhqaiIuLg5GRkb43//+BxMTEzx9+hTbt2+Hi4sLwsLC0Lx583Ll3qlTJ/zyyy/o27cvxo8fjwkTJgCAoii8efMmOnXqBGtra3zxxRcwNzfHsWPHMH36dCQmJmLhwoVKuc6ZMwcdO3bEhg0boKGhAVNTU8THx6vsU3d3d+Tn52PlypWwtrZGYmIi/vzzT8UfKhU9Fq5evQpXV1cYGxtjyZIlaNasGR49eoTDhw8jJyenUnvM4+Pj4eXlhU8//RSNGjXCN998A29vbzx48AAHDhzAZ599BkNDQyxZsgSDBg3CvXv3YGlp+VrbdHZ2xrZt2+Dl5YV58+bBw8MDAErt9VuwYAGWLl2KwYMHw9fXF4aGhvjrr79U/tAo6u7duxg1apTiD76rV69i+fLliIyMVPybSk9PR69evWBnZwd/f3+YmZkhPj4ep06dwj///AMACA0NxfDhwzF8+HAsWrQIOjo6iImJwcmTJ19rX1ANJohewcKFCwUAsWDBApX3WrRoIdq2bStyc3OV4v379xcWFhYiPz9fCCGEt7e30NTUFDdv3ixxOytWrBAaGhri4sWLSvEDBw4IAOLIkSOKmI2NjRg7dqzi9eHDhwUA8euvvypieXl5wtLSUgwZMkQR+/DDD4W+vr6IiYlR2sbq1asFAHHjxg0hhBB///23ACDs7e1FTk5OiTkX+uWXXwQAsXLlSqX4vn37BACxadMmpdxlMpkIDw9XWrZXr17CwMBApKenV3h/ABCGhobi6dOnpeaZn58vcnNzxZIlS4SRkZEoKChQvNeyZUvRrVs3lTaF+2Lbtm2KWOExUfTzTpkyRejo6CjW+/PPPwsAYv369UrLrVixQgAQCxcuLDXfJUuWCADi+PHjJS5TmF/r1q1FXl6eIn7hwgUBQOzZs6fEtnl5eSItLU3UrVtXfP3114r4tm3bBAAxZsyYUvMrXEdOTo5o1qyZ8PHxqVDuT548KXE/9OnTRzRq1EikpKQoxadNmyZ0dHQUv+tTp04JAKJr164q6yh879SpU0IIIRITEwUA8dVXX5X6mSpyLPTo0UPUr19fJCQklLrO19WtWzcBQFy6dEkRS0pKEnK5XOjq6orY2FhFPDw8XAAQa9euVcTGjh0rbGxsVNZbeCy/rOj55eLFiyqfu6T29+7dE3K5XHh6epb6eUrKp1Dhv9UdO3YIuVyu+H1funRJABCHDh0qsW3h+Sw5ObnUHEh98BIwvZYhQ4YovY6KikJkZKSidy0vL0/x4+7ujkePHuHWrVsAgKNHj6J79+5wcHAocf3BwcFo1aoV2rRpo7SuPn36lDmTsV+/fjA3N1fqwTt27Bji4uKULnsEBweje/fusLS0VNpGv379AABnzpxRWu/AgQOhqalZ5r4p/Mu66KD5999/H3Xr1sWJEyeU4i1btoSTk5NSbNSoUUhNTcWVK1deaX/06NEDDRo0KDa3nj17wtDQEHK5HJqamliwYAGSkpKQkJBQ5mcrzcCBA5VeOzo6IisrS7Hewv05bNgwpeVGjhxZrvUfPXoUb731Fnr27Fnmsh4eHpDL5Uq5AFDqdUlLS8OsWbPQtGlT1KlTB3Xq1IG+vj7S09MRERGhss6ixzzw/Dj38/PD22+/DS0tLdSpUwdaWlq4c+eO0joqkntRWVlZOHHiBN577z3o6emp/NvKyspSubxdXK5FNWzYEPb29li1ahXWrFmDsLAwFBQUVDi/QhkZGThz5gyGDRum6Lksr8IxtYU/5cnDwsIC7dq1U7xu2LAhTE1N0aZNG6WevsLzTFk9bm/C8ePHkZ+fj6lTp1a4bVhYGAYOHAgjIyPFv9UxY8YgPz8ft2/fBgA0bdoUDRo0wKxZs7BhwwbcvHlTZT2Fl6yHDRuG7777DrGxsa/3oajGYwFIr8XCwkLpdeHYvU8++QSamppKP1OmTAEAJCYmAng+Tq+sgdKPHz/GtWvXVNZVr149CCEU6ypOnTp1MHr0aBw8eFBxKSswMBAWFhbo06eP0jZ++uknlW20bNlSKd+SPnNJkpKSUKdOHZUvQZlMBnNzcyQlJSnFzc3NVdZRGCtctqL7o7hcL1y4gN69ewMANm/ejJCQEFy8eBFz584F8Hxiw+swMjJSel14ua9wvYX7pWHDhkrLmZmZlWv95TluypsL8LzIXrduHSZMmIBjx47hwoULuHjxIkxMTIrdF8Xt05kzZ2L+/PkYNGgQfvrpJ5w/fx4XL16Ek5OT0joqkntRSUlJyMvLwzfffKPy+3d3dwfwaseqTCbDiRMn0KdPH6xcuRLOzs4wMTHB9OnTFZcPK+LZs2fIz89/pc/p5uam9LnKMz6t6HEEAFpaWipxLS0tAM8L6ar25MkTAKVfIi7O/fv30aVLF8TGxuLrr7/G2bNncfHiRcWYz8Jjy9DQEGfOnEGbNm3w2WefoWXLlrC0tMTChQsVYwW7du2KQ4cOIS8vD2PGjEGjRo3QqlUr7NmzpxI/KdUkHANIr6Xo+LvC8VJz5szB4MGDi21TOB7KxMREaYBycYyNjaGrq6sY61Lc+6Xx8vLCqlWrFGMQDx8+jBkzZij1ChkbG8PR0RHLly8vdh1FxwuVd8ankZER8vLy8OTJE6UiUAiB+Ph4xV/khYobm1UYKyxkKro/ist179690NTURHBwMHR0dBTxQ4cOletzva7C/fL06VOlL+niPn9xynPclFdKSgqCg4OxcOFCzJ49WxHPzs7G06dPi21T3D7duXMnxowZAz8/P6V4YmIi6tevXym5N2jQAHK5HKNHjy6xJ8nOzq7MXItjY2OjmIxw+/ZtfPfdd1i0aBFycnKwYcOGCuXZsGFDyOXyV/qcGzduVCo6y/r3/bp0dHSKnZRS2h+Wr6Lw3//Dhw/RuHHjcrc7dOgQ0tPT8cMPP8DGxkYRL+7eg61bt8bevXshhMC1a9cQGBiIJUuWQFdXV3Fsv/vuu3j33XeRnZ2Nc+fOYcWKFRg1ahRsbW3RsWPH1/yUVNOwAKRK1bx5czRr1gxXr15V+TIsql+/fggKCsKtW7cURWFR/fv3h5+fH4yMjFS+3MrDwcEBLi4u2LZtG/Lz85GdnQ0vLy+VbRw5cgT29vbFXi59VW5ubli5ciV27twJHx8fRfz7779Heno63NzclJa/ceMGrl69qnQZePfu3ahXrx6cnZ0Vub7O/gCeFwV16tRRKoIzMzMRFBSksqy2tvZr9wgW1a1bN6xcuRL79u3D5MmTFfG9e/eWq32/fv2wYMECnDx5Ej169HitXGQyGYQQKpMSvv32W+Tn51doPUXX8fPPPyM2NhZNmzatUO7F9VICgJ6eHrp3746wsDA4OjoqerQq21tvvYV58+bh+++/Vww9KMyrPMeCrq4uunXrhv3792P58uUVKuJKOg+8Kba2tkhISMDjx48VPdA5OTk4duxYmW1L+j0Vp3fv3pDL5Vi/fn2FCq3CAv7lY0sIgc2bN5faxsnJCV9++SUCAwOVfocv596tWzfUr18fx44dQ1hYGAtANcQCkCrdxo0b0a9fP/Tp0wfjxo2DlZUVnj59ioiICFy5cgX79+8HACxZsgRHjx5F165d8dlnn6F169ZITk7GL7/8gpkzZ6JFixaYMWMGvv/+e3Tt2hU+Pj5wdHREQUEB7t+/j19//RW+vr5wcXEpNR9vb298+OGHiIuLQ6dOnVS+ZJYsWYLjx4+jU6dOmD59Opo3b46srCxER0fjyJEj2LBhwytdzurVqxf69OmDWbNmITU1FZ07d1bMAm7bti1Gjx6ttLylpSUGDhyIRYsWwcLCAjt37sTx48fx+eefK+6vWBn7w8PDA2vWrMGoUaPwn//8B0lJSVi9enWxMzMLexX27duHJk2aQEdHB61bt67wvnhZ37590blzZ/j6+iI1NRXt2rVDaGgoduzYAQBKM7aLM2PGDOzbtw/vvvsuZs+ejQ4dOiAzMxNnzpxB//790b1793LnYmBggK5du2LVqlUwNjaGra0tzpw5gy1btij13JWlf//+CAwMRIsWLeDo6IjLly9j1apVKsdNeXKvV68ebGxs8OOPP8LNzQ0NGzZU5Pb111/D1dUVXbp0weTJk2Fra4t//vkHUVFR+Omnn15pRue1a9cwbdo0vP/++2jWrBm0tLRw8uRJXLt2TalXtCLHwpo1a+Dq6goXFxfMnj0bTZs2xePHj3H48GFs3LgR9erVq3Ceb8Lw4cOxYMECjBgxAv/973+RlZWFtWvXlqv4t7e3h66uLnbt2gUHBwfo6+vD0tKy2BnGtra2+Oyzz7B06VJkZmYqbpN08+ZNJCYmKm78XVSvXr2gpaWFkSNH4tNPP0VWVhbWr1+PZ8+eKS0XHByMgIAADBo0CE2aNIEQAj/88AOSk5PRq1cvAM9nIT98+BBubm5o1KgRkpOT8fXXX0NTUxPdunV7hb1HNZ6EE1CoBiuc5fbkyZNi37969aoYNmyYMDU1FZqamsLc3Fz06NFDbNiwQWm5Bw8eCG9vb2Fubi40NTWFpaWlGDZsmHj8+LFimbS0NDFv3jzRvHlzoaWlJQwNDUXr1q2Fj4+PiI+PVyxXdJZeoZSUFKGrqysAiM2bNxeb75MnT8T06dOFnZ2d0NTUFA0bNhTt2rUTc+fOFWlpaUKIF7MdV61aVe79lJmZKWbNmiVsbGyEpqamsLCwEJMnTxbPnj1TWs7GxkZ4eHiIAwcOiJYtWwotLS1ha2sr1qxZo7LO8u4PAGLq1KnF5rV161bRvHlzoa2tLZo0aSJWrFghtmzZIgCIv//+W7FcdHS06N27t6hXr54AoJihWNos4KLHROHs2ZfX+/TpU+Hl5SXq168v9PT0RK9evcS5c+cEAKWZtyV59uyZ+Pjjj4W1tbXQ1NQUpqamwsPDQ0RGRirlV9zvCkVm2D58+FAMGTJENGjQQNSrV0/07dtX/PXXXyrHU+HnKDoDuzCf8ePHC1NTU6GnpydcXV3F2bNnRbdu3VRmzpaVuxBC/Pbbb6Jt27ZCW1tbAFDK4++//xbe3t7CyspKaGpqChMTE9GpUyexbNkyxTKFM33379+vkmvRWcCPHz8W48aNEy1atBB169YV+vr6wtHRUXz55ZdKM6grciwIIcTNmzfF+++/L4yMjISWlpawtrYW48aNE1lZWSo5vapu3bqJli1bqsQL/z0VVdy/iSNHjog2bdoIXV1d0aRJE7Fu3bpyzQIWQog9e/aIFi1aCE1NTaXjqrj2QgixY8cO0b59e6GjoyP09fVF27ZtlfZbcbOAf/rpJ+Hk5CR0dHSElZWV+O9//yuOHj2q9DuMjIwUI0eOFPb29kJXV1cYGhqKDh06iMDAQMV6goODRb9+/YSVlZXQ0tISpqamwt3dXZw9e1YlT1IPMiFeuvMrEUnC1tYWrVq1QnBwsNSpSGb37t3w9PRESEgIOnXqJHU6RES1Gi8BE1GV27NnD2JjY9G6dWtoaGjg3LlzWLVqFbp27crij4ioCrAAJKIqV69ePezduxfLli1Deno6LCwsMG7cOCxbtkzq1IiI1AIvARMRERGpGd4ImoiIiEjNsAAkIiIiUjMsAImIiIjUDAtAIiIiIjXDWcCvoaCgAHFxcahXr165n7lJRERE0hJC4J9//oGlpWWZTx+qrVgAvoa4uLgKPdibiIiIqo8HDx680qM+awMWgK+h8HmWDx48gIGBgcTZEBERUXmkpqaicePG1ea51FJgAfgaCi/7GhgYsAAkIiKqYdR5+JZ6XvgmIiIiUmMsAImIiIjUDAtAIiIiIjXDApCIiIhIzbAAJCIiIlIzLACJiIiI1AwLQCIiIiI1wwKQiIiISM2wACQiIiJSMywAiYiIiNRMrSkAf//9dwwYMACWlpaQyWQ4dOhQmW3OnDmDdu3aQUdHB02aNMGGDRuqIFMiIiIiadWaZwGnp6fDyckJXl5eGDJkSJnL//3333B3d8fEiROxc+dOhISEYMqUKTAxMSlXe3rzNm26jGvXHivFjIx0sXhx9zLb+vj8gtzcAqWYq6s1RoxoVWq7qKin+OqrcyrxiROd4eRkXmrbw4dv4ddf76rE16zpAy0tealtP//8Dzx4kKoUs7dvAB+fjqW2S0vLwezZvz1/kS+Au8+A+toYML4t+vRpWnLDkIe4uDEM2/+KV447m+HTBd1gbW1Ycttt17HjwE1cePRSvrp1UNe1ET7/vFep+WLO75hz6i7+ycl7EbPQx7/ed8C4cW1Kbhf1DA/XXMD/zt1XjjsYYfT0DnBxaVRy2yP3cHz7Vfx4J1E53tESfit6wsBAu+S2X13C2uBbuP0040XMUBtWve0wZ06Xktv9k4O8JSGYcSJKOW5jgJ5jnTBoUIuS216Ox3X/y9gYHqccdzLFR7M7o3lz45Lb7r6J7/bdwO8Pkl/ENOWQ/9sCX3/dr+R2ALA4BIuPR+FJRs6LmIkeWr3XHJMm/avkdg9SkbjyPBaFRCvH32qA9yf/C9262Zbc9kQMzm4Jx77IBOV4ewssWNodpqZ1S267IRybDkbg2pO0FzF9LRh1ty79HJGTD8z/Az4nopBb8NI5olE9uI5qVfo54q9ERK29iK8uPVSOtzLGRN+OpZ8jDt7G4aDr+DX66YuYhgz4t2XZ54jPz+Pzo7fxIDXrRayhDuw9mpZ+jkjIQNqKUMw+c0853qQ+BkzkOULd1ZoCsF+/fujXr4wT3Es2bNgAa2trfPXVVwAABwcHXLp0CatXr2YBWImys/MQFfUUERGJiIxMREREIgoKBPbsKXsfHzlyBz/+eEspZmdXv1wF4IYNl5GVlacUy88vKLMAjIv7B/7+F1XiPXs2KbMAPHfuYbFtV63qBaD0AvC7727iypVHSrEuXazLLACzsvKK3aZlG/PST+43knD74G34p6Upx8Pi4DX5X6Wf3H+Nxm8n7iEoO0cpbHTrSdkn923XsTUhCQlCvLRNYFR97dJP7nFpSNwTAf/kFJV8O/SxL/3kfvERrgRHwT8jQzkeFof5C7qVXgAeuoNDf0bjVK7yseT0LKP0AjAjFwXb/oJ/0lPleFgc6r7VsPQC8M4zRB+4Bf9//lFpO3i0Y+kF4OkH+P3Xu/DPylYKa4bFll0A7ryJnffiEVWg/IdTfy2N0gvAxEyk7roJ/2fJyvGwOLRwtS69AAxPwF+H78A/PV2l7cefdCy9AAy+iyOn/8aPOblKYbuHyaWfI/IKgK3XsSExCVkvx8OAfCv90s8RMSmI+y4S/inKf6whLA49BzuUfo4IicW5X+7CPzNTOX45tuxzxHeR+O7qA1zJz1cKd8nJK/0ckZqNrB034P/0mUq+ls48R6g7mRAv7+XaQSaT4eDBgxg0aFCJy3Tt2hVt27bF119/rYgdPHgQw4YNQ0ZGBjQ1NVXaZGdnIzv7xYk1NTUVjRs3xrD10dDSNajcD1FLFBQIFHeEyeUypdc6eZnQz06FBl4sXNKBKSsh/rLKbivFNqVqy3yrb9ualm952ta0fEtqW9PyfZ22NTlfUVCAK6eDkJWejPO/bERKSgoMDNTz+7vW9ABWVHx8PMzMzJRiZmZmyMvLQ2JiIiwsLFTarFixAosXL1aJ66QLaBXUujr6DSu6v3SQBh1JMiEiotovPfkRfg+ahtjI0yhfOVm7qW0BCDzvKXxZYWdo0XihOXPmYObMmYrXhT2ABTIgq27tPZgEnvfkFa3ZZBoyaJTxsYX4/7ZFaGjI8PJuNk2Ph4Z4fnmjQCZXbLc4Uv8FWVXblKot862+bWtavuVpW9PyLaltTcv3ddrWxHxjoy7jx00fISs9uZQl1YvaFoDm5uaIj1ce3JqQkIA6derAyMio2Dba2trQ1lYdL5SjJ8O+sQ3eSJ5v0tOnmUhKykCzZsV/3kKJiRkwMVmlEvf17YjVq3uX2vb69cdwdFSdXb16dS/4+nZ6EdjYGkiLBfStgA+fD7AeOvQ7HD5cdAxgA9y6Na3UbQKAgcEKlTGA//lPO6xb515qu7NnY+DmtkMlvn//+3j33VLGbQGYP/8kPv88RCWekjIburqqQwpe5uLyLcLClMcAurpa4+TJsSU3EgKJw36E5YGrynENGZZ0tsXswIFAk/rFt/32Gvb89zeMTS4yzkxTA+fOTYCzs2oPuMLon+H1/XXsynxpnJkMMDLTx6NHviW3A4DG69EoLhEJL48z05BhhGdr7NjxXsntzj7E1cE/oH1ikbFMdTSwddu7+OADx5LbLv0Tq1b9ibn/FBlnpqmBBw98YGamX3Jbt33o/cddnH55nJlMBkdnc1y69J+S2z1OR06bQOjHF5l4Ipfhk087w8/PreS230UieNJRDH5WZJxZHQ0c+/UDdO9uV3Lbyb/i4x3hWCZAxF8AACAASURBVJ/x0jgzGaCpq4n09M9KbgcAb2/B23ceISrvpXFmGjJ4DGyOgweHl9wu/DHu9f4OLZ4UGe9YRwNffd0XU6a0L7ntl5ewcdEZfJRaZJyZpgZu3JhS+rlp0EEMPRaJw1kvjTOTAXbNjEo/R2TkAk03wyA+EVkvj0+Ry/CfSf8q/Rxx5B7OjjkMt6Qi48zqaGD/gTLOEZ+ewfz1F/B5WpGxqJoaZZ8jXILgEnYfYS+PRdWQwbWbTenniKhnSHTdBcvHScpxuQxLlvXA7NmuJbetZeeI/37aEyeC6iArHbC0tERAQECpw8TUgdqOAZw1axZ++ukn3Lx5UxGbPHkywsPDERoaWq7tpKamwtDQEMPWR2PfJJvXzvtN27XrGn7/PQaRkUmIjExEQkI6nJ0tcPlyKV9k/8/YeCWSkpQHL3t4NENw8KhS22Vl5aFuXT9FL6CWlhzNmjXE1KntMXnyS18MGxupFIBUhvwCYPVFYM0loGgv66p3gHGlT3ghIlInhw8fxvbt27Fp0yZoamrC0NCQYwBrg7S0NERFvbjlwt9//43w8HA0bNgQ1tbWmDNnDmJjY7Fjx/PenUmTJmHdunWYOXMmJk6ciNDQUGzZsgV79uyR6iO8cYcO3cKBAzeVYpGRz2flapRxLbdFC2OEhDxQikVEJJaw9As6OnXg7+8OK6t6cHAwga1tfdSpU2tuPyktuQYwywXoYQ1MOQ5E/3+PUW9bYGxLSVMjIpJKfn4+1q5dizFjxihd0Rs4cCAGDhwI4HkHjrqrNQXgpUuX0L37i6n/hWP1xo4di8DAQDx69Aj377+4P5CdnR2OHDkCHx8f+Pv7w9LSEmvXrq32t4BJT89BeHi84pYqhf/du3cI2re3KrVtixaql1MyMnLx8GFq6VP6ATg4qBaAMTHJyM7Og7Z26YdRqbeQoNfX3gI4NQL47CzwWzTwVQ+ghHGsRES1WUxMDEaPHo2zZ88iJCQE+/fvL3Fcv7qrNQXgO++8g9KuZgcGBqrEunXrhitXrrzBrCrf+fOxxY5Ri4hILLMAdHAwKTYeGZlYZgHYtasNUlKy0aKFMRwcjNGihTHeesuozOKPqoi+FrDWDXiSAZjoSZ0NEVGV27NnDyZPnoyUlOdjNA8ePIiwsDA4OztLnFn1xG9vCWVm5uLOnaeIjHzek2dqWrfM3jIHh+JvAhsR8aTM7bVoUXzbyMhE9O5tX2rb0aOdMHq0U5nbIImx+CMiNZOSkoJp06Zh586dipiNjQ2CgoJY/JWCBaBEevcOwm+/3VO6SbKLi1WZBaC5uT4MDLSRmqp8p//IyKQSWrzw1ltG0NCQwdraUKkn7513bF/lIxAREUnqjz/+wAcffICYmBhFbNSoUQgICIChYelXttQdC8BKUlAgEBOTjMjIRHTvbgcdndJ3rZ6epsoTMiIjEyGEKHW8gkwmg4ODMc6fj1VpWxZ9fS2kpc0p85YkRERE1Vlubi6WLl2K5cuXo+D/bxljYGCAgIAAeHp6SpxdzcDpmJWgoECgbl0/NGmyFu7uu1/5cmxKSjbi49OKWbrktg0b6qJz58bo3t221DGQhVj81VA3E4Hc/LKXIyJSAz/99BOWLl2qKP5cXV1x9epVFn8VwB7AyiCgdNPhyMhEtG1byk0yUfJYvsjIRFhY1Cu1rY/PvzF+fFu0aGEME5NSHpZOtcOjNGDQQcDWEFjfC7CveTcdJyKqTO+99x4GDx6MH3/8EYsXL8bs2bMhl8ulTqtGYQH4BpTn/njF9QDq6NTB48fpxSytzMnJ/JXyohqoQADTTwDPsoFnCUCPfcBSV2B0S97qhYjURmZmJnR1dRWvZTIZNm3ahFmzZqFDhw4SZlZzsQB8A8ozHs/BwQQTJrSFg4OJYkKGtbUh5HJelaeXbLoKnH7p/osZeYDvaeDXaODbvkAZY02JiGq6kydPYuzYsQgICMCAAQMUcSMjoxIf3Upl47fHG1CeHkADA21s3jywCrKhGutmIrCshMcS6moC2rzcQUS1V3Z2NubPn4/Vq1dDCAFvb29cv34d5ua8ClYZWABWBhkwYkQrtGhhhBYtjPH228XfcJmoQgQAawPgTpGHm1vqA6u68RIwEdVaERER8PT0RFhYmCLm5ORUrsmOVD4sACuBhoYMe/ZU70fIUQ3U0hj4bRiw6E9g2/XnMRkA/55AfR1JUyMiehOEENiwYQN8fX2RmZkJANDS0oKfnx98fHygocFhUpWFBSBRdaanCazsBvSyAT4+AQxvAbg2kjorIqJKl5CQgPHjxyM4OFgRc3BwwO7du9GmTRsJM6udWAAS1QS9bIHfRwH1tKTOhIio0oWEhGDw4MFISEhQxKZNm4aVK1cqzf6lysMCkKimMOZJkIhqp8aNGyM7+/kjTk1NTbF161Z4eHhInFXtxgKwusvJBxIzVeP1tZ9fHizNPznPf4oy0wPKut3Mkwwgt0A5VkcDMNUrvZ0QwKNi7mWorwkYaJfeFgDyBRBX5GkoRrplz3hNznp+i5SiLPXL3mZ8+vP77b1MW/58u6XJzQeeFPO7MdAC9MvoqUvLAVKL+d2Y6j3fz0REasTa2hobNmxAUFAQtm7dCjMzM6lTqvVYAFZ3EUlAz+9U4+t7AUObl97222uA3znVeOT4soub8b8AoXHKMUcT4MTw0ttl5QNOgarxj9sB8zqW3hYAHmeotj/0HtDZqvR2y88BgX8px3TkwIPJZW+z//dATKpyrJ8dsKOMvz7v/wP8e6dqfGU3wKt16W33RgJzfleNXxz9/IkfRES1VEFBATZv3oyRI0fCwMBAER8xYgSGDx8OGe9wUCXY1UBERERVIi4uDn379sWkSZPw0UcfqbzP4q/qsAAkIiKiN+7gwYNwdHTE8ePHAQA7duxAeHi4xFmpL14ClkJcGvDTXdV4b1vAjpf/iIio9khLS4OPjw++/fZbRczCwgLbt2/n7V0kxAJQCn+nAPPOqsYb12MBSEREtcbFixfh6emJO3fuKGLvvfceNm/ezOf4SowFYHVnoQ8s6awadyzH4+a6NgJ0imlb1uxhAPBu/XwixMuMy5gBDAB1ZMXn27acM7oMtVTb2xoUv+zL+tsDTYoUz2XNdC4041/AP9lFtlmOQtxIp/jP2t6i7LYdLIpv24BP+CCimi8/Px+ff/45Fi5ciLy853do0NPTw9q1a+Ht7c2xftUAC8DqzlQPmNz21dq2M3/+8yoGNXu1dpryV88XAOpqAh++QvtujZ//vIoP3n61dvV1Xv2zOpqUr4gnIqqBDhw4gLlz5ypet2/fHrt27UKzZq/43UKVjpNAiIiIqFINGzYMffv2hYaGBubOnYuQkBAWf9UMewCJiIjoteTk5EBL68UN8GUyGbZt24Y7d+6gS5cuEmZGJWEBKIV2ZsCVMarxsm7OTEREVM2EhIRgzJgx2LRpE9zc3BRxc3NzmJu/4jAkeuN4CVgKOnWAxgaqP+WZnEFERFQN5ObmYsGCBejatSvu3buHsWPHIikpSeq0qJzYA0hEREQVcvfuXXh6euL8+fOKmJ2dHTIzi3k+OlVL7AEkIiKichFCIDAwEG3atFEUf3K5HMuWLcPp06fRqFEjiTOk8mIPIBEREZXp6dOn+PDDD3HgwAFFzN7eHrt27YKLi4uEmdGrYA8gERERlercuXNwdHRUKv7Gjx+P8PBwFn81FHsAiYiIqFTGxsZITk4GADRo0ACbN2/GkCFDJM6KXgd7AImIiKhUTZs2xddffw03Nzdcv36dxV8twB7ASmCSngBsLOa5rlR+6Y+kzoCIiPB8okdQUBCGDh0KPb0Xz4D39vaGl5cXNDTYd1QbsACsBBoiH0iLlTqN2kGrntQZEBGprYSEBIwfPx7BwcE4d+4cAgICFO/JZDLIZDIJs6PKxAKwsuhblX/ZnHwgMUs13lAH0JFXXk41jVY9oPNSqbMgIlJLR48exbhx45CQkAAAWL9+PaZMmYJWrVpJnBm9CSwAK0GBTA58+LD8DUJigUEHVePb3QH3JpWXGBERURkyMzMxa9YsfPPNN4qYqakptm7dyuKvFmMBSEREpKauXr0KT09P3LhxQxFzd3fH1q1bYWZmJmFm9KZxJCcREZGaKSgowJdffokOHTooij8dHR2sW7cOwcHBLP7UAHsApaBbB2haXzVeV7PqcyEiIrWzd+9ezJw5U/HayckJu3fvxttvvy1hVlSVWABKwdkMCP1A6iyIiEhNDR8+HJs2bcKZM2fg6+uL5cuXQ1tbW+q0qAqxACQiIqrl8vPzIZe/uMuEXC5HUFAQbt26hZ49e0qYGUmFYwCJiIhqsYsXL6J169b4888/leKNGzdm8afGWAASERHVQvn5+fDz80OnTp0QEREBT09PpKamSp0WVRO8BExERFTLxMTEYPTo0Th79qwiZmJigpSUFBgYGEiYGVUX7AEkIiKqRfbs2QMnJydF8aehoYF58+YhJCQEjRs3ljg7qi7YA0hERFQLpKSkYNq0adi5c6ciZmNjg6CgIHTp0kXCzKg6YgFIRERUw128eBHDhg1DdHS0Iubp6Ql/f38YGhpKlxhVWywAiYiIajg9PT3Ex8cDAAwMDLB+/XqMGjVK4qyoOmMBKIWQWGDwIdX4tn6Ae5Oqz4eIiGq0li1bYuXKlfjuu+8QFBQEW1tbqVOiao6TQKRSIFR/iIiIyiCEwPfff4/s7Gyl+LRp03D69GkWf1QuLACJiIhqiKdPn2LYsGEYOnQo5s6dq/SeTCZTetoHUWlYABIREdUAJ0+ehKOjIw4cOAAA+OKLL3Dz5k2Js6KaigUgERFRNZadnY1PP/0UPXv2RGxsLACgYcOG+P777/H2229LnB3VVJwEIgWLusBER9W4De/OTkREL0RERGDUqFEIDw9XxNzc3LB9+3ZYWVlJmBnVdCwApdCkPuDXVeosiIiomhJCYP369fD19UVWVhYAQEtLC35+fvDx8YGGBi/g0ethAUhERFTN7Ny5E1OnTlW8dnBwwO7du9GmTRsJs6LahH9CEBERVTMjRoyAi4sLAGDq1Km4dOkSiz+qVOwBJCIikpgQAjKZTPFaU1MTu3btQmRkJDw8PCTMjGor9gASERFJ6OrVq2jXrh2uXLmiFLe3t2fxR28MC0AiIiIJFBQU4Msvv0SHDh0QFhaGUaNGISMjQ+q0SE3UqgIwICAAdnZ20NHRQbt27XD27NlSl//qq6/QvHlz6OrqonHjxvDx8VHMtiIiInpT4uLi0LdvX8ycORM5OTkAAG1tbTx58kTizEhd1JoCcN++fZgxYwbmzp2LsLAwdOnSBf369cP9+/eLXX7Xrl2YPXs2Fi5ciIiICGzZsgX79u3DnDlzqjhzIiJSJ4cOHYKjoyOOHz+uiPn6+uLChQuwsbGRMDNSJ7VmEsiaNWswfvx4TJgwAcDz3r1jx45h/fr1WLFihcryoaGh6Ny5M0aNGgUAsLW1xciRI3HhwoU3n2xyFnC1mL/y3jYCTPTe/PaJiKjKpaenw8fHB5s3b1bELC0tsX37dvTs2VPCzEgd1YoCMCcnB5cvX8bs2bOV4r1798aff/5ZbBtXV1fs3LkTFy5cQIcOHXDv3j0cOXIEY8eOffMJ30gChv6oGt/uDrg3efPbJyKiKhUWFoYRI0bg9u3bitjgwYOxadMmGBkZSZgZqataUQAmJiYiPz8fZmZmSnEzMzPEx8cX22bEiBF48uQJXF1dIYRAXl4eJk+erFJEviw7OxvZ2dmK16mpqZXzAYiIqFYrKCjAvXv3AAB169bF2rVr4eXlpXTrF6KqVGvGAAJQ+YdU9L5KLzt9+jSWL1+OgIAAXLlyBT/88AOCg4OxdOnSEte/YsUKGBoaKn4aN25cqfkTEVHt1K5dOyxbtkwx49fb25vFH0mqVhSAxsbGkMvlKr19CQkJKr2ChebPn4/Ro0djwoQJaN26Nd577z34+flhxYoVKCgoKLbNnDlzkJKSovh58OBBpX8WIiKq+Y4cOYLc3Fyl2CeffII//vgDzZo1kygrohdqRQGopaWFdu3aKc2oAoDjx4+jU6dOxbbJyMhQeZi2XC6HEAJCiGLbaGtrw8DAQOmHiIioUEpKCkaPHg0PDw+VK0pyuRyampoSZUakrFaMAQSAmTNnYvTo0fjXv/6Fjh07YtOmTbh//z4mTZoEABgzZgysrKwUM4IHDBiANWvWoG3btnBxcUFUVBTmz5+PgQMHQi6Xv9lkHRoCu/urxh1N3ux2iYjojQkJCcEHH3yA6OhoAMDy5cvh6emJ5s2bS5sYUTFqTQE4fPhwJCUlYcmSJXj06BFatWqFI0eOKO6pdP/+faUev3nz5kEmk2HevHmIjY2FiYkJBgwYgOXLl7/5ZBvqAr1s3/x2iIjojcvNzcXSpUuxfPlyxRAiAwMDBAQEsPijaksmSrreSWVKTU2FoaEhpq6+gHW+7aVOh4iIqtjdu3fh6emJ8+fPK2Kurq4ICgqCra2tdIlRqQq/v1NSUtR2OFetGANIRERUlYQQCAwMRJs2bRTFn1wux7Jly3D69GkWf1Tt1ZpLwERERFVlx44d8PLyUry2t7fHrl274OLiImFWROXHHkAiIqIKGjFiBBwdHQEA3t7eCA8PZ/FHNQp7AImIiMpQ9MEC2tra2L17NyIiIjB06FAJMyN6NewBJCIiKkVERAQ6d+6MGzduKMVbtmzJ4o9qLBaARERExRBCICAgAM7OzggNDcWoUaOUngdPVJPxErAU/k4Btv+lGh/eAnAwqvp8iIhISUJCAry9vfHzzz8rYrm5uYiPj1fcX5aoJmMBKIW4NMA/TDXewYIFIBGRxI4ePYpx48YhISFBEZs6dSpWrlwJPT09CTMjqjy8BExERAQgMzMTH330Edzd3RXFn6mpKYKDg7Fu3ToWf1SrsAeQiIjU3vXr1zFixAjcvHlTEXN3d8fWrVthZmYmYWZEbwZ7AImISO2lpqYiMjISAKCjo4N169YhODiYxR/VWiwAiYhI7XXu3Blz586Fk5MTLl++jKlTpyrd94+otpEJIYTUSdRUhQ+Tnrr6Atb5ti9/QyGAgmJ2u4YM4AmHiOiNO3XqFLp27Qq5XK6I5ebmoqCgANra2hJmRlWh8Ps7JSUFBgYGUqcjCfYASkEmA+Qaqj8s/oiI3qi0tDRMnDgRPXr0wOrVq5Xe09TUZPFHaoMFIBERqYWLFy/C2dkZ3377LQBg3rx5uHPnjsRZEUmDBSAREdVq+fn58PPzQ6dOnRQFX926dbFx40Y0bdpU4uyIpMHbwBARUa0VExOD0aNH4+zZs4pYhw4dsHPnTjRr1kzCzIikxR5AIiKqlfbs2QMnJydF8aehoYF58+bhjz/+YPFHao89gEREVOsEBgbCy8tL8drGxgY7d+6Eq6urhFkRVR/sASQiolpn2LBhaN68OQDA09MTV69eZfFH9BL2ABIRUa2jp6eH3bt3IyIiAp6enlKnQ1TtsACUQvhj4OOTqvFlXYAujao+HyKiGiwqKgqTJ0/G+vXrlWb1Ojs7w9nZWcLMiKovFoBSSM8Dbiapxv/JqfpciIhqKCEEAgMD8dFHHyE9PR0ffPABzp49C01NTalTI6r2OAaQiIhqnKdPn2LYsGHw9vZGeno6ACAxMRGxsbESZ0ZUM7AAJCKiGuXkyZNwdHTEgQMHFLHx48cjPDwctra20iVGVIOwACQiohohOzsbn376KXr27Kno6WvQoAEOHDiAb7/9Fvr6+hJnSFRzcAygFAy1ga7FTPYw0q36XIiIaoCIiAiMGjUK4eHhipibmxu2b98OKysrCTMjqplYAEqhlTHw/SCpsyAiqjFiY2MVxZ+Wlhb8/Pzg4+MDDQ1eyCJ6FdXiX05BQQFiYmKQn58vdSpERFQN9ezZE76+vnBwcMD58+fh6+vL4o/oNUj6rycrKwtTp06Frq4u7O3tERMTAwCYOXMm1qxZI2VqREQkoXPnzkEIoRRbvnw5Ll26hDZt2kiUFVHtIWkBOG/ePISEhODIkSPQ0dFRxLt27Ypdu3ZJmBkREUkhMzMT06dPR8eOHeHv76/0nra2NvT09CTKjKh2kbQAPHDgAPz9/eHm5gaZTKaIt2zZElFRURJmRkREVe3q1ato3749vvnmGwDAJ598gnv37kmcFVHtJGkBmJCQAEtLS5V4ZmamStc/ERHVTgUFBfjyyy/RoUMH3LhxAwCgo6ODL774AnZ2dhJnR1Q7SVoAOjs745dfflGJBwYGwsXFRYKMiIioKsXFxaFv376YOXMmcnKePw7TyckJly9fxtSpU5WuDhFR5ZH0NjB+fn7w8PDA7du3kZ+fj40bN+LmzZv47bffcPr0aSlTIyKiN+zgwYOYOHEikpJePBvd19cXy5cvh7a2toSZEdV+kvYAdu3aFadPn0ZcXBwsLS2xf/9+aGtrIyQkpHb3AGbnA/Fpqj+ZeVJnRkRUJQIDAzF48GBF8WdpaYnjx49j9erVLP6IqoBMcLDdK0tNTYWhoSGmrr6Adb7ty98wJBYYdFA1vt0dcG9SeQkSEVVTqampcHJyQnR0NAYPHoxNmzbByMhI6rRITRR+f6ekpMDAwEDqdCQh6SVgPT09xMTEwMTERCn+9OlTNGrUCBkZGRJlRkREb5KBgQF27tyJyMhIeHt7c6wfURWT/EbQxXVAZmdno6CgQIKMiIiossXExGDgwIG4f/++Urxz584YP348iz8iCUjSA7hp0yYAgEwmQ1BQEOrVq6d4Lz8/H6dPn8Zbb70lRWpERFSJ9uzZg8mTJyMlJQWpqak4ceIE5HK51GkRqT1JCsCFCxcCAIQQWLlypdLzHLW0tGBra4uAgAApUiMiokqQkpKCadOmYefOnYpYdHQ0Hj58CBsbGwkzIyJAogLw0aNHAICOHTviyJEjaNCggRRpSMfWAFjYSTXevGHV50JEVMlCQkLwwQcfIDo6WhHz9PSEv78/DA0NpUuMiBQknQQSGhoq5ealY1UPmOYsdRZERJUqNzcXS5cuxfLlyxXjuA0MDBAQEABPT0+JsyOil0laAALA48eP8fPPP+P+/fuKu8AX8vPzkygrIiKqiKioKHzwwQc4f/68Iubq6oqgoCDY2tpKlxgRFUvSAvDMmTMYMGAATE1NERMTg2bNmuHBgweQy+V4++23pUyNiIgqICIiQlH8yeVyLF68GLNnz+aED6JqStLbwMyePRtTpkxBVFQUdHR0EBwcjAcPHihuDUBERDXDgAEDMGnSJNjb2+PPP//E3LlzWfwRVWOSFoA3btzAhAkTAAB16tRBZmYm6tevj2XLlmH58uVSpkZERKW4evWqyn1cv/jiC4SHh6NDhw4SZUVE5SVpAairq4vc3FwAgIWFBe7duwfgeTGYkJAgZWpERFSM7OxsfPrpp2jbti22bdum9J6enh709fUlyoyIKkLSMYAuLi4IDQ2Fg4MD+vbti08//RS3b9/G/v370b59BZ6tS0REb1xERARGjRqF8PBwAMD06dPh5ubG+/oR1UCSFoCrVq1CWloaAGDx4sVITk7Gxo0b0bRpU3zzzTdSpkZERP9PCIENGzZg5syZyMrKAvD8pv2LFy9G48aNJc6OiF6FpAVg8+bNFf9fr149bN26VcJsqtDjdOBEjGq8SyOgsUHV50NEVIKEhASMHz8ewcHBipiDgwN2796NNm3aSJgZEb0Oye8DWJzExET873//w+rVq6VO5c2ISgY+Pqka3+7OApCIqo2jR49i3LhxSmOyp06dipUrV0JPT0/CzIjodUk2CSQqKgpbtmzBjh07FJeBk5OTMWfOHNja2uLQoUNSpUZEpPYCAwPh7u6uKP5MTU0RHByMdevWsfgjqgUkKQCPHTuG1q1bY+LEifDy8kL79u0REhICBwcHnD59GoGBgbh9+7YUqREREZ7f18/S0hIA4O7ujmvXrsHDw0PirIioskhSAC5ZskRxWWHZsmW4desWvLy8sH37doSGhmLo0KHQ0JD0DjVERGrNyMgIO3bsgL+/P4KDg2FmZiZ1SkRUiSSpsm7evIkZM2bA2NgYn3zyCWQyGdasWYPevXtLkQ4RkVqLi4vDyJEjER8frxR3c3PDlClTIJPJJMqMiN4USSaBpKSkoEGDBgAATU1N6OnpwcHBQYpUpOFkApweoRpvXK/qcyEitXbw4EFMnDgRSUlJSE5OxpEjR1jwEakByWYB3717F8nJyYrX0dHRyM/PV1rmrbfequq0qoa+FtDSWOosiEiNpaWlwcfHB99++60idu3aNTx48ADW1tYSZkZEVUGyAtDV1VXx/0II9OrVS/FXpxACMplMpSAkIqLXd/HiRXh6euLOnTuK2ODBg7Fp0yYYGRlJmBkRVRVJCsCIiAgpNktEpNby8/Px+eefY+HChcjLywMA1K1bF2vXroWXlxcv/RKpEUkKwJefAFKZAgICsGrVKjx69AgtW7bEV199hS5dupS4fHJyMubOnYsffvgBz549g52dHb744gu4u7u/kfyIiKQSExOD0aNH4+zZs4pY+/btsWvXLjRr1kzCzIhICrXmXiv79u3DjBkzMHfuXISFhaFLly7o168f7t+/X+zyOTk56NWrF6Kjo3HgwAHcunULmzdvhpWVVRVnTkT05p0/f15R/GloaGDu3LkICQlh8UekpmRCCCF1EpXBxcUFzs7OWL9+vSLm4OCAQYMGYcWKFSrLb9iwAatWrUJkZCQ0NTVfaZupqakwNDTE1NUXsM63/SvnTkRUFcaOHYszZ84gKCio1KsjRLVd4fd3SkoKDAzU8xGstaIHMCcnB5cvX1a5j2Dv3r3x559/Ftvm8OHD6NixI6ZOnQozMzO0atUKfn5+pU48yc7ORmpqqtIPEVF1VNzTlNatW4fw8HAWf0RUOwrAxMRE5Ofnq9yp3szMTOXGpoXu3buHAwcOID8/H0eOHMG8UsE9lQAAIABJREFUefPwxRdfYPny5SVuZ8WKFTA0NFT8NG7cuFI/BxHR68rNzcWCBQvg4OCAvXv3Kr1Xr1491K9fX6LMiKg6kew2MIUKCgrw559/4u7duxgyZAj09fWRmJiIunXrQldXt0LrKjqDrfB2MiVt19TUFJs2bYJcLke7du0QFxeHVatWYcGCBcW2mTNnDmbOnKl4nZqa+mpF4K2nwOqLqvEpbYC2fNwSEb2au3fvwtPTE+fPnwcATJo0CV26dOHYZiJSIWkB+PDhQ3h4eCAyMhL5+fno0qUL9PX1sXjxYhQUFMDf379c6zE2NoZcLlfp7UtISCjx+ZUWFhbQ1NSEXC5XxBwcHBAfH4+cnBxoaWmptNHW1oa2tnYFPmEJEjOBQ3dU4+81A9q+/uqJSL0IIbB9+3Z89NFHSEtLAwDI5XL897//hbm5ucTZEVF1JOkl4I8//hgODg5ITk5W6u0bPHgwjh8/Xu71aGlpoV27diptjh8/jk6dOhXbpnPnzoiKikJBQYEidvv2bVhYWBRb/BERVUdPnz7FsGHD4OXlpSj+7O3tERISgrlz5yr9kUtEVEjSAvD333/HwoULVS712tnZ4eHDhxVa18yZM/Htt99i69atiIiIgI+PD+7fv49JkyYBAMaMGYM5c+Yolp88eTKSkpLw8ccf4/bt2/j555/h5+eHqVOnvv4HIyKqAqdOnYKjoyMOHDigiI0fPx7h4eFwcXGRMDMiqu4kvQScm5tbbDwuLg76+voVWtfw4cORlJSEJUuW4NGjR2jVqhWOHDkCGxsbAMD9+/ehofGi3m3cuDF+/fVX+Pj4wNHREVZWVvj4448xa9asV/9ARERVZPv27fDy8kLhnbwaNGiAzZs3Y8iQIRJnRkQ1gaQFYK9eveDv749169YBeD6JIzMzE4sXL0bfvn0rvL4pU6ZgypQpxb53+vRplVjHjh1x7ty5Cm/ntWlpAGZ6qnFtXqohovLp06cPjIyMkJiYiB49emD79u1o1KiR1GkRUQ0haQH4xRdf4J133oGzszOys7Ph5eWFW7duoW7duggMDJQytTervQXwl7fUWRBRDWZubo5t27bh1q1b8PHxUbrCQURUFknPGNbW1rh27RomTJiAMWPGoEmTJopHuVlYWEiZGhFRtZGQkABvb28kJSUpxfv37w9fX18Wf0RUYZL2AObk5EBfX7/Ey7ZEROru6NGjGDduHBISEpCSkoIDBw6UeH9TIqLykvTPRlNTU0ycOBFnzpyRMg0iomonMzMT06dPh7u7OxISEgAAf/zxR4XvkEBEVBxJC8CAgADEx8ejd+/esLa2xqxZs3Dt/9q797CoyvV94PcwHEZRCFFQCcHIElIxUUzFTMVDlOWhtBxQE80K2h53G/OAmoIppW0Bt+CJ5JCFYYVaYEkev5RsUEsq0YRSDA8Fispp3t8f/lzbCVBA4IWZ+3Ndc12uZ9Zac48r4vFda73r+HGZkYiIpDt27Bj69OmDdevWKTUfHx8cP36cj6AkonohtQGcOHEivvjiC+Tn52P+/Pk4cuQIHn/8cXTv3h2rVq2SGY2IqNHpdDqsWbMGnp6e+PHHHwEAGo0G4eHhSE5OrvbJRkREtdUkrhxu06YNXn/9dezfvx/Hjh2Dqamp3qTNRESG7vz58xg5ciTmzJmD0tJSAIC7uzsyMjIQEBDA6/6IqF41iQawvLwcn3/+OV566SX07dsX+fn5CAwMlB2LiKjRpKam6j3Ocu7cuUhPT4ebm5vEVERkqKTeBbx//37ExcVhx44dKC0txejRo/Hpp59i2LBhnNaAiIzKpEmT8MUXX+DIkSOIiYmBt7e37EhEZMCkPwlk+PDhCA8Px/PPP1/pmcAGKz0f0CZXrkcOA4Y7N3ocImp8eXl56NSpk7KsUqkQHR0NnU4HW1tbicmIyBhIbQDPnz9vnP+jK9cBhSVV14nIoFVUVODdd99FcHAwduzYgeeee055z8bGRmIyIjImjd4AlpaWwtzcHADQunVr5WLnqtxej4jIEOTm5sLPzw8HDhwAAPj7++PEiRNo37695GREZGwavQFs0aIF8vPzYWdnB41Gc9c72yoqKhoxGRFRw0lISMDrr7+OwsJCAICJiQlmzJhhnGdBiEi6Rm8Ad+/ejTZt2ih/5tQGRGTICgsLERgYiNjYWKXm5OSEbdu2YeDAgRKTEZExa/QGcMSIEcqfe/XqBTs7uyrXu/3oI4Nk1xJ4qWvlukOrxs9CRA3m4MGD8PX1RW5urlLTarWIiIiAtbW1xGREZOyk3gTSoUMH5XTwnS5fvowOHToY7ingLjbAOk7xQGTIPvzwQ7zyyivQ6W7d3GVlZYXIyEhotVrJyYiIJE8ELYSosn79+nVoNJpGTkNEVH8GDx4MKysrAICXlxeOHTvG5o+ImgwpI4Bvv/02gFvzXq1YsQKWlpbKexUVFThy5Ai6d+8uIxoRUb1wdHREVFQUfvnlFwQFBUGtVsuORESkkNIA7tu3D8CtEcBDhw7BzMxMec/c3BydO3dGUFCQjGhERLV25coVBAcHY/ny5XrX9r344osSUxERVU9KA3jkyBEAwMsvv4wNGzYop0mIiJqbffv2wc/PD+fOnUNhYSE+/PBD2ZGIiO5J6jWACQkJbP6IqFkqLS3FW2+9haFDh+LcuXMAgOTkZOXPRERNWaOPAE6cOBEbNmxA69atMXHixLuuGx8f30ipiIhqLjs7G1qtFpmZmUptyJAhiImJgYODg8RkREQ10+gjgHfe+SuEuOuLiKgpEUJg/fr18PDwUJo/MzMzhIWFITU1FQ8++KDkhERENdPoI4AJCQlV/tmoXC0FTv1Zuf6QNfAAp78haooKCgrg7++P5ORkpebq6or4+Hj07NlTYjIiotqTOhF0WVkZACh3AZ8/fx6ff/453Nzc8OSTT8qM1rCOXwRGJ1Wux/gAPg81fh4iuqekpCS95i8gIACrVq1Cy5YtJaYiIqobqTeBjBo1ClFRUQCAoqIi9O7dG8HBwRg2bBg2bdokMxoRkZ5XX30VPj4+sLOzQ3JyMsLDw9n8EVGzJbUBzMjIwKBBgwAAiYmJaNu2Lc6dO4ctW7bg/ffflxmNiIzcH3/8obesUqmwZcsWHD9+HM8884ykVERE9UNqA3jt2jVl0tSUlBSMGTMGpqam8PLywtmzZ2VGIyIjpdPpsGbNGjg7O2Pv3r1679nZ2cHe3l5SMiKi+iO1AXRxccGuXbtQUFCAr776CsOHDwcAXLp0Ca1atZIZjYiM0Pnz5zFy5EjMmTMHN2/exKRJk3D58mXZsYiI6p3Um0AWLFiASZMmITAwEAMGDMCAAQMAAHv37jXsu+oesQGihleu97Rr/CxEBODWTR7Tp0/Xa/gmTpzIf4wSkUGS2gC+/PLLGDBgAM6dO4c+ffoo9f79+8PHx0disgbWriUw5hHZKYgIty5FmT17NjZu3KjUOnbsiJiYGHh7e0tMRkTUcKQ2gADQqVMndOrUCZcuXYJKpYKtrS28vLxkxyIiI/D9999Dq9Xi1KlTSm3s2LGIioqCra2txGRERA1L6jWAQgisWrUK7dq1g729Pezs7GBnZ4fVq1fzSSBE1KBiY2PRv39/pfmztLTEpk2bkJiYyOaPiAye1BHA4OBgREREYOHChRgwYACEEDh06BBWrFiB4uJiLFmyRGY8IjJgTzzxBDQaDa5duwZPT0/ExsaiS5cusmMRETUKqQ3gpk2bsHHjRowZM0ap9e3bF05OTpg5cyYbQCJqMA8//DDCw8ORk5ODxYsXK08kIiIyBlIbwMuXL+Oxxx6rVO/evTunXiCielNYWIiQkBAsXrwYlpaWSn3y5MkSUxERySP1GsBu3bopj4K704YNG9CtWzcJiYjI0Bw8eBDu7u5YtWoV5s2bJzsOEVGTIHUEcOXKlRg1ahS+/vpr9O/fHyqVCocOHcLPP/+s99D1ZqFfLPCf4YD7PebyW5kOfPb/7zi0NAM2jABcHmj4fERGpqysDO+88w5WrFgBnU4HAIiPj8fixYvRoUMHyemIiOSS2gB6e3sjOzsb69atw08//QQhBIYOHYqdO3fCyclJZrTay/kLuFF+7/UKim+tCwBPOQI7/zf9BJ57GOhi0zD5iIxITk4OfH19kZ6ertS8vLywbds2Nn9ERGgC8wA6Ozvjvffekx1DjrTfbr1uc7VlA0h0H4QQ2Lp1K958800UFxcDANRqNZYuXYqgoCCo1WrJCYmImgYp1wCWlJRg7ty5cHFxQadOnTB16lT89ddfMqI0LQ/zVDBRXV25cgXjx4/H1KlTlebPxcUFhw8fxoIFC9j8ERHdQcoI4NKlSxEREYHx48ejRYsW+Pjjj3H9+nV89NFHMuI0DU85cvSP6D7ExsYiMTFRWfb398fatWv5LF8ioipIaQA//vhjbNy4Eb6+vgBuTcXw1FNPQafTwcRE6o3JddeuBfCAxb3X62oLDL3j+kYLNeDZHpjaA1CpGi4fkYELCAhAUlISjh07hujoaIwbN052JCKiJkslJDxzzdzcHGfOnMGDDz6o1DQaDXJycvRqTV1RURGsra0REPYdwuf2kR2HyKj8+eefsLHRHzU/d+4cAMDBwUFGJCJqJm7//i4sLISVlZXsOFJIGW4rLy+HhYX+aJmZmRnKyspkxCGiZkQIgfXr16NTp044ePCg3nsODg5s/oiIakDaXcAzZsyARqNRlktKSjBz5ky963Xi4+NlRCOiJqqgoAD+/v7KPKF+fn7IysqCtbW15GRERM2LlAZw/PjxUKlUuPPs8+3rdSSckSaiZmDPnj2YMmUKCgoKlNozzzwDc3NziamIiJonKQ2gUd/tS0S1cuPGDbz11lsIDw9XanZ2dti8eTOeeeYZicmIiJov6RNBExFV59ixY5g4cSJOnjyp1Hx8fLB582bY29tLTEZE1Lw10zlXiMjQxcfHw9PTU2n+NBoNIiIikJyczOaPiOg+cQSQiJokd3d3ZV5Qd3d3xMfHw83NTXIqIiLDwBHA+hLxX9kJiAzKY489hvfeew9z585Feno6mz8ionrEBrC+JJ+WnYCo2SouLsayZctQUlKiV3/jjTcQFhZWad5QIiK6P9IbwE8++QRDhw7FQw89hLy8PABAREQEdu/eLTkZETWG77//Ho8//jiCg4Px9ttvy45DRGQUpDaAGzduxIwZM9C/f39cuHAB5eXlAIAWLVrgvffekxmNiBpYRUUFQkND0b9/f5w6dQoAEBUVhT/++ENyMiIiwye1AVyzZg2io6PxzjvvQK1WK/U+ffrg+PHjEpMRUUPKzc3FkCFD8Pbbbyv/8PP09MR///tf3uFLRNQIpDaAZ86cQe/evSvVNRoNrl27JiHRfVBLP5tO1CwkJCTA3d0d+/fvBwCYmJhg4cKFOHjwILp06SI5HRGRcZA6DYyTkxNOnDgBJycnvXpqaiq6du0qKVUdJY+TnYCoSSssLERgYCBiY2OVmpOTE2JjY+Hl5SUxGRGR8ZHaAM6ePRuBgYGoqKgAcGvW/6SkJCxbtkzvsU9E1PxFR0frNX9arRYRERGwtraWmIqIyDhJPW85Y8YMzJ07F6+99hqKi4sxbtw4vPvuuwgJCYGfn1+t9xcZGYnOnTtDo9HAw8MDBw4cqNF2H330EVQqFUaPHl3rzySimpk1axaeeOIJWFlZIS4uDrGxsWz+iIgkkf4kkDfffBNvvvkmfv/9d+h0Ojg6OkKlUtV6P9u3b8esWbMQGRmJAQMGYMOGDXj66adx8uRJdOrUqdrtcnNzMW/ePAwcOPB+vgYR/c21a9fQqlUrZdnU1BTx8fFQqVRwdnaWF4yIiOTPA3jbgw8+iE6dOtWp+QOA999/H/7+/pg2bRpcXV2xdu1aODo6Yv369dVuU1FRAa1Wi6VLl+Khhx6qa3QiuoMQAlu3boWTkxMyMjL03uvcuTObPyKiJkDqCKCrq+tdG77bD4G/l9LSUmRkZCAoKEivPnz4cBw+fLja7ZYtW4Z27drB39+/RqeLS0pK9J5UUFRUVKN8RMbiypUrmDFjBhITEwHcus4vIyMDlpaWkpMREdGdpDaAU6ZM0VsuKytDZmYm9u3bh1mzZtV4P5cuXUJFRUWl+cPs7e1x4cKFKrc5dOgQNm3ahKysrBp/TmhoKJYuXVrj9YmMyb59++Dn54dz584ptQEDBkAIITEVERFVRWoD+K9//avK+tq1a/Hjjz/Wen9/H00UQlQ5wnj16lX4+voiOjoabdu2rfH+58+fjzlz5ijLRUVFcHR0rHVOIkNSWlqKhQsXIiwsTGn2bGxsEB0djXHjOD0SEVFTJP0mkKqMGjUKwcHBiI6OrtH6bdu2hVqtrjTaV1BQUOVTBU6fPo2zZ89i1KhRSk2n0wG4daH6zz//DBcXl0rbWVhY8KH0RHfIzs6GVqtFZmamUhs6dChiYmLg4OAgMRkREd1Nk7kJ5E5ffPFFraaHMDc3h4eHB1JTU/Xqqamp6N+/f6X1u3btihMnTiArK0t5Pffccxg8eDCysrLqNqo3dU/ttyFqxrZv3w4PDw+l+TM3N0dYWBhSUlLY/BERNXFSRwD79eund4pWCIH8/Hz89ttv+OCDD2q1rzlz5sDPzw+9e/dGv379EBUVhby8PLz22msAgEmTJsHBwQGhoaHQaDTo1q2b3vYPPPAAAFSq11h+M3t0HdF96tKli/IcX1dXV8THx6Nnz56SUxERUU1IbQCfeuopvWUTExO0a9cOQ4YMQY8ePWq1rwkTJuDy5ctYtmwZ8vPz0a1bN+zevVt5zFxeXh5MTJrkgCdRs9SrVy+sWLECubm5WLVqFVq2bCk7EhER1ZBKSLpFr7y8HDt27MDgwYNhZ2cnI8J9KyoqgrW1NQLCvkP43rPAnhdlRyJqEDdu3EBERARmzpwJMzMzpV7djVZERE3Z7d/fhYWFsLKykh1HCmlDYqamppgyZQpu3LghKwIR1cCxY8fQp08f/POf/8SyZcv03mPzR0TUPEk9J9qnTx8cP35cZoT649lBdgKieqXT6bBmzRp4enoq0zKtWbMGFy9elJyMiIjul9RrAGfPno158+bhjz/+gIeHR6WnBTzyyCOSktXBUi/ZCYjqzfnz5zFlyhS9O+vd3d0RHx+Pdu3aSUxGRET1QWoDeHuS2FdffRXA/04n3b6uqKKiQlo2ImOVlJSE6dOn4/Lly0pt7ty5WLFiBefBJCIyEFIbwOzsbJkfT0R3KC4uxuzZs/UmYO/YsSNiYmLg7e0tMRkREdU3KQ3g1KlT8cEHH+DRRx+V8fFEVIV///vfes3f2LFjERUVBVtbW4mpiIioIUi5CSQmJoZ3/xI1MXPmzIG7uzssLS2xadMmJCYmsvkjIjJQUkYAJU09SER3uHnzJjQajbJsYWGB7du3w8TEBF26dJGYjIiIGpq0aWA4fxiRPAkJCejcuTN++OEHvfqjjz7K5o+IyAhIuwnkkUceuWcTeOXKlUZKQ2QcCgsLERgYiNjYWACAVqtFenq63kggEREZPmkN4NKlS2FtbS3r4+tf/jWgQyvZKYiqdejQIfj6+uLs2bNKrXv37igrK2MDSERkZKQ1gC+99FKzfQZwlabu4bOAqUkqKyvDO++8gxUrVkCn0wEArKysEBkZCa1WKzkdERHJIKUB5PV/RI0jJycHvr6+SE9PV2peXl7Ytm0bnJ2d5QUjIiKppNwEwruAiRpeYmIiHn/8caX5U6vVWL58OdLS0tj8EREZOSkjgLdPQxFRw+nYsSOuX78OAHBxcUFcXBz69u0rORURETUFUh8FR0QNp3///li0aBF+//13rF27Fq1a8SYlIiK6hQ1gfXn9cdkJyIiVlJRg06ZNmDFjBtRqtVIPDg7mNbdERFQJG8D68tzDshOQkcrOzsbEiRORlZWFoqIiBAUFKe+x+SMioqpIexIIEd0fIQQiIyPRq1cvZGVlAQCWL1+Oy5cvS05GRERNHRtAomaooKAAo0aNQkBAAG7evAkAcHV1xcGDB2Frays5HRERNXVsAImamT179qB79+7YtWuXUgsICMDRo0fRs2dPicmIiKi5YANI1EzcuHEDb775Jnx8fFBQUAAAsLOzQ3JyMsLDw9GyZUvJCYmIqLlgA0jUTKxevRrh4eHKso+PD44fP45nnnlGYioiImqO2AASNRPz5s1D165dodFoEB4ejuTkZNjb28uORUREzRCngSFqosrKymBmZqYst2zZEh9//DHUajXc3NwkJiMiouaOI4D1Jfm07ARkQJKSktClSxecOnVKr969e3c2f0REdN/YANaXiP/KTkAG4Nq1a5g+fTrGjh2L3NxcaLValJWVyY5FREQGhqeAiZqI77//HlqtVm/Uz9HRETdu3NA7FUxERHS/OAJIJFlFRQVCQ0PRv39/pfmztLTEpk2bkJiYCCsrK8kJiYjI0HAEkEii3NxcTJo0Cfv371dqnp6eiI2NRZcuXSQmIyIiQ8YRQCJJdu7cCXd3d6X5MzExwcKFC3Hw4EE2f0RE1KA4AlhfNo6UnYCaGSsrKxQVFQEAnJycEBsbCy8vL8mpiIjIGLABrC8OrWUnoGZmyJAhmDt3LvLz8xEREQFra2vZkYiIyEiwASRqBGVlZYiPj4efnx9MTP535cXKlSuhVqslJiMiImPEawCJGlhOTg4GDhyIKVOm6D3LFwCbPyIikoINIFEDEUJgy5Yt6NmzJ9LT0wEACxYswJUrVyQnIyIiY8cGkKgBXLlyBePHj8fUqVNRXFwMAHBxccHevXvRpk0byemIiMjYsQEkqmfffPMNevTogcTERKXm7++PrKws9O3bV2IyIiKiW9gAEtWTkpISvPXWW/D29sa5c+cAADY2NkhMTMTGjRvRqlUryQmJiIhu4V3ARPUkJCQEq1evVpaHDBmCmJgYPPjggxJTERERVcYRwPqy7LDsBCTZ3Llz0blzZ5iZmSEsLAypqals/oiIqEniCGB9OXJOdgJqZDqdTm9OPysrK2zfvh1mZmbo2bOnxGRERER3xxFAojrYs2cP3NzckJeXp1fv06cPmz8iImry2AAS1cKNGzfw5ptvwsfHBz///DP8/PxQUVEhOxYREVGt8BQwUQ0dO3YMEydOxMmTJ5Vaq1atUFxcDCsrK4nJiIiIaocjgPXF3lJ2AmogOp0Oa9asgaenp9L8aTQahIeHIzk5mc0fERE1OxwBrC9bfWQnoAZw/vx5TJkyBampqUrN3d0d8fHxcHNzk5iMiIio7jgCSFSNXbt2oUePHnrN37x585Cens7mj4iImjWOABJVQwiBy5cvAwA6duyImJgYeHt7S05FRER0/9gAElXj2Wefxeuvv44//vgDUVFRsLW1lR2JiIioXrABJAJQUVGBTz/9FC+88AJUKpVS/+CDD2BqaqpXIyIiau54DSAZvdzcXAwePBjjx4/H5s2b9d4zMzNj80dERAaHDSAZtYSEBLi7u+PAgQMAgDlz5uCvv/6SnIqIiKhhsQEko1RYWAg/Pz9MnDgRhYWFAAAnJyfs2rULDzzwgOR0REREDYvXAJLROXjwIHx9fZGbm6vUtFotIiIiYG1tLTEZERFR4+AIYH157lPZCegeysrKsHjxYgwaNEhp/qysrBAXF4fY2Fg2f0REZDQ4AlhfyipkJ6B7WLp0KVasWKEse3l5Ydu2bXB2dpYXioiISAKOAJLRmDNnDhwcHKBWq7F8+XKkpaWx+SMiIqPEEUAyWEIIvSlc2rRpg48++gjm5ubw9PSUmIyIiEgugxoBjIyMROfOnaHRaODh4aFM7VGV6OhoDBw4EDY2NrCxsYG3tze+++67RkxLDembb76Bh4cHLly4oFf38vJi80dEREbPYBrA7du3Y9asWViwYAEyMzMxcOBAPP3008jLy6ty/bS0NLz88svYt28fjhw5gk6dOmH48OE4d+5c3QL4uNxHeqovJSUleOutt+Dt7Y3MzExMmTIFOp1OdiwiIqImRSWEELJD1Ie+ffuiV69eWL9+vVJzdXXF6NGjERoaes/tKyoqYGNjg/DwcEyaNKlGn1lUVARra2sEhH2H8Ll96pyd6kd2dja0Wi0yMzOV2pAhQ5CUlAQrKyuJyYiIqCm5/fu7sLDQaH8/GMQIYGlpKTIyMjB8+HC9+vDhw3H48OEa7eP69esoKytDmzZtGiIiNSAhBNavXw8PDw+l+TMzM0NYWBhSU1ON9oebiIioOgZxE8ilS5dQUVEBe3t7vbq9vX2la8CqExQUBAcHB3h7e1e7TklJCUpKSpTloqKiugWmelNQUAB/f38kJycrNVdXV8THx6Nnz54SkxERETVdBjECeNudd3wCle8Crc6qVauQkJCATz/9FBqNptr1QkNDYW1trbwcHR3vOzPV3VdffYXu3bvrNX8BAQE4evQomz8iIqK7MIgGsG3btlCr1ZVG+woKCiqNCv5dWFgYQkJCkJKSgh49etx13fnz56OwsFB5/fbbb/ednequqKgIBQUFAAA7OzskJycjPDwcLVu2lJyMiIioaTOIU8Dm5ubw8PBAamoqxowZo9RTU1Px/PPPV7vd6tWrsXz5cnz11Vfo3bv3PT/HwsICFhYW9ZKZ7t+LL76IyZMn4+LFi9i8efM9m30iIiK6xSAaQODWUx78/PzQu3dv9OvXD1FRUcjLy8Nrr70GAJg0aRIcHByUO4JXrVqFRYsWIT4+Hs7OzsroYatWrdCqVStp34OqptPp8OWXX8LHx0evvmHDBpibm9foVD8RERHdYhCngAFgwoQJWLt2LZYtW4aePXti//792L17N5ycnAAAeXl5yM/PV9aPjIxEaWkpXnjhBXTo0EF5hYWFyfoKVI3z589j5MiReOaZZ5CQkKD3noWFBZs/IiKiWjKYeQBl0JsHcJgz0KOd7EgGJykpCdOnT8fly5cBAA888AByc3M5tQuJkL2QAAAbR0lEQVQREdUZ5wE0oBFA6f6VJjuBQSkuLsarr76KsWPHKs1fx44d8cknnxjtDysREVF9MZhrAMlwHD16FFqtFr/88otSGzt2LKKiomBraysxGRERkWHgCCA1GRUVFQgNDUW/fv2U5s/S0hKbNm1CYmIimz8iIqJ6whFAajIWL16MkJAQZblPnz6Ii4tDly5dJKYiIiIyPBwBpCbjH//4B9q1aweVSoUFCxbg0KFDbP6IiIgaAEcA68vC/rITNDt/f1Sfvb094uLiYGFhgSeffFJiMiIiIsPGEcD6MsBBdoJm5dChQxg4cKByh+9tw4YNY/NHRETUwNgAUqMqKyvD4sWL8eSTT+LQoUOYPn06OBUlERFR4+IpYGo0OTk58PX1RXp6ulK7ePEirl69yrn9iIiIGhFHAKnBCSGwZcsW9OzZU2n+1Go1li9fjrS0NDZ/REREjYwjgNSgrly5ghkzZiAxMVGpubi4ID4+Hp6enhKTERERGS+OAFKD2bdvH3r06KHX/Pn7+yMrK4vNHxERkUQcAaQGk5ubi3PnzgEAbGxsEB0djXHjxklORURERGwAqcFMnjwZu3btwp9//omYmBg4OHCqHCIioqaAp4Dry5YTshNIJYRAWlqaXk2lUmHr1q1ISUlh80dERNSEsAGsLx//JDuBNAUFBXjuuecwePBgfPbZZ3rvWVpawsSE/5kRERE1JfzNTPdlz5496N69O5KTkwEA06ZNw9WrVyWnIiIiorthA0h1cuPGDfzjH/+Aj48PCgoKAAB2dnbYunUrWrduLTkdERER3Q1vAqFaO3bsGLRaLX788Uel5uPjg82bN8Pe3l5iMiIiIqoJjgBSjel0OqxZswaenp5K86fRaBAeHo7k5GQ2f0RERM0ERwDry86xshM0uIULFyI0NFRZdnd3R3x8PNzc3CSmIiIiotriCGB9sVDLTtDgXn/9ddjY2AAA5s6di/T0dDZ/REREzRBHAKnGHB0dERMTgxYtWsDb21t2HCIiIqojjgBSlY4ePYoRI0agsLBQrz5q1Cg2f0RERM0cG0DSU1FRgdDQUPTr1w8pKSkICAiQHYmIiIjqGU8BkyI3NxeTJk3C/v37ldovv/yCq1evcm4/IiIiA8IRQAIAJCQkwN3dXWn+TExMsHDhQhw6dIjNHxERkYHhCKCRKywsRGBgIGJjY5Wak5MTtm3bhoEDB0pMRkRERA2FDaARO3ToEHx9fXH27FmlptVqERERAWtra3nBiIiIqEHxFHB9CdwrO0GtZWVlKc2flZUV4uLiEBsby+aPiIjIwHEEsL6c/lN2glp74403sHv3bhQVFWHbtm1wdnaWHYmIiIgaARtAIyGEwNGjR9GnTx+lplKpkJCQAEtLS6jVhv8kEyIiIrqFp4CNwJUrVzBhwgR4enoiJSVF7z0rKys2f0REREaGDaCB27dvH3r06IFPPvkEADBlyhRcu3ZNcioiIiKSiQ1gfenWTnYCPaWlpXjrrbcwdOhQnDt3DgBgY2ODdevWoVWrVpLTERERkUy8BrC+rH5KdgJFdnY2tFotMjMzldrQoUMRExMDBwcHicmIiIioKeAIoAERQuA///kPPDw8lObP3NwcYWFhSElJYfNHREREADgCaFAWLlyIkJAQZdnV1RXx8fHo2bOnxFRERETU1HAE0IBMnTpVub4vMDAQGRkZbP6IiIioEo4AGhAXFxds3LgRrVu3ho+Pj+w4RERE1ERxBLCZOn78OMaMGYPi4mK9+oQJE9j8ERER0V2xAWxmdDod1qxZgz59+mDnzp2YM2eO7EhERETUzPAUcDNy/vx5TJkyBampqUotPT0dxcXFsLS0lJiMiIiImhOOANaXwpIG3X1SUhJ69Oih1/zNnTsX6enpbP6IiIioVtgA1peXPm+Q3V67dg3Tp0/H2LFjcfnyZQBAx44dkZqairCwMFhYWDTI5xIREZHh4ingJuz777+HVqvFqVOnlNqYMWMQHR0NW1tbicmIiIioOeMIYBO2b98+pflr2bIlNm7ciB07drD5IyIiovvCEcAmbN68efjyyy9x7do1xMXFoUuXLrIjERERkQFgA9iEnDhxAt27d1eWTUxM8Mknn8DKygpmZmYSkxEREZEh4Sng+jK5W503LSwshJ+fH3r27IkDBw7ovWdra8vmj4iIiOoVG8D68pJrnTY7ePAg3N3dERsbC51OBz8/P1y/fr2ewxERERH9DxtAScrKyrB48WIMGjQIubm5AAArKyuEhISgZcuWktMRERGRIeM1gBLk5OTA19cX6enpSs3Lywvbtm2Ds7OzvGBERERkFDgC2IiEENiyZQt69uypNH9qtRrLly9HWloamz8iIiJqFBwBbESLFi3CihUrlOWHH34YcXFx8PT0lJiKiIiIjA1HABuRVquFRqMBAPj7+yMzM5PNHxERETU6jgA2IldXV0RGRsLKygrjxo2THYeIiIiMFEcAG0h2djZ8fX1x8+ZNvforr7zC5o+IiIikYgNYX765NZWLEAKRkZHo1asX4uLiMH/+fMnBiIiIiPTxFHB9Wf0dCrq1wNSpU7Fr1y6lnJqaiuvXr3NuPyIiImoyDGoEMDIyEp07d4ZGo4GHh0elx6r93Y4dO+Dm5gYLCwu4ubkhKSmpzp+952Imunfvrtf8BQYG4vvvv2fzR0RERE2KwTSA27dvx6xZs7BgwQJkZmZi4MCBePrpp5GXl1fl+keOHMGECRPg5+eHY8eOwc/PD+PHj9ebnLmm9iethk9GKAoKCgAAdnZ22LVrF9atW4cWLVrc1/ciIiIiqm8qIYSQHaI+9O3bF7169cL69euVmqurK0aPHo3Q0NBK60+YMAFFRUXYs2ePUhs5ciRsbGyQkJBQo88sKiqCtbW1Xs3HxwebN2+Gvb19Hb8JERERNaTbv78LCwthZWUlO44UBnENYGlpKTIyMhAUFKRXHz58OA4fPlzlNkeOHMHs2bP1aiNGjMDatWur/ZySkhKUlJQoy4WFhcqfLVSmWLF6JaZNmwaVSoWioqK6fBUiIiJqYLd/RxvIGFidGEQDeOnSJVRUVFQadbO3t8eFCxeq3ObChQu1Wh8AQkNDsXTp0irfKxHlmDdvHubNm1fL9ERERCTD5cuXK53JMxYG0QDeplKp9JaFEJVq97P+/PnzMWfOHGX5r7/+gpOTE/Ly8oz2P6CmoqioCI6Ojvjtt9+Mdji/qeCxaFp4PJoOHoumo7CwEJ06dUKbNm1kR5HGIBrAtm3bQq1WVxq9KygoqPZavPbt29dqfQCwsLCAhYVFpbq1tTV/mJsIKysrHosmgseiaeHxaDp4LJoOExODuRe21gzim5ubm8PDwwOpqal69dTUVPTv37/Kbfr161dp/ZSUlGrXJyIiIjIUBjECCABz5syBn58fevfujX79+iEqKgp5eXl47bXXAACTJk2Cg4ODckfwzJkz8eSTT+Ldd9/F888/j88++wx79+7FwYMHZX4NIiIioganXrJkyRLZIepDt27dYGtri5CQEISFheHGjRvYtm0b3N3dAQAffPABTE1NMXr0aACAo6Mj3Nzc8P777yMkJAR5eXlYv349hg0bVqvPVavVeOqpp2BqajC9dLPFY9F08Fg0LTweTQePRdNh7MfCYOYBJCIiIqKaMYhrAImIiIio5tgAEhERERkZNoBERERERoYNIBEREZGRYQN4D5GRkejcuTM0Gg08PDxw4MCBu66/Y8cOuLm5wcLCAm5ubkhKSmqkpIavNsciOjoaAwcOhI2NDWxsbODt7Y3vvvuuEdMattr+XNz20UcfQaVSKXfj0/2r7bH466+/EBAQgA4dOkCj0cDV1RW7d+9upLSGr7bHY+3atXj00UfRokULODo6Yvbs2bh582YjpTVc+/fvx6hRo9CxY0eoVCrs3Lnzntt8++238PDwgEajwUMPPYT//Oc/jZBUIkHV+uijj4SZmZmIjo4WJ0+eFDNnzhSWlpYiNze3yvUPHz4s1Gq1CAkJEdnZ2SIkJESYmpqK//u//2vk5Iantsdi4sSJIiIiQmRmZors7GzxyiuvCGtra/H77783cnLDU9tjcdvZs2eFg4ODGDhwoHj++ecbKa1hq+2xKCkpEb179xY+Pj7i4MGD4uzZs+LAgQMiKyurkZMbptoej9jYWGFhYSHi4uLEr7/+Kr766ivRoUMHMWvWrEZObnh2794tFixYIHbs2CEAiKSkpLuuf+bMGdGyZUsxc+ZMcfLkSREdHS3MzMxEYmJiIyVufGwA78LT01O89tprerWuXbuKoKCgKtcfP368GDlypF5txIgR4qWXXmqwjMaitsfi78rLy0Xr1q1FTExMQ8QzKnU5FuXl5WLAgAFi48aNYvLkyWwA60ltj8X69evFQw89JEpLSxsjntGp7fEICAgQQ4YM0avNmTNHeHl5NVhGY1STBvCtt94SXbt21avNmDFDPPHEEw0ZTSqeAq5GaWkpMjIyMHz4cL368OHDcfjw4Sq3OXLkSKX1R4wYUe36VDN1ORZ/d/36dZSVlRn1g7/rQ12PxbJly9CuXTv4+/s3dESjUZdj8fnnn6Nfv34ICAiAvb09unXrhpCQEFRUVDRGZINWl+Ph5eWFjIwM5fKUM2fOYPfu3XjmmWcaPC/pq+7399GjR1FWViYpVcMyzumva+DSpUuoqKiAvb29Xt3e3h4XLlyocpsLFy7Uan2qmboci78LCgqCg4MDvL29GyKi0ajLsTh06BA2bdqErKysxohoNOpyLM6cOYNvvvkGWq0Wu3fvxqlTpxAQEIDy8nIsXry4MWIbrLocj5deegkXL16El5cXhBAoLy/H66+/jqCgoMaITHeo7vd3eXk5Ll26hA4dOkhK1nDYAN6DSqXSWxZCVKrdz/pUc3X9u121ahUSEhKQlpYGjUbTUPGMSk2PxdWrV+Hr64vo6Gi0bdu2seIZldr8XOh0OtjZ2SEqKgpqtRoeHh44f/48Vq9ezQawntTmeKSlpWHFihWIjIxE3759kZOTg5kzZ6JDhw5YtGhRY8SlO1R17KqqGwo2gNVo27Yt1Gp1pX+5FRQUVPpXwm3t27ev1fpUM3U5FreFhYUhJCQEe/fuRY8ePRoyplGo7bE4ffo0zp49i1GjRik1nU4HADA1NcXPP/8MFxeXhg1toOryc9GhQweYmZlBrVYrNVdXV1y4cAGlpaUwNzdv0MyGrC7HY9GiRfDz88O0adMAAN27d0dxcTFeffVVLFiwACYmvEqrsVT3+9vU1BS2traSUjUs/tdVDXNzc3h4eCA1NVWvnpqaiv79+1e5Tb9+/Sqtn5KSUu36VDN1ORYAsHr1arzzzjv48ssv0bt374aOaRRqeyy6du2KEydOICsrS3k999xzGDx4MLKysuDo6NhY0Q1OXX4uBgwYgJycHKUJB4BffvkFHTp0YPN3n+pyPK5fv16pyVOr1RC3btBssKxUWXW/v3v37g0zMzNJqRqYrLtPmoPbt/Rv2rRJnDx5UsyaNUtYWlqKs2fPCiGE8PPz07u769ChQ0KtVouVK1eK7OxssXLlSk4DU09qeyzeffddYW5uLhITE0V+fr7yunr1qqyvYDBqeyz+jncB15/aHou8vDzRqlUrERgYKH7++WeRnJws7OzsxPLly2V9BYNS2+MRHBwsWrduLRISEsSZM2dESkqKcHFxEePHj5f1FQzG1atXRWZmpsjMzBQAxPvvvy8yMzOVKXmCgoKEn5+fsv7taWBmz54tTp48KTZt2sRpYIxdRESEcHJyEubm5qJXr17i22+/Vd4bNGiQmDx5st76n3zyiXj00UeFmZmZ6Nq1q9ixY0cjJzZctTkWTk5OAkClV3BwcOMHN0C1/bm4ExvA+lXbY3H48GHRt29fYWFhIR566CGxYsUKUV5e3sipDVdtjkdZWZlYsmSJcHFxERqNRjg6Ooo33nhD/PnnnxKSG5Z9+/ZV+Tvg9t//5MmTxaBBg/S2SUtLE48//rgwNzcXzs7OYv369Y0fvBGphOA4MxEREZEx4TWAREREREaGDSARERGRkWEDSERERGRk2AASERERGRk2gERERERGhg0gERERkZFhA0hERERkZNgAElGDyMnJgUqlwg8//CA7Sp3UNL+XlxfmzZvXSKmIiOoHG0AiqtKUKVOgUqkqvXJycmRHA/C/Bu32y8bGBoMGDcKBAwfqZf+dO3dGfn4+unbtCgDYu3cvVCoVrl27prfe559/juDg4Hr5zOr4+voq39PMzAxOTk4ICAhAYWFhrfazceNGtG3btoFSElFzwgaQiKo1cuRI5Ofn6706d+4sO5aetLQ05OfnIy0tDZaWlvDx8UFubu5971etVqN9+/YwNTW963pt2rRB69at7/vz7uXZZ59Ffn4+fv31V2zYsAFJSUkIDAxs8M8lIsPEBpCIqmVhYYH27dvrvdRqNQBg165dGDBgAB544AHY2tpi1KhROHPmTLX7unLlCiZOnIh27dqhRYsWeOSRR/Dhhx8q7//2228YP368sr/Ro0cjLy/vnhltbW3Rvn17uLu7Y/369bh27Rr27t0LALhx4wYCAwPRrl07aDQaPPnkk8jIyKhRpjtPAefk5GDYsGEAgNatW0OlUmHatGkA9E8B//Of/4SXl1eljI899hjeeecdZXnjxo3o2rUrNBoNXF1dsWHDhnt+z9vH4sEHH8TIkSPx4osvIiUlRW+d1atXo1u3bmjZsiUcHR0RGBiI4uJiALdGMKdPn47Lly8ro4nLly8HAJSUlGDevHlwcHCApaUlnnjiCezfv/+emYio+WIDSER1cv36dcybNw9Hjx7F3r17odPpMG7cOOh0uirXf/vtt/HLL79gz549yM7ORmRkJGxtbQEA165dw1NPPYUHHngABw4cwIEDB6DRaPD000+jvLy8xplatGgBACgrKwMAzJs3D5999hliY2ORkZEBJycnjBgxQjl1erdMd+rcuTM+/vhjAMDp06eRn5+P999/v9J6Wq0Whw8fxtmzZ5VaVlYWTp48iYkTJwIA1q9fjyVLliA0NBTZ2dlYvnw5goKCEBcXV+Pvefr0aXz11VcwMzPTq5uamiI8PBwnT57E1q1bkZKSgvnz5wMAnnzySbz33nto06aNMpo7e/ZsAMCkSZOQnp6O7du34/jx4xgzZgxGjBhx14aeiJo5QURUhcmTJwu1Wi0sLS2V1wsvvFDt+ufPnxcARHZ2thBCiFOnTgkA4sSJE0IIIZ5++mkxbdq0KrfdsGGDeOyxx/RqN2/eFBYWFuLrr7+ucpu/7//q1ati2rRpwtTUVPz444+isLBQmJqaiu3bt+vts3379uL999+/Z6a/7z81NVUAEFevXtVbb8CAAWLu3LnKspubmwgJCVGW//nPf4p+/fopyx07dhQff/yx3j6Cg4PFwIEDq8whhBBarVY5FhYWFgKAACD+/e9/V7uNEELEx8cLe3t7ZTk6OlrY2trqrfPzzz8LExMTceHCBb36oEGDxKJFi+66fyJqvu5+cQsRGbXBgwdj/fr1yrKlpaXy55ycHCxatAjp6em4ePEihBAAgLy8POXGiTu98cYbePHFF5GRkYFhw4ZhzJgxeOKJJwAAGRkZ+Omnn9CqVSu9bUpLS3H69GkMGTKk2oyenp4wMTHB9evX0bFjR3z44Ydwc3PDf//7X5SXl2PAgAHKuhYWFujduzeys7PvmamutFot4uLiMH/+fAghkJCQgKCgIABAfn4+zp8/j8mTJ+OVV15RtikvL69y5PFOw4YNw7p163D9+nVs2LABubm5eOONN/TW2bt3L0JDQ/HTTz+hsLAQFRUVuHnzJkpKSmBhYVHlfjMyMqDT6eDi4qJXLykpgYODQ13+CoioGWADSETVsrS0xMMPP1zlez4+Pnj44YexceNGdOjQAWVlZXB3d0dpaWmV6z/77LPIzc3Frl27sHfvXgwePBgzZ87EypUrodPp0LdvX8TExFTarl27dnfNuGPHDjzyyCOwsbFBmzZtlPrthlSlUumtL4RQanfLVFcTJ07EwoULcfz4cfz555+4cOECJkyYAADK6fEtW7bAw8NDb7vb11ZW585jERERgYEDB2L58uXKHci//vornn32WQQEBCAkJAQ2Njb49ttv8eqrr6KsrKzaBlCn08HMzAyZmZmV/q7+3pATkeFgA0hEtfbHH3/g1KlTiImJQb9+/QDcuhv3Xuzs7PDKK6/glVdeQUREBBYtWoSVK1eiV69e2LlzJ+zt7Wt9R62jo2Ol0SsA6NKlC0xNTXHw4EGMHz8ewK0RxYyMDHh7e98z09+Zm5sDACoqKu6ax9nZGf3790dcXBz+/PNPjBgxQpl6pWPHjrC3t8eZM2eUprCugoOD8fzzz2PGjBlo3749vvvuOwDAe++9p6wTHx9f6Tv8PX+vXr1QVlaGS5cuKceSiAwfbwIholqztbWFjY0NNmzYgNOnT+Prr7++52TICxcuxOeff46cnBz88MMP2LVrF1xdXQEAfn5+sLa2xujRo3Hw4EH8+uuvSEtLw5tvvon8/Pw6ZbSyssKMGTMwd+5cpKSk4OTJk/D390dZWZly+vVumf7OyckJAJCcnIyLFy9Wmg/wTlqtFgkJCdixYwd8fX2VukqlwpIlS7B8+XKsW7cOv/zyC44fP47Nmzdj7dq1tfp+3t7e6NKli9KsPvzwwygpKUF4eDjOnDmDmJgYREVF6W3j7OyMwsJCpKWl4dKlS7hx4wZcXV0xYcIEaLVaJCUl4ddff8V3332H0NBQfPnll7XKRETNiNxLEImoqZo8ebJ4/vnnq33/q6++El27dhUWFhbC3d1dfPPNNwKA+OKLL4QQlW+iWLJkiejatato0aKFaNOmjRgzZoz49ddflf2dO3dO+Pn5ibZt2woLCwvh4uIiZsyYIYqKiqr8/L/vvyrXr18XAQEByj69vLzE0aNHlffvlqmq/QcHBwt7e3uhUqmEv7+/EKLyTSBCCHHp0iVhZmYmWrVqJYqLiyvl+vDDD4W7u7swNzcXbdq0EYMGDRI7d+6s9ntotVoxbty4SvWYmBih0WjE77//LoQQYvXq1aJ9+/aiRYsW4umnnxZbt27Vu3FFp9OJ6dOnC1tbWwFAvPPOO0IIIUpKSsTChQuFs7OzMDMzEx07dhRjx44VP/zwQ7WZiKh5Uwnx/y+UISIiIiKjwFPAREREREaGDSARERGRkWEDSERERGRk2AASERERGRk2gERERERGhg0gERERkZFhA0hERERkZNgAEhERERkZNoBERERERoYNIBEREZGRYQNIREREZGTYABIREREZmf8HXdPPKWYA1jwAAAAASUVORK5CYII=\">"
      ],
      "text/plain": [
       "<IPython.core.display.HTML object>"
      ]
     },
     "metadata": {},
     "output_type": "display_data"
    }
   ],
   "source": [
    "# Display the model accuracy\n",
    "display(HTML(f'<b>Test Accuracy:</b> {test_run.outputs[\"accuracy\"]}'))\n",
    "\n",
    "# Display HTML output artifacts\n",
    "display(HTML(\"<h3>Confusion matrix:</h3>\"),\n",
    "        HTML(filename=test_run.outputs['confusion-matrix']))\n",
    "display(HTML(\"<h3>ROC Curve:</h3>\"), HTML(filename=test_run.outputs['roc-multiclass']))"
   ]
  },
  {
   "cell_type": "markdown",
   "metadata": {},
   "source": [
    "<a id=\"gs-step-create-n-run-ml-pipeline\"></a>"
   ]
  },
  {
   "cell_type": "markdown",
   "metadata": {},
   "source": [
    "## Step 6: Create and Run a Fully Automated ML Pipeline"
   ]
  },
  {
   "cell_type": "markdown",
   "metadata": {},
   "source": [
    "You're now ready to create a full ML pipeline.\n",
    "This is done by using [Kubeflow Pipelines](https://www.kubeflow.org/docs/pipelines/overview/pipelines-overview/), which is integrated into the Iguazio Data Science Platform.\n",
    "Kubeflow Pipelines is an open-source framework for building and deploying portable, scalable machine-learning workflows based on Docker containers.\n",
    "MLRun leverages this framework to take your existing code and deploy it as steps in the pipeline."
   ]
  },
  {
   "cell_type": "markdown",
   "metadata": {},
   "source": [
    "<a id=\"gs-ml-pipeline-add-functions\"></a>"
   ]
  },
  {
   "cell_type": "markdown",
   "metadata": {},
   "source": [
    "### Add Serving Functions from the MLRun Functions Marketplace"
   ]
  },
  {
   "cell_type": "markdown",
   "metadata": {},
   "source": [
    "Add to your project a real-time model-server function (`serving`) and a REST model API tester function (`serving-tester`), which run the [`model_server`](https://github.com/mlrun/functions/tree/master/model_server) and [`model_server_tester`](https://github.com/mlrun/functions/tree/master/model_server_tester) MLRun marketplace functions, respectively."
   ]
  },
  {
   "cell_type": "code",
   "execution_count": 28,
   "metadata": {},
   "outputs": [
    {
     "data": {
      "text/plain": [
       "<mlrun.runtimes.kubejob.KubejobRuntime at 0x7ff049e4ed68>"
      ]
     },
     "execution_count": 28,
     "metadata": {},
     "output_type": "execute_result"
    }
   ],
   "source": [
    "project.set_function('hub://model_server', 'serving')\n",
    "project.set_function('hub://model_server_tester', 'serving-tester')"
   ]
  },
  {
   "cell_type": "markdown",
   "metadata": {},
   "source": [
    "<a id=\"gs-pipeline-workflow-define-n-save\"></a>"
   ]
  },
  {
   "cell_type": "markdown",
   "metadata": {},
   "source": [
    "### Define and Save a Pipeline Workflow"
   ]
  },
  {
   "cell_type": "markdown",
   "metadata": {},
   "source": [
    "A pipeline is created by running an MLRun **\"workflow\"**.\n",
    "The following code defines a workflow and writes it to a file in your project directory (**/User/getting-started-tutorial/jobs/workflow.py**).\n",
    "The workflow describes a directed acyclic graph (DAG) for execution using Kubeflow Pipelines, and depicts the connections between the functions and the data as part of an end-to-end pipeline.\n",
    "The workflow file has two parts &mdash; initialization of the function objects, and definition of a pipeline DSL (domain-specific language) for connecting the function inputs and outputs.\n",
    "Examine the code to see how functions objects are initialized and used (by name) within the workflow.\n",
    "\n",
    "The defined pipeline includes the following steps:\n",
    "\n",
    "- Ingest the Iris flower data set (`ingest`).\n",
    "- Analyze the data set (`describe`).\n",
    "- Train and test the model with hyperparameters (`train`).\n",
    "- Deploy the model as a real-time serverless function (`deploy`).\n",
    "- Test the serverless serving-model function with a test data set by using REST API calls (`Tester`).\n",
    "\n",
    "> **Note**: A pipeline can also include continuous build integration and deployment (CI/CD) steps, such as building container images and deploying models."
   ]
  },
  {
   "cell_type": "code",
   "execution_count": 29,
   "metadata": {},
   "outputs": [
    {
     "name": "stdout",
     "output_type": "stream",
     "text": [
      "Writing /User/getting-started-tutorial/conf/workflow.py\n"
     ]
    }
   ],
   "source": [
    "%%writefile {path.join(project_path, 'workflow.py')}\n",
    "\n",
    "from kfp import dsl\n",
    "from mlrun import mount_v3io\n",
    "\n",
    "funcs = {}\n",
    "DATASET = 'iris_dataset'\n",
    "LABELS = \"label\"\n",
    "MODELS = [\"sklearn.ensemble.RandomForestClassifier\",\n",
    "          \"sklearn.linear_model.LogisticRegression\",\n",
    "          \"sklearn.ensemble.AdaBoostClassifier\"]\n",
    "\n",
    "\n",
    "# Configure function resources and local settings\n",
    "def init_functions(functions: dict, project=None, secrets=None):\n",
    "    for f in functions.values():\n",
    "        f.apply(mount_v3io())\n",
    "\n",
    "    functions['serving'].metadata.name = 'getting-started-serving'\n",
    "\n",
    "\n",
    "# Create a Kubeflow Pipelines pipeline\n",
    "@dsl.pipeline(\n",
    "    name=\"Getting-started tutorial\",\n",
    "    description=\"This tutorial is designed to demonstrate some of the main \"\n",
    "                \"capabilities of the Iguazio Data Science Platform.\\n\"\n",
    "                \"The tutorial uses the Iris flower data set.\"\n",
    ")\n",
    "def kfpipeline(source_url='http://iguazio-sample-data.s3.amazonaws.com/iris_dataset.csv'):\n",
    "\n",
    "    # Ingest the data set\n",
    "    ingest = funcs['get-data'].as_step(\n",
    "        name=\"get-data\",\n",
    "        handler='get_data',\n",
    "        inputs={'source_url': source_url},\n",
    "        params={'format': 'pq'},\n",
    "        outputs=[DATASET])\n",
    "\n",
    "    # Analyze the dataset\n",
    "    describe = funcs[\"describe\"].as_step(\n",
    "        name=\"summary\",\n",
    "        params={\"label_column\": LABELS},\n",
    "        inputs={\"table\": ingest.outputs[DATASET]})\n",
    "\n",
    "    # Train a model with hyperparemeters\n",
    "    train = funcs[\"train\"].as_step(\n",
    "        name=\"train\",\n",
    "        params={\"sample\": -1,\n",
    "                \"label_column\": LABELS,\n",
    "                \"test_size\": 0.10},\n",
    "        hyperparams={'model_pkg_class': MODELS},\n",
    "        selector='max.accuracy',\n",
    "        inputs={\"dataset\": ingest.outputs[DATASET]},\n",
    "        outputs=['model', 'test_set'])\n",
    "\n",
    "    # Test and visualize the model\n",
    "    test = funcs[\"test\"].as_step(\n",
    "        name=\"test\",\n",
    "        params={\"label_column\": LABELS},\n",
    "        inputs={\"models_path\": train.outputs['model'],\n",
    "                \"test_set\": train.outputs['test_set']})\n",
    "\n",
    "    # Deploy the model as a serverless function\n",
    "    deploy = funcs[\"serving\"].deploy_step(\n",
    "        models={f\"{DATASET}_v1\": train.outputs['model']})\n",
    "\n",
    "    # Test the new model server (via REST API calls)\n",
    "    tester = funcs[\"serving-tester\"].as_step(\n",
    "        name='serving-tester',\n",
    "        params={'addr': deploy.outputs['endpoint'], 'model': f\"{DATASET}_v1\"},\n",
    "        inputs={'table': train.outputs['test_set']})"
   ]
  },
  {
   "cell_type": "markdown",
   "metadata": {},
   "source": [
    "#### Register the Workflow"
   ]
  },
  {
   "cell_type": "markdown",
   "metadata": {},
   "source": [
    "Use the `set_workflow` MLRun project method to register your workflow with MLRun.\n",
    "The following code sets the `name` parameter to the selected workflow name (\"main\") and the `code` parameter to the name of the workflow file that is found in your project directory (**workflow.py**)."
   ]
  },
  {
   "cell_type": "code",
   "execution_count": 30,
   "metadata": {},
   "outputs": [],
   "source": [
    "# Register the workflow file as \"main\"\n",
    "project.set_workflow('main', 'workflow.py')"
   ]
  },
  {
   "cell_type": "markdown",
   "metadata": {},
   "source": [
    "<a id=\"gs-save-project\"></a>"
   ]
  },
  {
   "cell_type": "markdown",
   "metadata": {},
   "source": [
    "### Save Your Project Configuration"
   ]
  },
  {
   "cell_type": "markdown",
   "metadata": {},
   "source": [
    "Use the `save` MLRun project method to save your project definitions to a project-configuration file in your project directory (**/User/getting-started-tutorial/conf**).\n",
    "The default name of the project file is **project.yaml**, but you can optionally change it by setting the `filepath` parameter of the `save` method.\n",
    "\n",
    "> **Note:** It's recommended that you commit your project-configuration file and any future changes to this file to a Git repository."
   ]
  },
  {
   "cell_type": "code",
   "execution_count": 31,
   "metadata": {},
   "outputs": [],
   "source": [
    "project.save()"
   ]
  },
  {
   "cell_type": "markdown",
   "metadata": {},
   "source": [
    "<a id='gs-pipeline-workflow-run'></a>"
   ]
  },
  {
   "cell_type": "markdown",
   "metadata": {},
   "source": [
    "### Run Your Pipeline Workflow"
   ]
  },
  {
   "cell_type": "markdown",
   "metadata": {},
   "source": [
    "Use the `run` MLRun project method to execute your workflow pipeline with Kubeflow Pipelines.\n",
    "The tutorial code sets the following method parameters; (for the full parameters list, see the MLRun documentation or embedded help):\n",
    "\n",
    "- **`name`** &mdash; the workflow name (in this case, \"main\" &mdash; see the previous step).\n",
    "- **`arguments`** &mdash; A dictionary of Kubeflow Pipelines arguments (parameters).\n",
    "  The tutorial code sets this parameter to an empty arguments list (`{}`), but you can edit the code to add arguments.\n",
    "- **`artifact_path`** &mdash; a path or URL that identifies a location for storing the workflow artifacts.\n",
    "  You can use `{{workflow.uid}}` in the path to signify the ID of the current workflow run iteration.\n",
    "  The tutorial code sets the artifacts path to a **&lt;worker ID&gt;** directory (`{{workflow.uid}}`) in a **pipeline** directory within the current tutorial directory (**/User/getting-started-tutorial/pipeline/&lt;worker ID&gt;**).\n",
    "- **`dirty`** &mdash; set to `True` to allow running the workflow also when the project's Git repository is dirty (i.e., contains uncommitted changes).\n",
    "  (When the notebook that contains the execution code is in the same Git directory as the executed workflow, the directory will always be dirty during the execution.)\n",
    "\n",
    "The `run` method returns the ID of the executed workflow, which the code stores in a `run_id` variable.\n",
    "You can use this ID to track the progress or your workflow, as demonstrated in the following sections.\n",
    "\n",
    "> **Note**: You can also run the workflow from a command-line shell by using the `mlrun` CLI.\n",
    "> The following CLI command defines a similar execution logic as that of the `run` call in the tutorial:\n",
    "> ```\n",
    "> mlrun project /User/getting-started-tutorial/conf -r main -p \"$V3IO_HOME_URL/getting-started-tutorial/pipeline/{{workflow.uid}}/\"\n",
    "> ```"
   ]
  },
  {
   "cell_type": "code",
   "execution_count": 32,
   "metadata": {},
   "outputs": [
    {
     "name": "stdout",
     "output_type": "stream",
     "text": [
      "[mlrun] 2020-06-25 13:32:40,454 using in-cluster config.\n"
     ]
    },
    {
     "data": {
      "text/html": [
       "Experiment link <a href=\"https://dashboard.default-tenant.app.cs-mlrun-test.iguazio-c0.com/pipelines/#/experiments/details/6b603647-1896-4ee1-a1c3-b93b4eef4ab0\" target=\"_blank\" >here</a>"
      ],
      "text/plain": [
       "<IPython.core.display.HTML object>"
      ]
     },
     "metadata": {},
     "output_type": "display_data"
    },
    {
     "data": {
      "text/html": [
       "Run link <a href=\"https://dashboard.default-tenant.app.cs-mlrun-test.iguazio-c0.com/pipelines/#/runs/details/ef63afaf-542c-4747-a63f-e18471650e43\" target=\"_blank\" >here</a>"
      ],
      "text/plain": [
       "<IPython.core.display.HTML object>"
      ]
     },
     "metadata": {},
     "output_type": "display_data"
    },
    {
     "name": "stdout",
     "output_type": "stream",
     "text": [
      "[mlrun] 2020-06-25 13:32:41,432 Pipeline run id=ef63afaf-542c-4747-a63f-e18471650e43, check UI or DB for progress\n"
     ]
    }
   ],
   "source": [
    "run_id = project.run(\n",
    "    'main',\n",
    "    arguments={}, \n",
    "    artifact_path=path.abspath(path.join('pipeline','{{workflow.uid}}')), \n",
    "    dirty=True)"
   ]
  },
  {
   "cell_type": "markdown",
   "metadata": {},
   "source": [
    "<a id=\"gs-pipeline-workflow-run-output-review\"></a>"
   ]
  },
  {
   "cell_type": "markdown",
   "metadata": {},
   "source": [
    "### Review the Run Output"
   ]
  },
  {
   "cell_type": "markdown",
   "metadata": {},
   "source": [
    "The run output contains hyperlinks to the relevant sections for your workflow in the platform dashboard's pipelines dashboard (**Pipelines**):\n",
    "\n",
    "Select the **Experiments link** to view information about the executed experiments.\n",
    "<br><br>\n",
    "![getting_started-pipeline](./assets/getting_started-pipeline-experiment.png)\n",
    "\n",
    "Select the **Run link** to view the pipeline execution.\n",
    "The following image illustrates the execution graph for a completed run:\n",
    "<br><br>\n",
    "![getting_started-pipeline](./assets/getting_started-pipeline.png)"
   ]
  },
  {
   "cell_type": "markdown",
   "metadata": {},
   "source": [
    "<a id=\"gs-pipeline-workflow-track-execution\"></a>"
   ]
  },
  {
   "cell_type": "markdown",
   "metadata": {},
   "source": [
    "### Track the Pipeline Workflow Execution"
   ]
  },
  {
   "cell_type": "markdown",
   "metadata": {},
   "source": [
    "You can use the following code to view the information for your pipeline workflow execution &mdash; including inputs and outputs, run results, and artifacts.\n",
    "\n",
    "The code uses the `get_run_db` MLRun method to get an MLRun DB object for your project's MLRun database/API service (\"the MLRun DB\"), and the `connect` method to connect to the DB.\n",
    "The returned database object is stored in a `db` variable, which can then be used to run additional methods for performing different operations on the database.\n",
    "\n",
    "The code uses the `list_runs` method to list all runs for the current workflow.\n",
    "The workflow is referenced by using the workflow ID that was returned for the workflow execution and saved to the `run_id` variable."
   ]
  },
  {
   "cell_type": "code",
   "execution_count": 33,
   "metadata": {},
   "outputs": [
    {
     "data": {
      "text/html": [
       "<style> \n",
       ".dictlist {\n",
       "  background-color: #b3edff; \n",
       "  text-align: center; \n",
       "  margin: 4px; \n",
       "  border-radius: 3px; padding: 0px 3px 1px 3px; display: inline-block;}\n",
       ".artifact {\n",
       "  cursor: pointer; \n",
       "  background-color: #ffe6cc; \n",
       "  text-align: left; \n",
       "  margin: 4px; border-radius: 3px; padding: 0px 3px 1px 3px; display: inline-block;\n",
       "}\n",
       "div.block.hidden {\n",
       "  display: none;\n",
       "}\n",
       ".clickable {\n",
       "  cursor: pointer;\n",
       "}\n",
       ".ellipsis {\n",
       "  display: inline-block;\n",
       "  max-width: 60px;\n",
       "  white-space: nowrap;\n",
       "  overflow: hidden;\n",
       "  text-overflow: ellipsis;\n",
       "}\n",
       ".master-wrapper {\n",
       "  display: flex;\n",
       "  flex-flow: row nowrap;\n",
       "  justify-content: flex-start;\n",
       "  align-items: stretch;\n",
       "}\n",
       ".master-tbl {\n",
       "  flex: 3\n",
       "}\n",
       ".master-wrapper > div {\n",
       "  margin: 4px;\n",
       "  padding: 10px;\n",
       "}\n",
       "iframe.fileview {\n",
       "  border: 0 none;\n",
       "  height: 100%;\n",
       "  width: 100%;\n",
       "  white-space: pre-wrap;\n",
       "}\n",
       ".pane-header-title {\n",
       "  width: 80%;\n",
       "  font-weight: 500;\n",
       "}\n",
       ".pane-header {\n",
       "  line-height: 1;\n",
       "  background-color: #ffe6cc;\n",
       "  padding: 3px;\n",
       "}\n",
       ".pane-header .close {\n",
       "  font-size: 20px;\n",
       "  font-weight: 700;\n",
       "  float: right;\n",
       "  margin-top: -5px;\n",
       "}\n",
       ".master-wrapper .right-pane {\n",
       "  border: 1px inset silver;\n",
       "  width: 40%;\n",
       "  min-height: 300px;\n",
       "  flex: 3\n",
       "  min-width: 500px;\n",
       "}\n",
       ".master-wrapper * {\n",
       "  box-sizing: border-box;\n",
       "}\n",
       "</style><script>\n",
       "function copyToClipboard(fld) {\n",
       "    if (document.queryCommandSupported && document.queryCommandSupported('copy')) {\n",
       "        var textarea = document.createElement('textarea');\n",
       "        textarea.textContent = fld.innerHTML;\n",
       "        textarea.style.position = 'fixed';\n",
       "        document.body.appendChild(textarea);\n",
       "        textarea.select();\n",
       "\n",
       "        try {\n",
       "            return document.execCommand('copy'); // Security exception may be thrown by some browsers.\n",
       "        } catch (ex) {\n",
       "\n",
       "        } finally {\n",
       "            document.body.removeChild(textarea);\n",
       "        }\n",
       "    }\n",
       "}\n",
       "function expandPanel(el) {\n",
       "  const panelName = \"#\" + el.getAttribute('paneName');\n",
       "  console.log(el.title);\n",
       "\n",
       "  document.querySelector(panelName + \"-title\").innerHTML = el.title\n",
       "  iframe = document.querySelector(panelName + \"-body\");\n",
       "  \n",
       "  const tblcss = `<style> body { font-family: Arial, Helvetica, sans-serif;}\n",
       "    #csv { margin-bottom: 15px; }\n",
       "    #csv table { border-collapse: collapse;}\n",
       "    #csv table td { padding: 4px 8px; border: 1px solid silver;} </style>`;\n",
       "\n",
       "  function csvToHtmlTable(str) {\n",
       "    return '<div id=\"csv\"><table><tr><td>' +  str.replace(/[\\n\\r]+$/g, '').replace(/[\\n\\r]+/g, '</td></tr><tr><td>')\n",
       "      .replace(/,/g, '</td><td>') + '</td></tr></table></div>';\n",
       "  }\n",
       "  \n",
       "  function reqListener () {\n",
       "    if (el.title.endsWith(\".csv\")) {\n",
       "      iframe.setAttribute(\"srcdoc\", tblcss + csvToHtmlTable(this.responseText));\n",
       "    } else {\n",
       "      iframe.setAttribute(\"srcdoc\", this.responseText);\n",
       "    }  \n",
       "    console.log(this.responseText);\n",
       "  }\n",
       "\n",
       "  const oReq = new XMLHttpRequest();\n",
       "  oReq.addEventListener(\"load\", reqListener);\n",
       "  oReq.open(\"GET\", el.title);\n",
       "  oReq.send();\n",
       "  \n",
       "  \n",
       "  //iframe.src = el.title;\n",
       "  const resultPane = document.querySelector(panelName + \"-pane\");\n",
       "  if (resultPane.classList.contains(\"hidden\")) {\n",
       "    resultPane.classList.remove(\"hidden\");\n",
       "  }\n",
       "}\n",
       "function closePanel(el) {\n",
       "  const panelName = \"#\" + el.getAttribute('paneName')\n",
       "  const resultPane = document.querySelector(panelName + \"-pane\");\n",
       "  if (!resultPane.classList.contains(\"hidden\")) {\n",
       "    resultPane.classList.add(\"hidden\");\n",
       "  }\n",
       "}\n",
       "\n",
       "</script>\n",
       "<div class=\"master-wrapper\">\n",
       "  <div class=\"block master-tbl\"><div>\n",
       "<style scoped>\n",
       "    .dataframe tbody tr th:only-of-type {\n",
       "        vertical-align: middle;\n",
       "    }\n",
       "\n",
       "    .dataframe tbody tr th {\n",
       "        vertical-align: top;\n",
       "    }\n",
       "\n",
       "    .dataframe thead th {\n",
       "        text-align: right;\n",
       "    }\n",
       "</style>\n",
       "<table border=\"1\" class=\"dataframe\">\n",
       "  <thead>\n",
       "    <tr style=\"text-align: right;\">\n",
       "      <th>project</th>\n",
       "      <th>uid</th>\n",
       "      <th>iter</th>\n",
       "      <th>start</th>\n",
       "      <th>state</th>\n",
       "      <th>name</th>\n",
       "      <th>labels</th>\n",
       "      <th>inputs</th>\n",
       "      <th>parameters</th>\n",
       "      <th>results</th>\n",
       "      <th>artifacts</th>\n",
       "    </tr>\n",
       "  </thead>\n",
       "  <tbody>\n",
       "    <tr>\n",
       "      <td>getting-started-iris-iguazio</td>\n",
       "      <td><div title=\"3f627b6c4bb24edd97a6e42392652de9\"><a href=\"https://mlrun-ui.default-tenant.app.cs-mlrun-test.iguazio-c0.com/projects/getting-started-iris-iguazio/jobs/3f627b6c4bb24edd97a6e42392652de9/info\" target=\"_blank\" >...92652de9</a></div></td>\n",
       "      <td>0</td>\n",
       "      <td>Jun 25 13:33:40</td>\n",
       "      <td>completed</td>\n",
       "      <td>serving-tester</td>\n",
       "      <td><div class=\"dictlist\">v3io_user=iguazio</div><div class=\"dictlist\">owner=iguazio</div><div class=\"dictlist\">workflow=ef63afaf-542c-4747-a63f-e18471650e43</div><div class=\"dictlist\">kind=job</div><div class=\"dictlist\">host=serving-tester-7qrdk</div></td>\n",
       "      <td><div title=\"store://getting-started-iris-iguazio/train_test_set#ef63afaf-542c-4747-a63f-e18471650e43\">table</div></td>\n",
       "      <td><div class=\"dictlist\">addr=http://54.209.189.220:31002</div><div class=\"dictlist\">model=iris_dataset_v1</div></td>\n",
       "      <td><div class=\"dictlist\">total_tests=15</div><div class=\"dictlist\">errors=0</div><div class=\"dictlist\">match=14</div><div class=\"dictlist\">avg_latency=16255</div><div class=\"dictlist\">min_latency=13736</div><div class=\"dictlist\">max_latency=30032</div></td>\n",
       "      <td><div class=\"artifact\" onclick=\"expandPanel(this)\" paneName=\"result57362889\" title=\"/files/getting-started-tutorial/pipeline/ef63afaf-542c-4747-a63f-e18471650e43/latency.html\">latency</div></td>\n",
       "    </tr>\n",
       "    <tr>\n",
       "      <td>getting-started-iris-iguazio</td>\n",
       "      <td><div title=\"e3fa9009da2c4c869f6c506280b35ad2\"><a href=\"https://mlrun-ui.default-tenant.app.cs-mlrun-test.iguazio-c0.com/projects/getting-started-iris-iguazio/jobs/e3fa9009da2c4c869f6c506280b35ad2/info\" target=\"_blank\" >...80b35ad2</a></div></td>\n",
       "      <td>0</td>\n",
       "      <td>Jun 25 13:33:25</td>\n",
       "      <td>completed</td>\n",
       "      <td>test</td>\n",
       "      <td><div class=\"dictlist\">v3io_user=iguazio</div><div class=\"dictlist\">owner=iguazio</div><div class=\"dictlist\">workflow=ef63afaf-542c-4747-a63f-e18471650e43</div><div class=\"dictlist\">kind=job</div><div class=\"dictlist\">host=test-mt7gx</div></td>\n",
       "      <td><div title=\"store://getting-started-iris-iguazio/train_model#ef63afaf-542c-4747-a63f-e18471650e43\">models_path</div><div title=\"store://getting-started-iris-iguazio/train_test_set#ef63afaf-542c-4747-a63f-e18471650e43\">test_set</div></td>\n",
       "      <td><div class=\"dictlist\">label_column=label</div></td>\n",
       "      <td><div class=\"dictlist\">accuracy=0.9333333333333333</div><div class=\"dictlist\">test-error=0.06666666666666667</div><div class=\"dictlist\">auc-micro=0.9666666666666668</div><div class=\"dictlist\">auc-weighted=0.9888888888888889</div><div class=\"dictlist\">f1-score=0.9137254901960784</div><div class=\"dictlist\">precision_score=0.8888888888888888</div><div class=\"dictlist\">recall_score=0.9629629629629629</div></td>\n",
       "      <td><div class=\"artifact\" onclick=\"expandPanel(this)\" paneName=\"result57362889\" title=\"/files/getting-started-tutorial/pipeline/ef63afaf-542c-4747-a63f-e18471650e43/plots/confusion-matrix.html\">confusion-matrix</div><div class=\"artifact\" onclick=\"expandPanel(this)\" paneName=\"result57362889\" title=\"/files/getting-started-tutorial/pipeline/ef63afaf-542c-4747-a63f-e18471650e43/plots/feature-importances.html\">feature-importances</div><div class=\"artifact\" onclick=\"expandPanel(this)\" paneName=\"result57362889\" title=\"/files/getting-started-tutorial/pipeline/ef63afaf-542c-4747-a63f-e18471650e43/plots/precision-recall-multiclass.html\">precision-recall-multiclass</div><div class=\"artifact\" onclick=\"expandPanel(this)\" paneName=\"result57362889\" title=\"/files/getting-started-tutorial/pipeline/ef63afaf-542c-4747-a63f-e18471650e43/plots/roc-multiclass.html\">roc-multiclass</div><div title=\"/User/getting-started-tutorial/pipeline/ef63afaf-542c-4747-a63f-e18471650e43/test_set_preds.parquet\">test_set_preds</div></td>\n",
       "    </tr>\n",
       "    <tr>\n",
       "      <td>getting-started-iris-iguazio</td>\n",
       "      <td><div title=\"8ecdcce2d6de4eafbbb797b722843bcb\"><a href=\"https://mlrun-ui.default-tenant.app.cs-mlrun-test.iguazio-c0.com/projects/getting-started-iris-iguazio/jobs/8ecdcce2d6de4eafbbb797b722843bcb/info\" target=\"_blank\" >...22843bcb</a></div></td>\n",
       "      <td>0</td>\n",
       "      <td>Jun 25 13:33:04</td>\n",
       "      <td>completed</td>\n",
       "      <td>summary</td>\n",
       "      <td><div class=\"dictlist\">v3io_user=iguazio</div><div class=\"dictlist\">owner=iguazio</div><div class=\"dictlist\">workflow=ef63afaf-542c-4747-a63f-e18471650e43</div><div class=\"dictlist\">kind=job</div><div class=\"dictlist\">host=summary-qbr87</div></td>\n",
       "      <td><div title=\"store://getting-started-iris-iguazio/get-data_iris_dataset#ef63afaf-542c-4747-a63f-e18471650e43\">table</div></td>\n",
       "      <td><div class=\"dictlist\">label_column=label</div></td>\n",
       "      <td></td>\n",
       "      <td><div class=\"artifact\" onclick=\"expandPanel(this)\" paneName=\"result57362889\" title=\"/files/getting-started-tutorial/pipeline/ef63afaf-542c-4747-a63f-e18471650e43/plots/hist.html\">histograms</div><div class=\"artifact\" onclick=\"expandPanel(this)\" paneName=\"result57362889\" title=\"/files/getting-started-tutorial/pipeline/ef63afaf-542c-4747-a63f-e18471650e43/plots/imbalance.html\">imbalance</div><div class=\"artifact\" onclick=\"expandPanel(this)\" paneName=\"result57362889\" title=\"/files/getting-started-tutorial/pipeline/ef63afaf-542c-4747-a63f-e18471650e43/plots/imbalance-weights-vec.csv\">imbalance-weights-vec</div><div class=\"artifact\" onclick=\"expandPanel(this)\" paneName=\"result57362889\" title=\"/files/getting-started-tutorial/pipeline/ef63afaf-542c-4747-a63f-e18471650e43/plots/correlation-matrix.csv\">correlation-matrix</div><div class=\"artifact\" onclick=\"expandPanel(this)\" paneName=\"result57362889\" title=\"/files/getting-started-tutorial/pipeline/ef63afaf-542c-4747-a63f-e18471650e43/plots/corr.html\">correlation</div></td>\n",
       "    </tr>\n",
       "    <tr>\n",
       "      <td>getting-started-iris-iguazio</td>\n",
       "      <td><div title=\"882047f24a204f16ba78eec3424db634\"><a href=\"https://mlrun-ui.default-tenant.app.cs-mlrun-test.iguazio-c0.com/projects/getting-started-iris-iguazio/jobs/882047f24a204f16ba78eec3424db634/info\" target=\"_blank\" >...424db634</a></div></td>\n",
       "      <td>0</td>\n",
       "      <td>Jun 25 13:33:03</td>\n",
       "      <td>completed</td>\n",
       "      <td>train</td>\n",
       "      <td><div class=\"dictlist\">v3io_user=iguazio</div><div class=\"dictlist\">owner=iguazio</div><div class=\"dictlist\">workflow=ef63afaf-542c-4747-a63f-e18471650e43</div><div class=\"dictlist\">kind=job</div></td>\n",
       "      <td><div title=\"store://getting-started-iris-iguazio/get-data_iris_dataset#ef63afaf-542c-4747-a63f-e18471650e43\">dataset</div></td>\n",
       "      <td><div class=\"dictlist\">sample=-1</div><div class=\"dictlist\">label_column=label</div><div class=\"dictlist\">test_size=0.1</div></td>\n",
       "      <td><div class=\"dictlist\">best_iteration=1</div><div class=\"dictlist\">accuracy=0.9705882352941176</div><div class=\"dictlist\">test-error=0.029411764705882353</div><div class=\"dictlist\">auc-micro=0.9969723183391004</div><div class=\"dictlist\">auc-weighted=0.9949732620320856</div><div class=\"dictlist\">f1-score=0.9679633867276888</div><div class=\"dictlist\">precision_score=0.9666666666666667</div><div class=\"dictlist\">recall_score=0.9722222222222222</div></td>\n",
       "      <td><div title=\"/User/getting-started-tutorial/pipeline/ef63afaf-542c-4747-a63f-e18471650e43/data/1/test_set.parquet\">test_set</div><div class=\"artifact\" onclick=\"expandPanel(this)\" paneName=\"result57362889\" title=\"/files/getting-started-tutorial/pipeline/ef63afaf-542c-4747-a63f-e18471650e43/model/plots/1/confusion-matrix.html\">confusion-matrix</div><div class=\"artifact\" onclick=\"expandPanel(this)\" paneName=\"result57362889\" title=\"/files/getting-started-tutorial/pipeline/ef63afaf-542c-4747-a63f-e18471650e43/model/plots/1/feature-importances.html\">feature-importances</div><div class=\"artifact\" onclick=\"expandPanel(this)\" paneName=\"result57362889\" title=\"/files/getting-started-tutorial/pipeline/ef63afaf-542c-4747-a63f-e18471650e43/model/plots/1/precision-recall-multiclass.html\">precision-recall-multiclass</div><div class=\"artifact\" onclick=\"expandPanel(this)\" paneName=\"result57362889\" title=\"/files/getting-started-tutorial/pipeline/ef63afaf-542c-4747-a63f-e18471650e43/model/plots/1/roc-multiclass.html\">roc-multiclass</div><div title=\"/User/getting-started-tutorial/pipeline/ef63afaf-542c-4747-a63f-e18471650e43/model/1\">model</div><div class=\"artifact\" onclick=\"expandPanel(this)\" paneName=\"result57362889\" title=\"/files/getting-started-tutorial/pipeline/ef63afaf-542c-4747-a63f-e18471650e43/iteration_results.csv\">iteration_results</div></td>\n",
       "    </tr>\n",
       "    <tr>\n",
       "      <td>getting-started-iris-iguazio</td>\n",
       "      <td><div title=\"3513f922fa4d4bf5a19c25e3e3e90146\"><a href=\"https://mlrun-ui.default-tenant.app.cs-mlrun-test.iguazio-c0.com/projects/getting-started-iris-iguazio/jobs/3513f922fa4d4bf5a19c25e3e3e90146/info\" target=\"_blank\" >...e3e90146</a></div></td>\n",
       "      <td>0</td>\n",
       "      <td>Jun 25 13:32:49</td>\n",
       "      <td>completed</td>\n",
       "      <td>get-data</td>\n",
       "      <td><div class=\"dictlist\">v3io_user=iguazio</div><div class=\"dictlist\">owner=iguazio</div><div class=\"dictlist\">workflow=ef63afaf-542c-4747-a63f-e18471650e43</div><div class=\"dictlist\">kind=job</div><div class=\"dictlist\">host=get-data-9pl5w</div></td>\n",
       "      <td><div title=\"http://iguazio-sample-data.s3.amazonaws.com/iris_dataset.csv\">source_url</div></td>\n",
       "      <td><div class=\"dictlist\">format=pq</div></td>\n",
       "      <td></td>\n",
       "      <td><div title=\"/User/getting-started-tutorial/pipeline/ef63afaf-542c-4747-a63f-e18471650e43/data/iris_dataset.parquet\">iris_dataset</div></td>\n",
       "    </tr>\n",
       "  </tbody>\n",
       "</table>\n",
       "</div></div>\n",
       "  <div id=\"result57362889-pane\" class=\"right-pane block hidden\">\n",
       "    <div class=\"pane-header\">\n",
       "      <span id=\"result57362889-title\" class=\"pane-header-title\">Title</span>\n",
       "      <span onclick=\"closePanel(this)\" paneName=\"result57362889\" class=\"close clickable\">&times;</span>\n",
       "    </div>\n",
       "    <iframe class=\"fileview\" id=\"result57362889-body\"></iframe>\n",
       "  </div>\n",
       "</div>\n"
      ],
      "text/plain": [
       "<IPython.core.display.HTML object>"
      ]
     },
     "metadata": {},
     "output_type": "display_data"
    }
   ],
   "source": [
    "from mlrun import get_run_db\n",
    "db = get_run_db().connect()\n",
    "db.list_runs(project=project.name, labels=f'workflow={run_id}').show()"
   ]
  },
  {
   "cell_type": "markdown",
   "metadata": {},
   "source": [
    "<a id=\"gs-serve-model\"></a>"
   ]
  },
  {
   "cell_type": "markdown",
   "metadata": {},
   "source": [
    "### Serve Your Model"
   ]
  },
  {
   "cell_type": "markdown",
   "metadata": {},
   "source": [
    "You can now run the pipeline's model-serving function &mdash; `getting-started-serving` (which is the metadata name that you gave the project's [`serving` function](#gs-ml-pipeline-add-functions) in the [workflow definition](#gs-pipeline-workflow-define-n-save)): append `iris_dataset_v1/predict` to the function's URL to create the `POST` URL; change the body type to `JSON`; and add the following text to the request body:\n",
    "```json\n",
    "{\"instances\": [[5.1, 3.5, 1.4, 0.2]]}\n",
    "```\n",
    "You can perform these steps from the platform dashboard: select **Projects** from the side navigation menu, select your project (\"getting-started-iris\"), and then select the `getting-stated=serving` function and execute the required steps, as demonstrated in the following dashboard flow:\n",
    "<br><br>\n",
    "![getting_started-pipeline](./assets/getting_started-model_serving_test.gif)"
   ]
  },
  {
   "cell_type": "markdown",
   "metadata": {},
   "source": [
    "<a id=\"gs-done\"></a>"
   ]
  },
  {
   "cell_type": "markdown",
   "metadata": {},
   "source": [
    "## Done!"
   ]
  },
  {
   "cell_type": "markdown",
   "metadata": {},
   "source": [
    "Congratulation. You've completed your first Iguazio Data Science Platform tutorial!.<br>\n",
    "To learn more, go to the **demos** tutorial-notebooks directory and check out the provided end-to-end use-case demo applications."
   ]
  }
 ],
 "metadata": {
  "kernelspec": {
   "display_name": "Python 3",
   "language": "python",
   "name": "python3"
  },
  "language_info": {
   "codemirror_mode": {
    "name": "ipython",
    "version": 3
   },
   "file_extension": ".py",
   "mimetype": "text/x-python",
   "name": "python",
   "nbconvert_exporter": "python",
   "pygments_lexer": "ipython3",
   "version": "3.6.8"
  },
  "toc-showcode": false,
  "toc-showmarkdowntxt": false
 },
 "nbformat": 4,
 "nbformat_minor": 4
}