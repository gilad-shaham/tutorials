{
 "cells": [
  {
   "cell_type": "code",
   "execution_count": 5,
   "metadata": {},
   "outputs": [],
   "source": [
    "%run config.py"
   ]
  },
  {
   "cell_type": "code",
   "execution_count": 6,
   "metadata": {},
   "outputs": [],
   "source": [
    "for stream_name, stream_config in STREAM_CONFIGS.items():\n",
    "    try:\n",
    "        resp = v3io_client.delete_stream(container=CONTAINER, path=stream_config['path'])\n",
    "        print(f'{stream_name} deletion returned with status {resp.status_code}')\n",
    "    except:\n",
    "        pass"
   ]
  },
  {
   "cell_type": "code",
   "execution_count": 7,
   "metadata": {},
   "outputs": [
    {
     "name": "stdout",
     "output_type": "stream",
     "text": [
      "Create Stream call for stream generated-stream returned with status 204, and context: b''\n",
      "Create Stream call for stream incoming-events-stream returned with status 204, and context: b''\n",
      "Create Stream call for stream enriched-events-stream returned with status 204, and context: b''\n",
      "Create Stream call for stream serving-stream returned with status 204, and context: b''\n",
      "Create Stream call for stream inference-stream returned with status 204, and context: b''\n"
     ]
    }
   ],
   "source": [
    "for stream_name, stream_config in STREAM_CONFIGS.items():\n",
    "    resp = v3io_client.create_stream(container=CONTAINER,\n",
    "                                     path=stream_config['path'],\n",
    "                           shard_count=stream_config['shard_count'])\n",
    "    print(f'Create Stream call for stream {stream_name} returned with status {resp.status_code}, and context: {resp.body}')"
   ]
  }
 ],
 "metadata": {
  "kernelspec": {
   "display_name": "Python 3",
   "language": "python",
   "name": "python3"
  },
  "language_info": {
   "codemirror_mode": {
    "name": "ipython",
    "version": 3
   },
   "file_extension": ".py",
   "mimetype": "text/x-python",
   "name": "python",
   "nbconvert_exporter": "python",
   "pygments_lexer": "ipython3",
   "version": "3.7.6"
  }
 },
 "nbformat": 4,
 "nbformat_minor": 4
}
